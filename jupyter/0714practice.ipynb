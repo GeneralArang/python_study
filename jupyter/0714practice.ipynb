{
 "cells": [
  {
   "cell_type": "code",
   "execution_count": 12,
   "id": "96501932",
   "metadata": {},
   "outputs": [
    {
     "name": "stdout",
     "output_type": "stream",
     "text": [
      "[61, 2, 43, 4, 5, 6, 7, 8, 9]\n",
      "<class 'list'>\n",
      "0 61\n",
      "1 2\n",
      "2 43\n",
      "3 4\n",
      "4 5\n",
      "5 6\n",
      "6 7\n",
      "7 8\n",
      "8 9\n",
      "0\n",
      "10\n",
      "20\n",
      "30\n",
      "40\n",
      "50\n",
      "60\n",
      "70\n",
      "80\n"
     ]
    }
   ],
   "source": [
    "score = [61,2,43,4,5,6,7,8,9]\n",
    "print(score)\n",
    "print(type(score))\n",
    "id(score)\n",
    "score[0]\n",
    "for i in range(len(score)):\n",
    "    print(i,score[i])\n",
    "for i in range(len(score)):\n",
    "    score[i] = i*10\n",
    "    print(score[i])"
   ]
  },
  {
   "cell_type": "code",
   "execution_count": null,
   "id": "0968f8ce",
   "metadata": {},
   "outputs": [
    {
     "name": "stdout",
     "output_type": "stream",
     "text": [
      "[]\n",
      "['H', 'e', 'l', 'l', 'o', ' ', 's', 'h', 'i', 't', ' ', 'o', 'f', ' ', 'w', 'o', 'r', 'l', 'd']\n",
      "[0, 1, 2, 3, 4]\n"
     ]
    }
   ],
   "source": [
    "list1 = list()\n",
    "print(list1)\n",
    "list2 = list(\"Hello\")\n",
    "print(list2)\n",
    "list3 = list(range(0,5))\n",
    "print(list3)\n",
    "list4 = [12,\"dog\",180.14]"
   ]
  },
  {
   "cell_type": "code",
   "execution_count": null,
   "id": "8285db67",
   "metadata": {},
   "outputs": [
    {
     "name": "stdout",
     "output_type": "stream",
     "text": [
      "m t e i\n",
      "<class 'str'>\n",
      "['m', 'a', 'y', ' ', 't', 'h', 'e', ' ', 'f', 'o', 'r', 'c', 'e', ' ', 'b', 'e', ' ', 'w', 'i', 't', 'h', ' ', 'y', 'o', 'u']\n",
      "즈\n",
      "네\n"
     ]
    }
   ],
   "source": [
    "text = \"may the force be with you\"\n",
    "print(text[0], text[4], text[6], text[-7])\n",
    "list1 = list(text)\n",
    "print(type(text))\n",
    "print(list1)\n",
    "list2 = [\"바나나\", \"터미네이터\", \"스타워즈\", \"어벤져스\"]\n",
    "print(list2[2][3])#list 안의 list로 만들어 순서를 이용하여 데이터를 뽑는 문법\n",
    "two = list2[1]\n",
    "print(two[2])\n"
   ]
  },
  {
   "cell_type": "code",
   "execution_count": 30,
   "id": "c9c8fc94",
   "metadata": {},
   "outputs": [
    {
     "name": "stdout",
     "output_type": "stream",
     "text": [
      "[2, 3, 4, 5]\n",
      "<class 'list'>\n",
      "[1, 2, 'qwer', 3, 4, 5, 6, 7, 8, 9]\n"
     ]
    }
   ],
   "source": [
    "num = [1,2,3,4,5,6,7,8,9]\n",
    "print(num[-8:-4])\n",
    "print(type(num))\n",
    "num.insert(2,\"qwer\")\n",
    "print(num)"
   ]
  },
  {
   "cell_type": "code",
   "execution_count": 37,
   "id": "b7ec2070",
   "metadata": {},
   "outputs": [
    {
     "name": "stdout",
     "output_type": "stream",
     "text": [
      "있네?\n",
      "2\n",
      "['슈퍼맨', '블랙위도우', '아이언맨', '캡아', '토르', '스파이더맨']\n",
      "['블랙위도우', '슈퍼맨', '스파이더맨', '아이언맨', '캡아', '토르']\n",
      "['슈퍼맨', '블랙위도우', '아이언맨', '캡아', '토르', '스파이더맨']\n"
     ]
    }
   ],
   "source": [
    "heros = [\"슈퍼맨\", \"블랙위도우\", \"아이언맨\", \"캡아\", \"토르\", \"스파이더맨\"]\n",
    "if \"슈퍼맨\" in heros:\n",
    "    print(\"있네?\")\n",
    "index = heros.index(\"아이언맨\")\n",
    "print(index)\n",
    "heros.remove\n",
    "print(heros)\n",
    "s_heros = sorted(heros)\n",
    "print(s_heros)\n",
    "print(heros)"
   ]
  },
  {
   "cell_type": "code",
   "execution_count": null,
   "id": "8b46afe8",
   "metadata": {},
   "outputs": [
    {
     "name": "stdout",
     "output_type": "stream",
     "text": [
      "['be', 'force', 'may', 'the', 'with', 'you']\n",
      "[7, 5, 5, 4, 3, 3, 2, 1]\n"
     ]
    }
   ],
   "source": [
    "word = sorted(\"may the force be with you\".split(),key=str.lower)#문장은 1개로 인식하기 때문에 단어 슬라이싱을 해서 리스트로 표현\n",
    "print(word)\n",
    "numb = sorted([4,5,2,3,5,7,1,3],reverse=True)#순서를 바꿔서 표현. ''부울''형\n",
    "print(numb)"
   ]
  },
  {
   "cell_type": "code",
   "execution_count": null,
   "id": "2f9dbe5a",
   "metadata": {},
   "outputs": [
    {
     "name": "stdout",
     "output_type": "stream",
     "text": [
      "[\"i'm your father\"]\n"
     ]
    }
   ],
   "source": [
    "statement = \"i'm your father\"\n",
    "li = statement.split(\",\")#쉼표(기재한)기준으로 문자열을 나누는 함수\n",
    "print(li)"
   ]
  },
  {
   "cell_type": "code",
   "execution_count": null,
   "id": "5d93803b",
   "metadata": {},
   "outputs": [
    {
     "name": "stdout",
     "output_type": "stream",
     "text": [
      "값들을 입력하고 끝내려면 end를 입력하시오\n",
      "[3, 4, 2, 5, 4, 3, 4, 2, 4]\n",
      "31\n"
     ]
    }
   ],
   "source": [
    "total_sum = 0\n",
    "a = list()\n",
    "print(\"값들을 입력하고 끝내려면 end를 입력하시오\")\n",
    "for i in range(0,1000):\n",
    "    val = input(\"값을 입력하시오\")\n",
    "    if val == \"end\":\n",
    "        break\n",
    "    a.append(int(val)) #이런 방식으로 쓰면 비어있는 리스트에 for구문이 돌때마다 차례대로 리스트값으로 추가된다. 인풋을 int로 받으면 숫자가 되기때문에 문자를 쓰고 싶으면 나중에 값을 인트로 바꿔야한다.\n",
    "\n",
    "for j in range(0,i):\n",
    "    total_sum = total_sum + a[j]\n",
    "\n",
    "print(a)\n",
    "print(total_sum)"
   ]
  },
  {
   "cell_type": "code",
   "execution_count": null,
   "id": "7d77183f",
   "metadata": {},
   "outputs": [
    {
     "name": "stdout",
     "output_type": "stream",
     "text": [
      "[72, 22, 51, 83, 91, 49, 52, 91, 88, 25]\n"
     ]
    }
   ],
   "source": [
    "import random\n",
    "Num_list = []\n",
    "for i in range(10):\n",
    "    a = random.sample(range(1,100),1)[0]#sample은 항상 리스트를 반환하므로 [0]을 붙여야 한다.\n",
    "    Num_list.append(a)\n",
    "\n",
    "print(Num_list)"
   ]
  },
  {
   "cell_type": "code",
   "execution_count": null,
   "id": "4aa99cbf",
   "metadata": {},
   "outputs": [],
   "source": [
    "def printStar(list_star)\n",
    "    for i in range(len(list_star)):\n",
    "        if list_star[i]<10:\n",
    "            print(list_star[i],\"   \",\"*\"*list_star[i])\n",
    "        else:\n",
    "            print()"
   ]
  },
  {
   "cell_type": "code",
   "execution_count": null,
   "id": "dfce7099",
   "metadata": {},
   "outputs": [
    {
     "name": "stdout",
     "output_type": "stream",
     "text": [
      "[0, 1, 2, 3, 4]\n",
      "[0, 1, 2, 3, 4]\n"
     ]
    }
   ],
   "source": [
    "a = [x for x in range(5)]  #컴프리헨션 -> 찾아서 이해해야할듯\n",
    "b = [0,1,2,3,4]\n",
    "print(a)\n",
    "print(b)"
   ]
  },
  {
   "cell_type": "code",
   "execution_count": null,
   "id": "2f99c93a",
   "metadata": {},
   "outputs": [
    {
     "name": "stdout",
     "output_type": "stream",
     "text": [
      "level civic deed radar bob pop \n",
      "첫글자와 마지막 글자가 같은 단어의 개수는 6개 입니다.\n"
     ]
    }
   ],
   "source": [
    "words = [\"level\", \"apple\", \"banana\", \"civic\", \"deed\", \"robot\", \"radar\", \"bob\", \"hello\", \"pop\"]\n",
    "\n",
    "count = 0\n",
    "for i in range(len(words)): #list의 인덱스 개수는 len(list)로 구한다.\n",
    "    divide_words = words[i] #words의 데이터를 하나하나를 리스트로 만드는 방법\n",
    "    if divide_words[0] == divide_words[-1]: #첫번째 마지막 비교하는 방법 -> 인덱스 비교는 []를 쓰자. ()는 안됨\n",
    "        print(divide_words,end = \" \")\n",
    "        count += 1\n",
    "print(f\"\\n첫글자와 마지막 글자가 같은 단어의 개수는 {count}개 입니다.\")"
   ]
  },
  {
   "cell_type": "code",
   "execution_count": 74,
   "id": "2b686b2d",
   "metadata": {},
   "outputs": [
    {
     "name": "stdout",
     "output_type": "stream",
     "text": [
      "[1, 2, 3, 4, 5]\n",
      "(1, 2, 3, 4, 5)\n",
      "<class 'tuple'>\n"
     ]
    }
   ],
   "source": [
    "t1 = [1,2,3,4,5]\n",
    "t2 = tuple(t1)\n",
    "print(t1)\n",
    "print(t2)\n",
    "t3 = (10,)\n",
    "print(type(t3))"
   ]
  },
  {
   "cell_type": "code",
   "execution_count": 77,
   "id": "a28c1c22",
   "metadata": {},
   "outputs": [
    {
     "name": "stdout",
     "output_type": "stream",
     "text": [
      "(1, 2, 3, 4, 5, 't', 'e', 's', 'r', 'e')\n"
     ]
    }
   ],
   "source": [
    "t1 = (1,2,3,4,5)\n",
    "t2 = (\"t\",\"e\",\"s\",\"r\",\"e\")\n",
    "t3 = t1 + t2\n",
    "print(t3)\n"
   ]
  },
  {
   "cell_type": "code",
   "execution_count": 78,
   "id": "85eba2fe",
   "metadata": {},
   "outputs": [
    {
     "data": {
      "text/plain": [
       "True"
      ]
     },
     "execution_count": 78,
     "metadata": {},
     "output_type": "execute_result"
    }
   ],
   "source": [
    "t1 = (1,2,3,4,5)\n",
    "3 in t1"
   ]
  },
  {
   "cell_type": "code",
   "execution_count": 79,
   "id": "cae5ed60",
   "metadata": {},
   "outputs": [
    {
     "name": "stdout",
     "output_type": "stream",
     "text": [
      "철수\n"
     ]
    }
   ],
   "source": [
    "student1 = (\"철수\", 19, \"CS\")\n",
    "(name,age,major) = student1\n",
    "print(name)"
   ]
  },
  {
   "cell_type": "code",
   "execution_count": 101,
   "id": "51258377",
   "metadata": {},
   "outputs": [
    {
     "name": "stdout",
     "output_type": "stream",
     "text": [
      "1 <class 'int'>\n",
      "2 <class 'int'>\n",
      "3 <class 'int'>\n",
      "4 <class 'int'>\n"
     ]
    }
   ],
   "source": [
    "num = {1,3,4,2,4,1,4,2,3,4}\n",
    "for x in sorted(num):\n",
    "    print(x, end = \" \")\n",
    "    print(type(x))"
   ]
  },
  {
   "cell_type": "code",
   "execution_count": 104,
   "id": "4fbbfbae",
   "metadata": {},
   "outputs": [
    {
     "name": "stdout",
     "output_type": "stream",
     "text": [
      "False\n"
     ]
    }
   ],
   "source": [
    "a = {1,2,3,4,5}\n",
    "b = {1,2,3,7}\n",
    "print(b.issubset(a))"
   ]
  },
  {
   "cell_type": "code",
   "execution_count": 115,
   "id": "2de4b749",
   "metadata": {},
   "outputs": [
    {
     "name": "stdout",
     "output_type": "stream",
     "text": [
      "9112314\n",
      "{'이': '45435234', '천': '7635345'}\n"
     ]
    },
    {
     "ename": "AttributeError",
     "evalue": "'dict' object has no attribute 'add'",
     "output_type": "error",
     "traceback": [
      "\u001b[31m---------------------------------------------------------------------------\u001b[39m",
      "\u001b[31mAttributeError\u001b[39m                            Traceback (most recent call last)",
      "\u001b[36mCell\u001b[39m\u001b[36m \u001b[39m\u001b[32mIn[115]\u001b[39m\u001b[32m, line 4\u001b[39m\n\u001b[32m      2\u001b[39m \u001b[38;5;28mprint\u001b[39m(contects.pop(\u001b[33m\"\u001b[39m\u001b[33m구\u001b[39m\u001b[33m\"\u001b[39m))\n\u001b[32m      3\u001b[39m \u001b[38;5;28mprint\u001b[39m(contects)\n\u001b[32m----> \u001b[39m\u001b[32m4\u001b[39m \u001b[43mcontects\u001b[49m\u001b[43m.\u001b[49m\u001b[43madd\u001b[49m(\u001b[33m\"\u001b[39m\u001b[33m구\u001b[39m\u001b[33m\"\u001b[39m)\n\u001b[32m      5\u001b[39m pront(contects)\n",
      "\u001b[31mAttributeError\u001b[39m: 'dict' object has no attribute 'add'"
     ]
    }
   ],
   "source": [
    "contects = {\"구\":\"9112314\", \"이\":'45435234', \"천\":\"7635345\"}\n",
    "print(contects.pop(\"구\"))\n",
    "print(contects)\n",
    "contects.add(\"구\")\n",
    "pront(contects)"
   ]
  },
  {
   "cell_type": "code",
   "execution_count": 117,
   "id": "3802e5fa",
   "metadata": {},
   "outputs": [
    {
     "name": "stdout",
     "output_type": "stream",
     "text": [
      "korea math english "
     ]
    }
   ],
   "source": [
    "score = {\"korea\":80, \"math\":90, 'english':50}\n",
    "for item in score: #키와 값을 같이 출력\n",
    "    print(item,end=' ')"
   ]
  },
  {
   "cell_type": "code",
   "execution_count": 125,
   "id": "0fd0972e",
   "metadata": {},
   "outputs": [
    {
     "name": "stdout",
     "output_type": "stream",
     "text": [
      "[3, 4, 4, 3, 3, 2, 3, 3, 3, 1, 423123, 123, 1231, 3154, 654, 35, 345, 34]\n",
      "[1, 2, 3, 4, 34, 35, 123, 345, 654, 1231, 3154, 423123]\n"
     ]
    }
   ],
   "source": [
    "a_list1 = []\n",
    "for i in range(1000):\n",
    "    val = input(\"값을 입력하시오\")\n",
    "    if val == \"end\":\n",
    "        break\n",
    "    a_list1.append(int(val))\n",
    "print(a_list1)\n",
    "a_set = set(a_list1)\n",
    "a_list2 = list(a_set)\n",
    "a_list2.sort()\n",
    "print(a_list2)\n"
   ]
  },
  {
   "cell_type": "code",
   "execution_count": 128,
   "id": "c138cbcf",
   "metadata": {},
   "outputs": [
    {
     "name": "stdout",
     "output_type": "stream",
     "text": [
      "{1: 1, 2: 4, 3: 9, 4: 16, 5: 25, 6: 36, 7: 49, 8: 64, 9: 81, 10: 100}\n"
     ]
    }
   ],
   "source": [
    "def x_square():\n",
    "    dic1 = {x:x*x for x in range(1,11)}\n",
    "    print(dic1)\n",
    "x_square()"
   ]
  },
  {
   "cell_type": "code",
   "execution_count": null,
   "id": "4aef5cab",
   "metadata": {},
   "outputs": [
    {
     "name": "stdout",
     "output_type": "stream",
     "text": [
      "<zip object at 0x000002572C1A4040>\n",
      "{1: '가', 2: '나', 3: '다', 4: '라', 5: '마', 6: '바', 7: '사', 8: '아', 9: '자'}\n"
     ]
    }
   ],
   "source": [
    "key1 = [1,2,3,4,5,6,7,8,9]\n",
    "val1 = [\"가\", \"나\", \"다\", \"라\", \"마\", \"바\", \"사\", \"아\", \"자\", \"차\"]\n",
    "dic1 = zip(key1,val1)\n",
    "print(dic1)\n",
    "dic2 = dict(zip(key1,val1)) # zip으로 두 리스트를 묶은 후 이를 리스트로 만듬\n",
    "print(dic2)"
   ]
  },
  {
   "cell_type": "code",
   "execution_count": 1,
   "id": "6433c1c4",
   "metadata": {},
   "outputs": [
    {
     "name": "stdout",
     "output_type": "stream",
     "text": [
      "Collecting pygame\n",
      "  Downloading pygame-2.6.1-cp313-cp313-win_amd64.whl.metadata (13 kB)\n",
      "Downloading pygame-2.6.1-cp313-cp313-win_amd64.whl (10.6 MB)\n",
      "   ---------------------------------------- 0.0/10.6 MB ? eta -:--:--\n",
      "   ----- ---------------------------------- 1.6/10.6 MB 9.2 MB/s eta 0:00:01\n",
      "   ------------- -------------------------- 3.7/10.6 MB 8.9 MB/s eta 0:00:01\n",
      "   ------------------ --------------------- 5.0/10.6 MB 8.3 MB/s eta 0:00:01\n",
      "   ----------------------- ---------------- 6.3/10.6 MB 7.7 MB/s eta 0:00:01\n",
      "   ----------------------------- ---------- 7.9/10.6 MB 7.4 MB/s eta 0:00:01\n",
      "   ---------------------------------- ----- 9.2/10.6 MB 7.2 MB/s eta 0:00:01\n",
      "   ---------------------------------------  10.5/10.6 MB 7.2 MB/s eta 0:00:01\n",
      "   ---------------------------------------- 10.6/10.6 MB 7.0 MB/s eta 0:00:00\n",
      "Installing collected packages: pygame\n",
      "Successfully installed pygame-2.6.1\n"
     ]
    }
   ],
   "source": [
    "!pip install pygame"
   ]
  },
  {
   "cell_type": "code",
   "execution_count": null,
   "id": "d901a623",
   "metadata": {},
   "outputs": [
    {
     "name": "stdout",
     "output_type": "stream",
     "text": [
      "pygame 2.6.1 (SDL 2.28.4, Python 3.13.5)\n",
      "Hello from the pygame community. https://www.pygame.org/contribute.html\n"
     ]
    },
    {
     "ename": "KeyboardInterrupt",
     "evalue": "",
     "output_type": "error",
     "traceback": [
      "\u001b[31m---------------------------------------------------------------------------\u001b[39m",
      "\u001b[31mKeyboardInterrupt\u001b[39m                         Traceback (most recent call last)",
      "\u001b[31mKeyboardInterrupt\u001b[39m: "
     ]
    }
   ],
   "source": [
    "# http://www.pygame.org/docs/ref/display.html\n",
    "# 화면 시작\n",
    "\n",
    "import pygame\n",
    "\n",
    "# 초기화\n",
    "pygame.init()\n",
    "screen = pygame.display.set_mode((800,600))\n",
    "pygame.display.set_caption(\"PYGAME!\")\n",
    "\n",
    "screen.fill((0,0,0)) #출력\n"
   ]
  },
  {
   "cell_type": "code",
   "execution_count": null,
   "id": "97a56bfa",
   "metadata": {},
   "outputs": [],
   "source": [
    "# Event handler\n",
    "while True:\n",
    "    screen.fill((0,0,0))\n",
    "\n",
    "    for event in pygame.event.get():\n",
    "        if event.type == pygame.KEYDOWN:\n",
    "            if event.key == pygame.K_q:\n",
    "                pygame.quit()"
   ]
  },
  {
   "cell_type": "code",
   "execution_count": null,
   "id": "369784eb",
   "metadata": {},
   "outputs": [],
   "source": [
    "# Surface update\n",
    "\n",
    "import pygame\n",
    "\n",
    "# 초기화\n",
    "pygame.init()\n",
    "screen = pygame.display.set_mode((800,600))\n",
    "pygame.display.set_caption(\"PYGAME!\")\n",
    "\n",
    "screen.fill((0,0,0)) #출력\n",
    "\n",
    "FONT = pygame.font.SysFond(\"malgun gothic\", 48)\n",
    "text = Font.render(\"Intel\", True, (255,255,255))"
   ]
  },
  {
   "cell_type": "code",
   "execution_count": null,
   "id": "301184fb",
   "metadata": {},
   "outputs": [],
   "source": [
    "x = 330\n",
    "y = 0\n",
    "y += 1\n",
    "if y > 600:\n",
    "    y = 0\n",
    "screen.blint(text,(x,y))\n",
    "\n",
    "pygame"
   ]
  },
  {
   "cell_type": "code",
   "execution_count": null,
   "id": "b3192d23",
   "metadata": {},
   "outputs": [],
   "source": [
    "import pygame\n",
    "\n",
    "# 초기화\n",
    "pygame.init()\n",
    "screen = pygame.display.set_mode((800,600))\n",
    "pygame.display.set_caption(\"PYGAME!\")\n",
    "clock = pygame.time.Clock()\n",
    "\n",
    "screen.fill((0,0,0))\n",
    "\n",
    "FONT = pygame.font.SysFont(\"malgun gothic\", 48)\n",
    "text = FONT.render(\"Intel\", True, (255,255,255))\n",
    "\n",
    "# TIMER = pygame.USER ,이미지를 컨트롤하는 함수\n",
    "\n",
    "#img = pygame.image.load(\"C:\\workspace\\helldivers2.jpg\")\n",
    "#img = pygame.transform.scale(img, (200, 150))\n",
    "x = 330\n",
    "y = 0\n",
    "#x1 = 250\n",
    "#y1 = 150\n",
    "\n",
    "#event handler\n",
    "while True:\n",
    "    screen.fill((0,0,0))\n",
    "\n",
    "    for event in pygame.event.get():\n",
    "        if event.type == pygame.KEYDOWN:\n",
    "            if event.key == pygame.K_q:\n",
    "                pygame.quit()\n",
    "#            elif event.key == pygame.K_RIGHT:\n",
    "#                x1 += 10\n",
    "#            elif event.key == pygame.K_LEFT:\n",
    "#                x1 -= 10\n",
    "#            elif event.key == pygame.K_UP:\n",
    "#                y1 -= 10\n",
    "#            elif event.key == pygame.K_DOWN:\n",
    "#                y1 += 10\n",
    "\n",
    "    #elif event.key == pygame.K_LEFT\n",
    "\n",
    "    #screen.blit(text, (330, 0)) #pont를 스크린에 띄우는 함수 -> 위치. 고정시킬 수도 있고 반복문을 통해 움직이게 할 수 있다.\n",
    "\n",
    "    #update 해서 화면에 출력\n",
    "    y += 1\n",
    "    if y > 600:\n",
    "        y = 0\n",
    "#    screen.blit(img,(250, 150)) # 이미지를 화면에 위치시키는 함수\n",
    "  \n",
    "    screen.blit(text,(x, y)) # 글자를 화면에 위치시키는 함수\n",
    "    \n",
    "    pygame.display.update() # 준비된 이미지, 글자를 화면에 띄우는 함수\n",
    "    \n",
    "\n",
    "    clock.tick(30) # fps조절할 수 있는 함수 -> operation에서 사용한 시간 측정해서 프레임을 조절하는 함수"
   ]
  },
  {
   "cell_type": "code",
   "execution_count": null,
   "id": "542617aa",
   "metadata": {},
   "outputs": [],
   "source": [
    "import random\n",
    "\n",
    "Sentence =  [[\"나는\", \"학교에\", \"간다.\"], [\"내가\", \"니\", \"애비다.\"] [\"집에\", \"가고\", \"싶다\"][\"버스를\", \"빨리\", \"타야\", \"하는데\"]]\n",
    "count = 0\n",
    "\n",
    "Pick_up = random.sample(Sentence)\n",
    "random.suffle\n",
    "\n",
    "\n",
    "Answer = input(\"올바른 순서로 입력하세요\")\n",
    "\n",
    "if Answer == Pick_up:\n",
    "    print(\"정답입니다.\")\n",
    "    count += 1\n",
    "else\n",
    "    print(\"오답입니다.\")\n",
    "\n",
    "\n",
    "print(f\"성공횟수는 {count}입니다.\")\n",
    "\n"
   ]
  },
  {
   "cell_type": "code",
   "execution_count": null,
   "id": "14ad4f75",
   "metadata": {},
   "outputs": [
    {
     "ename": "TypeError",
     "evalue": "list indices must be integers or slices, not tuple",
     "output_type": "error",
     "traceback": [
      "\u001b[31m---------------------------------------------------------------------------\u001b[39m",
      "\u001b[31mTypeError\u001b[39m                                 Traceback (most recent call last)",
      "\u001b[36mCell\u001b[39m\u001b[36m \u001b[39m\u001b[32mIn[6]\u001b[39m\u001b[32m, line 3\u001b[39m\n\u001b[32m      1\u001b[39m \u001b[38;5;28;01mimport\u001b[39;00m\u001b[38;5;250m \u001b[39m\u001b[34;01mrandom\u001b[39;00m\n\u001b[32m----> \u001b[39m\u001b[32m3\u001b[39m Sentence = [[\u001b[33m\"\u001b[39m\u001b[33m나는\u001b[39m\u001b[33m\"\u001b[39m, \u001b[33m\"\u001b[39m\u001b[33m학교에\u001b[39m\u001b[33m\"\u001b[39m, \u001b[33m\"\u001b[39m\u001b[33m간다.\u001b[39m\u001b[33m\"\u001b[39m], \u001b[43m[\u001b[49m\u001b[33;43m\"\u001b[39;49m\u001b[33;43m내가\u001b[39;49m\u001b[33;43m\"\u001b[39;49m\u001b[43m,\u001b[49m\u001b[43m \u001b[49m\u001b[33;43m\"\u001b[39;49m\u001b[33;43m니\u001b[39;49m\u001b[33;43m\"\u001b[39;49m\u001b[43m,\u001b[49m\u001b[43m \u001b[49m\u001b[33;43m\"\u001b[39;49m\u001b[33;43m애비다.\u001b[39;49m\u001b[33;43m\"\u001b[39;49m\u001b[43m]\u001b[49m\u001b[43m \u001b[49m\u001b[43m[\u001b[49m\u001b[33;43m\"\u001b[39;49m\u001b[33;43m집에\u001b[39;49m\u001b[33;43m\"\u001b[39;49m\u001b[43m,\u001b[49m\u001b[43m \u001b[49m\u001b[33;43m\"\u001b[39;49m\u001b[33;43m가고\u001b[39;49m\u001b[33;43m\"\u001b[39;49m\u001b[43m,\u001b[49m\u001b[43m \u001b[49m\u001b[33;43m\"\u001b[39;49m\u001b[33;43m싶다\u001b[39;49m\u001b[33;43m\"\u001b[39;49m\u001b[43m]\u001b[49m[\u001b[33m\"\u001b[39m\u001b[33m버스를\u001b[39m\u001b[33m\"\u001b[39m, \u001b[33m\"\u001b[39m\u001b[33m빨리\u001b[39m\u001b[33m\"\u001b[39m, \u001b[33m\"\u001b[39m\u001b[33m타야\u001b[39m\u001b[33m\"\u001b[39m, \u001b[33m\"\u001b[39m\u001b[33m하는데\u001b[39m\u001b[33m\"\u001b[39m]]\n\u001b[32m      4\u001b[39m count = \u001b[32m0\u001b[39m\n\u001b[32m      6\u001b[39m Pick_up = random.sample(Sentence)\n",
      "\u001b[31mTypeError\u001b[39m: list indices must be integers or slices, not tuple"
     ]
    }
   ],
   "source": [
    "import random\n",
    "\n",
    "Sentence = [[\"나는\", \"학교에\", \"간다.\"], [\"내가\", \"니\", \"애비다.\"] [\"집에\", \"가고\", \"싶다\"][\"버스를\", \"빨리\", \"타야\", \"하는데\"]]\n",
    "count = 0\n",
    "\n",
    "Pick_up = random.sample(Sentence)\n",
    "\n"
   ]
  },
  {
   "cell_type": "code",
   "execution_count": 3,
   "id": "9e0f4775",
   "metadata": {},
   "outputs": [
    {
     "name": "stdout",
     "output_type": "stream",
     "text": [
      "\n",
      "문제 1:\n",
      "다음 단어를 올바른 순서로 조합하시오 : \n",
      "['하는데', '빨리', '버스를', '타야']\n",
      "틀렸습니다.\n",
      "\n",
      "문제 2:\n",
      "다음 단어를 올바른 순서로 조합하시오 : \n",
      "['애비다.', '니', '내가']\n",
      "틀렸습니다.\n",
      "\n",
      "문제 3:\n",
      "다음 단어를 올바른 순서로 조합하시오 : \n",
      "['하는데', '버스를', '빨리', '타야']\n",
      "틀렸습니다.\n",
      "\n",
      "문제 4:\n",
      "다음 단어를 올바른 순서로 조합하시오 : \n",
      "['싶다', '집에', '가고']\n",
      "틀렸습니다.\n",
      "\n",
      "문제 5:\n",
      "다음 단어를 올바른 순서로 조합하시오 : \n",
      "['싶다', '집에', '가고']\n",
      "틀렸습니다.\n",
      "\n",
      "\n"
     ]
    }
   ],
   "source": [
    "import random\n",
    "\n",
    "sentences = [[\"나는\", \"학교에\", \"간다.\"], [\"내가\", \"니\", \"애비다.\"], [\"집에\", \"가고\", \"싶다\"],[\"버스를\", \"빨리\", \"타야\", \"하는데\"]]\n",
    "\n",
    "correct_count = 0\n",
    "\n",
    "for i in range(1,6):\n",
    "    print(f\"\\n문제 {i}:\")\n",
    "    answer_words = random.choice(sentences)\n",
    "    shuffle_words = random.sample(answer_words, len(answer_words))\n",
    "\n",
    "    print(\"다음 단어를 올바른 순서로 조합하시오 : \")\n",
    "    print(shuffle_words)\n",
    "    user_input = input(\"정확한 문장을 입력하세요 : \").strip()\n",
    "\n",
    "    answer_sentence = \" \".join(answer_words)\n",
    "    if user_input == answer_sentence:\n",
    "        print('정답입니다.')\n",
    "        correct_count += 1\n",
    "    else:\n",
    "        print(f\"틀렸습니다.\")\n",
    "print(f\"\\n\")"
   ]
  },
  {
   "cell_type": "code",
   "execution_count": 3,
   "id": "9b0c1f8e",
   "metadata": {},
   "outputs": [
    {
     "name": "stdout",
     "output_type": "stream",
     "text": [
      "시험 출력이다.\n",
      "시험 출력이다.\n",
      "시험 출력이다.\n"
     ]
    }
   ],
   "source": [
    "class Car:\n",
    "    color = \"\"\n",
    "    speed = 0\n",
    "\n",
    "    def upspeed(self,value):\n",
    "        self.speed += value\n",
    "\n",
    "    def downspeed(self,value):\n",
    "        self.speed -= value\n",
    "    \n",
    "    def printMessage(self):\n",
    "        print(\"시험 출력이다.\")\n",
    "\n",
    "myCar1 = Car()\n",
    "myCar2 = Car()\n",
    "myCar3 = Car()\n",
    "\n",
    "myCar1.color = \"빨강\"\n",
    "myCar1.speed = 70\n",
    "myCar2.color = \"파랑\"\n",
    "myCar2.speed = 20\n",
    "myCar3.color = \"검정\"\n",
    "myCar3.speed = 40\n",
    "\n",
    "myCar1.upspeed(30)\n",
    "myCar1.downspeed(60)\n",
    "myCar1.printMessage()\n",
    "\n",
    "myCar2.upspeed(10)\n",
    "myCar2.downspeed(50)\n",
    "myCar2.printMessage()\n",
    "\n",
    "myCar3.upspeed(90)\n",
    "myCar3.downspeed(70)\n",
    "myCar3.printMessage()"
   ]
  },
  {
   "cell_type": "code",
   "execution_count": null,
   "id": "7ae3d176",
   "metadata": {},
   "outputs": [
    {
     "name": "stdout",
     "output_type": "stream",
     "text": [
      "원의 반지름 :  10\n",
      "원의 넓이 :  314.16\n",
      "원의 둘레 :  62.83\n"
     ]
    }
   ],
   "source": [
    "import math\n",
    "class Circle:\n",
    "    __radius = 0\n",
    "\n",
    "    #생성자\n",
    "    def __init__(self,radius):\n",
    "        self.__radius = radius\n",
    "\n",
    "    #getter(), setter() 제공\n",
    "    def getRadius(self):\n",
    "        return self.__radius\n",
    "    def setRadius(self,radius):\n",
    "        self.__radius = radius\n",
    "\n",
    "    #원의 넓이를 구하는 메소드\n",
    "    def calcArea(self):\n",
    "        area = math.pi * self.__radius * self.__radius\n",
    "        return area\n",
    "        \n",
    "    #원의 둘레를 구하는 메소드\n",
    "    def calcCircum(self):\n",
    "        value = 2 * math.pi * self.__radius\n",
    "        return value\n",
    "    \n",
    "if __name__ == \"__main__\":\n",
    "    circle = Circle(10)\n",
    "    print(\"원의 반지름 : \", circle.getRadius())\n",
    "    print(\"원의 넓이 : \", round(circle.calcArea(),2))\n",
    "    print(\"원의 둘레 : \", round(circle.calcCircum(),2))\n",
    "                    "
   ]
  },
  {
   "cell_type": "code",
   "execution_count": 13,
   "id": "2e218a9f",
   "metadata": {},
   "outputs": [
    {
     "name": "stdout",
     "output_type": "stream",
     "text": [
      "빨강 334 300\n",
      "검정 329 300\n",
      "흰색 314 300\n"
     ]
    }
   ],
   "source": [
    "class Car:\n",
    "    color = \"\"\n",
    "    speed = 0\n",
    "\n",
    "    def __init__(self,color,speed):\n",
    "        self.color = color\n",
    "        self.speed = speed\n",
    "\n",
    "    def upSpeed(self,value):\n",
    "        self.speed += value\n",
    "\n",
    "    def downSpeed(self,value):\n",
    "        self.speed -= value\n",
    "\n",
    "    def printMessage(self):\n",
    "        print(f\"{self.color} {self.speed} {Car.speed}\")\n",
    "\n",
    "myCar1 = Car(\"빨강\",334)\n",
    "myCar2 = Car(\"검정\",329)\n",
    "myCar3 = Car(\"흰색\",314)\n",
    "Car.speed = 300\n",
    "myCar1.printMessage()\n",
    "myCar2.printMessage()\n",
    "myCar3.printMessage()"
   ]
  },
  {
   "cell_type": "code",
   "execution_count": 21,
   "id": "0e8cbb82",
   "metadata": {},
   "outputs": [
    {
     "name": "stdout",
     "output_type": "stream",
     "text": [
      "kind : , 다이아몬드,  number : , 10,  width : , 100,  height : , 250\n"
     ]
    }
   ],
   "source": [
    "class Card:\n",
    "    kind = \"\"\n",
    "    number = 0\n",
    "    width = 100\n",
    "    height = 250\n",
    "\n",
    "    def __init__(self,kind,number):\n",
    "        self.kind = kind\n",
    "        self.number = number\n",
    "    def __str__(self):\n",
    "        return f\"kind : , {self.kind},  number : , {self.number},  width : , {self.width},  height : , {self.height}\"\n",
    "        print(\"number : \", self.number)\n",
    "        print(\"width : \", self.width)\n",
    "        print(\"height : \", self.height)\n",
    "    \n",
    "if __name__ == \"__main__\":\n",
    "    card1 = Card(\"다이아몬드\", 10)\n",
    "    print(card1)\n",
    "    #card1.__str__()\n",
    "\n",
    "    card2 = Card(\"스페이드\", 11)\n",
    "    #card2.__str__()"
   ]
  }
 ],
 "metadata": {
  "kernelspec": {
   "display_name": ".venv",
   "language": "python",
   "name": "python3"
  },
  "language_info": {
   "codemirror_mode": {
    "name": "ipython",
    "version": 3
   },
   "file_extension": ".py",
   "mimetype": "text/x-python",
   "name": "python",
   "nbconvert_exporter": "python",
   "pygments_lexer": "ipython3",
   "version": "3.13.5"
  }
 },
 "nbformat": 4,
 "nbformat_minor": 5
}
