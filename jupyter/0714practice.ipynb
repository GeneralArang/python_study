{
 "cells": [
  {
   "cell_type": "code",
   "execution_count": 12,
   "id": "96501932",
   "metadata": {},
   "outputs": [
    {
     "name": "stdout",
     "output_type": "stream",
     "text": [
      "[61, 2, 43, 4, 5, 6, 7, 8, 9]\n",
      "<class 'list'>\n",
      "0 61\n",
      "1 2\n",
      "2 43\n",
      "3 4\n",
      "4 5\n",
      "5 6\n",
      "6 7\n",
      "7 8\n",
      "8 9\n",
      "0\n",
      "10\n",
      "20\n",
      "30\n",
      "40\n",
      "50\n",
      "60\n",
      "70\n",
      "80\n"
     ]
    }
   ],
   "source": [
    "score = [61,2,43,4,5,6,7,8,9]\n",
    "print(score)\n",
    "print(type(score))\n",
    "id(score)\n",
    "score[0]\n",
    "for i in range(len(score)):\n",
    "    print(i,score[i])\n",
    "for i in range(len(score)):\n",
    "    score[i] = i*10\n",
    "    print(score[i])"
   ]
  },
  {
   "cell_type": "code",
   "execution_count": null,
   "id": "0968f8ce",
   "metadata": {},
   "outputs": [
    {
     "name": "stdout",
     "output_type": "stream",
     "text": [
      "[]\n",
      "['H', 'e', 'l', 'l', 'o', ' ', 's', 'h', 'i', 't', ' ', 'o', 'f', ' ', 'w', 'o', 'r', 'l', 'd']\n",
      "[0, 1, 2, 3, 4]\n"
     ]
    }
   ],
   "source": [
    "list1 = list()\n",
    "print(list1)\n",
    "list2 = list(\"Hello\")\n",
    "print(list2)\n",
    "list3 = list(range(0,5))\n",
    "print(list3)\n",
    "list4 = [12,\"dog\",180.14]"
   ]
  },
  {
   "cell_type": "code",
   "execution_count": null,
   "id": "8285db67",
   "metadata": {},
   "outputs": [
    {
     "name": "stdout",
     "output_type": "stream",
     "text": [
      "m t e i\n",
      "<class 'str'>\n",
      "['m', 'a', 'y', ' ', 't', 'h', 'e', ' ', 'f', 'o', 'r', 'c', 'e', ' ', 'b', 'e', ' ', 'w', 'i', 't', 'h', ' ', 'y', 'o', 'u']\n",
      "즈\n",
      "네\n"
     ]
    }
   ],
   "source": [
    "text = \"may the force be with you\"\n",
    "print(text[0], text[4], text[6], text[-7])\n",
    "list1 = list(text)\n",
    "print(type(text))\n",
    "print(list1)\n",
    "list2 = [\"바나나\", \"터미네이터\", \"스타워즈\", \"어벤져스\"]\n",
    "print(list2[2][3])#list 안의 list로 만들어 순서를 이용하여 데이터를 뽑는 문법\n",
    "two = list2[1]\n",
    "print(two[2])\n"
   ]
  },
  {
   "cell_type": "code",
   "execution_count": 30,
   "id": "c9c8fc94",
   "metadata": {},
   "outputs": [
    {
     "name": "stdout",
     "output_type": "stream",
     "text": [
      "[2, 3, 4, 5]\n",
      "<class 'list'>\n",
      "[1, 2, 'qwer', 3, 4, 5, 6, 7, 8, 9]\n"
     ]
    }
   ],
   "source": [
    "num = [1,2,3,4,5,6,7,8,9]\n",
    "print(num[-8:-4])\n",
    "print(type(num))\n",
    "num.insert(2,\"qwer\")\n",
    "print(num)"
   ]
  },
  {
   "cell_type": "code",
   "execution_count": 37,
   "id": "b7ec2070",
   "metadata": {},
   "outputs": [
    {
     "name": "stdout",
     "output_type": "stream",
     "text": [
      "있네?\n",
      "2\n",
      "['슈퍼맨', '블랙위도우', '아이언맨', '캡아', '토르', '스파이더맨']\n",
      "['블랙위도우', '슈퍼맨', '스파이더맨', '아이언맨', '캡아', '토르']\n",
      "['슈퍼맨', '블랙위도우', '아이언맨', '캡아', '토르', '스파이더맨']\n"
     ]
    }
   ],
   "source": [
    "heros = [\"슈퍼맨\", \"블랙위도우\", \"아이언맨\", \"캡아\", \"토르\", \"스파이더맨\"]\n",
    "if \"슈퍼맨\" in heros:\n",
    "    print(\"있네?\")\n",
    "index = heros.index(\"아이언맨\")\n",
    "print(index)\n",
    "heros.remove\n",
    "print(heros)\n",
    "s_heros = sorted(heros)\n",
    "print(s_heros)\n",
    "print(heros)"
   ]
  },
  {
   "cell_type": "code",
   "execution_count": null,
   "id": "8b46afe8",
   "metadata": {},
   "outputs": [
    {
     "name": "stdout",
     "output_type": "stream",
     "text": [
      "['be', 'force', 'may', 'the', 'with', 'you']\n",
      "[7, 5, 5, 4, 3, 3, 2, 1]\n"
     ]
    }
   ],
   "source": [
    "word = sorted(\"may the force be with you\".split(),key=str.lower)#문장은 1개로 인식하기 때문에 단어 슬라이싱을 해서 리스트로 표현\n",
    "print(word)\n",
    "numb = sorted([4,5,2,3,5,7,1,3],reverse=True)#순서를 바꿔서 표현. ''부울''형\n",
    "print(numb)"
   ]
  },
  {
   "cell_type": "code",
   "execution_count": null,
   "id": "2f9dbe5a",
   "metadata": {},
   "outputs": [
    {
     "name": "stdout",
     "output_type": "stream",
     "text": [
      "[\"i'm your father\"]\n"
     ]
    }
   ],
   "source": [
    "statement = \"i'm your father\"\n",
    "li = statement.split(\",\")#쉼표(기재한)기준으로 문자열을 나누는 함수\n",
    "print(li)"
   ]
  },
  {
   "cell_type": "code",
   "execution_count": null,
   "id": "5d93803b",
   "metadata": {},
   "outputs": [
    {
     "name": "stdout",
     "output_type": "stream",
     "text": [
      "값들을 입력하고 끝내려면 end를 입력하시오\n",
      "[3, 4, 2, 5, 4, 3, 4, 2, 4]\n",
      "31\n"
     ]
    }
   ],
   "source": [
    "total_sum = 0\n",
    "a = list()\n",
    "print(\"값들을 입력하고 끝내려면 end를 입력하시오\")\n",
    "for i in range(0,1000):\n",
    "    val = input(\"값을 입력하시오\")\n",
    "    if val == \"end\":\n",
    "        break\n",
    "    a.append(int(val)) #이런 방식으로 쓰면 비어있는 리스트에 for구문이 돌때마다 차례대로 리스트값으로 추가된다. 인풋을 int로 받으면 숫자가 되기때문에 문자를 쓰고 싶으면 나중에 값을 인트로 바꿔야한다.\n",
    "\n",
    "for j in range(0,i):\n",
    "    total_sum = total_sum + a[j]\n",
    "\n",
    "print(a)\n",
    "print(total_sum)"
   ]
  },
  {
   "cell_type": "code",
   "execution_count": null,
   "id": "7d77183f",
   "metadata": {},
   "outputs": [
    {
     "name": "stdout",
     "output_type": "stream",
     "text": [
      "[72, 22, 51, 83, 91, 49, 52, 91, 88, 25]\n"
     ]
    }
   ],
   "source": [
    "import random\n",
    "Num_list = []\n",
    "for i in range(10):\n",
    "    a = random.sample(range(1,100),1)[0]#sample은 항상 리스트를 반환하므로 [0]을 붙여야 한다.\n",
    "    Num_list.append(a)\n",
    "\n",
    "print(Num_list)"
   ]
  },
  {
   "cell_type": "code",
   "execution_count": null,
   "id": "4aa99cbf",
   "metadata": {},
   "outputs": [],
   "source": [
    "def printStar(list_star)\n",
    "    for i in range(len(list_star)):\n",
    "        if list_star[i]<10:\n",
    "            print(list_star[i],\"   \",\"*\"*list_star[i])\n",
    "        else:\n",
    "            print()"
   ]
  },
  {
   "cell_type": "code",
   "execution_count": null,
   "id": "dfce7099",
   "metadata": {},
   "outputs": [
    {
     "name": "stdout",
     "output_type": "stream",
     "text": [
      "[0, 1, 2, 3, 4]\n",
      "[0, 1, 2, 3, 4]\n"
     ]
    }
   ],
   "source": [
    "a = [x for x in range(5)]  #컴프리헨션 -> 찾아서 이해해야할듯\n",
    "b = [0,1,2,3,4]\n",
    "print(a)\n",
    "print(b)"
   ]
  },
  {
   "cell_type": "code",
   "execution_count": null,
   "id": "2f99c93a",
   "metadata": {},
   "outputs": [
    {
     "name": "stdout",
     "output_type": "stream",
     "text": [
      "level civic deed radar bob pop \n",
      "첫글자와 마지막 글자가 같은 단어의 개수는 6개 입니다.\n"
     ]
    }
   ],
   "source": [
    "words = [\"level\", \"apple\", \"banana\", \"civic\", \"deed\", \"robot\", \"radar\", \"bob\", \"hello\", \"pop\"]\n",
    "\n",
    "count = 0\n",
    "for i in range(len(words)): #list의 인덱스 개수는 len(list)로 구한다.\n",
    "    divide_words = words[i] #words의 데이터를 하나하나를 리스트로 만드는 방법\n",
    "    if divide_words[0] == divide_words[-1]: #첫번째 마지막 비교하는 방법 -> 인덱스 비교는 []를 쓰자. ()는 안됨\n",
    "        print(divide_words,end = \" \")\n",
    "        count += 1\n",
    "print(f\"\\n첫글자와 마지막 글자가 같은 단어의 개수는 {count}개 입니다.\")"
   ]
  },
  {
   "cell_type": "code",
   "execution_count": 74,
   "id": "2b686b2d",
   "metadata": {},
   "outputs": [
    {
     "name": "stdout",
     "output_type": "stream",
     "text": [
      "[1, 2, 3, 4, 5]\n",
      "(1, 2, 3, 4, 5)\n",
      "<class 'tuple'>\n"
     ]
    }
   ],
   "source": [
    "t1 = [1,2,3,4,5]\n",
    "t2 = tuple(t1)\n",
    "print(t1)\n",
    "print(t2)\n",
    "t3 = (10,)\n",
    "print(type(t3))"
   ]
  },
  {
   "cell_type": "code",
   "execution_count": 77,
   "id": "a28c1c22",
   "metadata": {},
   "outputs": [
    {
     "name": "stdout",
     "output_type": "stream",
     "text": [
      "(1, 2, 3, 4, 5, 't', 'e', 's', 'r', 'e')\n"
     ]
    }
   ],
   "source": [
    "t1 = (1,2,3,4,5)\n",
    "t2 = (\"t\",\"e\",\"s\",\"r\",\"e\")\n",
    "t3 = t1 + t2\n",
    "print(t3)\n"
   ]
  },
  {
   "cell_type": "code",
   "execution_count": 78,
   "id": "85eba2fe",
   "metadata": {},
   "outputs": [
    {
     "data": {
      "text/plain": [
       "True"
      ]
     },
     "execution_count": 78,
     "metadata": {},
     "output_type": "execute_result"
    }
   ],
   "source": [
    "t1 = (1,2,3,4,5)\n",
    "3 in t1"
   ]
  },
  {
   "cell_type": "code",
   "execution_count": 79,
   "id": "cae5ed60",
   "metadata": {},
   "outputs": [
    {
     "name": "stdout",
     "output_type": "stream",
     "text": [
      "철수\n"
     ]
    }
   ],
   "source": [
    "student1 = (\"철수\", 19, \"CS\")\n",
    "(name,age,major) = student1\n",
    "print(name)"
   ]
  },
  {
   "cell_type": "code",
   "execution_count": 101,
   "id": "51258377",
   "metadata": {},
   "outputs": [
    {
     "name": "stdout",
     "output_type": "stream",
     "text": [
      "1 <class 'int'>\n",
      "2 <class 'int'>\n",
      "3 <class 'int'>\n",
      "4 <class 'int'>\n"
     ]
    }
   ],
   "source": [
    "num = {1,3,4,2,4,1,4,2,3,4}\n",
    "for x in sorted(num):\n",
    "    print(x, end = \" \")\n",
    "    print(type(x))"
   ]
  },
  {
   "cell_type": "code",
   "execution_count": 104,
   "id": "4fbbfbae",
   "metadata": {},
   "outputs": [
    {
     "name": "stdout",
     "output_type": "stream",
     "text": [
      "False\n"
     ]
    }
   ],
   "source": [
    "a = {1,2,3,4,5}\n",
    "b = {1,2,3,7}\n",
    "print(b.issubset(a))"
   ]
  },
  {
   "cell_type": "code",
   "execution_count": 115,
   "id": "2de4b749",
   "metadata": {},
   "outputs": [
    {
     "name": "stdout",
     "output_type": "stream",
     "text": [
      "9112314\n",
      "{'이': '45435234', '천': '7635345'}\n"
     ]
    },
    {
     "ename": "AttributeError",
     "evalue": "'dict' object has no attribute 'add'",
     "output_type": "error",
     "traceback": [
      "\u001b[31m---------------------------------------------------------------------------\u001b[39m",
      "\u001b[31mAttributeError\u001b[39m                            Traceback (most recent call last)",
      "\u001b[36mCell\u001b[39m\u001b[36m \u001b[39m\u001b[32mIn[115]\u001b[39m\u001b[32m, line 4\u001b[39m\n\u001b[32m      2\u001b[39m \u001b[38;5;28mprint\u001b[39m(contects.pop(\u001b[33m\"\u001b[39m\u001b[33m구\u001b[39m\u001b[33m\"\u001b[39m))\n\u001b[32m      3\u001b[39m \u001b[38;5;28mprint\u001b[39m(contects)\n\u001b[32m----> \u001b[39m\u001b[32m4\u001b[39m \u001b[43mcontects\u001b[49m\u001b[43m.\u001b[49m\u001b[43madd\u001b[49m(\u001b[33m\"\u001b[39m\u001b[33m구\u001b[39m\u001b[33m\"\u001b[39m)\n\u001b[32m      5\u001b[39m pront(contects)\n",
      "\u001b[31mAttributeError\u001b[39m: 'dict' object has no attribute 'add'"
     ]
    }
   ],
   "source": [
    "contects = {\"구\":\"9112314\", \"이\":'45435234', \"천\":\"7635345\"}\n",
    "print(contects.pop(\"구\"))\n",
    "print(contects)\n",
    "contects.add(\"구\")\n",
    "pront(contects)"
   ]
  },
  {
   "cell_type": "code",
   "execution_count": 117,
   "id": "3802e5fa",
   "metadata": {},
   "outputs": [
    {
     "name": "stdout",
     "output_type": "stream",
     "text": [
      "korea math english "
     ]
    }
   ],
   "source": [
    "score = {\"korea\":80, \"math\":90, 'english':50}\n",
    "for item in score: #키와 값을 같이 출력\n",
    "    print(item,end=' ')"
   ]
  },
  {
   "cell_type": "code",
   "execution_count": 125,
   "id": "0fd0972e",
   "metadata": {},
   "outputs": [
    {
     "name": "stdout",
     "output_type": "stream",
     "text": [
      "[3, 4, 4, 3, 3, 2, 3, 3, 3, 1, 423123, 123, 1231, 3154, 654, 35, 345, 34]\n",
      "[1, 2, 3, 4, 34, 35, 123, 345, 654, 1231, 3154, 423123]\n"
     ]
    }
   ],
   "source": [
    "a_list1 = []\n",
    "for i in range(1000):\n",
    "    val = input(\"값을 입력하시오\")\n",
    "    if val == \"end\":\n",
    "        break\n",
    "    a_list1.append(int(val))\n",
    "print(a_list1)\n",
    "a_set = set(a_list1)\n",
    "a_list2 = list(a_set)\n",
    "a_list2.sort()\n",
    "print(a_list2)\n"
   ]
  }
 ],
 "metadata": {
  "kernelspec": {
   "display_name": ".venv",
   "language": "python",
   "name": "python3"
  },
  "language_info": {
   "codemirror_mode": {
    "name": "ipython",
    "version": 3
   },
   "file_extension": ".py",
   "mimetype": "text/x-python",
   "name": "python",
   "nbconvert_exporter": "python",
   "pygments_lexer": "ipython3",
   "version": "3.13.5"
  }
 },
 "nbformat": 4,
 "nbformat_minor": 5
}
