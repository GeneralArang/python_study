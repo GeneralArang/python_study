{
 "cells": [
  {
   "cell_type": "code",
   "execution_count": null,
   "id": "3d708e25",
   "metadata": {},
   "outputs": [],
   "source": [
    "import random\n",
    "\n",
    "Old_Wisdom2 = [\n",
    "(\"가는 말이 고와야\", \"오는 말이 곱다\"),\n",
    "(\"호랑이도 제 말\", \"하면 온다\"),\n",
    "(\"등잔 밑이\", \"어둡다\"),\n",
    "(\"원숭이도 나무에서\", \"떨어진다\"),\n",
    "(\"세 살 버릇\", \"여든까지 간다\"),\n",
    "(\"티끌 모아\", \"태산\"),\n",
    "(\"백문이\", \"불여일견\"),\n",
    "(\"웃는 얼굴에\", \"침 못 뱉는다\"),\n",
    "(\"하늘이 무너져도\", \"솟아날 구멍이 있다\"),\n",
    "(\"말 한마디에\", \"천 냥 빚도 갚는다\"),\n",
    "(\"누워서\", \"떡 먹기\"),\n",
    "(\"소 잃고\", \"외양간 고친다\"),\n",
    "(\"돌다리도 두들겨 보고\", \"건너라\"),\n",
    "(\"바늘 도둑이\", \"소 도둑 된다\"),\n",
    "(\"아는 길도\", \"물어 가라\"),\n",
    "(\"고래 싸움에\", \"새우 등 터진다\"),\n",
    "(\"가는 날이\", \"장날이다\"),\n",
    "(\"개구리 올챙이 적\", \"생각 못 한다\"),\n",
    "(\"열 번 찍어\", \"안 넘어가는 나무 없다\"),\n",
    "(\"배보다\", \"배꼽이 크다\"),\n",
    "(\"공든 탑이\", \"무너지랴\"),\n",
    "(\"천 리 길도\", \"한 걸음부터\"),\n",
    "(\"빈 수레가\", \"요란하다\"),\n",
    "(\"자라 보고 놀란 가슴\", \"솥뚜껑 보고 놀란다\"),\n",
    "]\n",
    "\n",
    "front, back = random.choice(Old_Wisdom2)"
   ]
  },
  {
   "cell_type": "code",
   "execution_count": 2,
   "id": "f73365be",
   "metadata": {},
   "outputs": [
    {
     "name": "stdout",
     "output_type": "stream",
     "text": [
      "Collecting qrcode\n",
      "  Downloading qrcode-8.2-py3-none-any.whl.metadata (17 kB)\n",
      "Collecting pillow\n",
      "  Downloading pillow-11.3.0-cp313-cp313-win_amd64.whl.metadata (9.2 kB)\n",
      "Requirement already satisfied: colorama in c:\\users\\samsung\\appdata\\roaming\\python\\python313\\site-packages (from qrcode) (0.4.6)\n",
      "Downloading qrcode-8.2-py3-none-any.whl (45 kB)\n",
      "Downloading pillow-11.3.0-cp313-cp313-win_amd64.whl (7.0 MB)\n",
      "   ---------------------------------------- 0.0/7.0 MB ? eta -:--:--\n",
      "   - -------------------------------------- 0.3/7.0 MB ? eta -:--:--\n",
      "   ------- -------------------------------- 1.3/7.0 MB 3.7 MB/s eta 0:00:02\n",
      "   --------------- ------------------------ 2.6/7.0 MB 4.6 MB/s eta 0:00:01\n",
      "   ---------------------- ----------------- 3.9/7.0 MB 5.3 MB/s eta 0:00:01\n",
      "   ---------------------------------- ----- 6.0/7.0 MB 6.2 MB/s eta 0:00:01\n",
      "   ---------------------------------------- 7.0/7.0 MB 6.4 MB/s eta 0:00:00\n",
      "Installing collected packages: qrcode, pillow\n",
      "\n",
      "   ---------------------------------------- 0/2 [qrcode]\n",
      "   ---------------------------------------- 0/2 [qrcode]\n",
      "   -------------------- ------------------- 1/2 [pillow]\n",
      "   -------------------- ------------------- 1/2 [pillow]\n",
      "   -------------------- ------------------- 1/2 [pillow]\n",
      "   -------------------- ------------------- 1/2 [pillow]\n",
      "   -------------------- ------------------- 1/2 [pillow]\n",
      "   -------------------- ------------------- 1/2 [pillow]\n",
      "   -------------------- ------------------- 1/2 [pillow]\n",
      "   -------------------- ------------------- 1/2 [pillow]\n",
      "   -------------------- ------------------- 1/2 [pillow]\n",
      "   ---------------------------------------- 2/2 [pillow]\n",
      "\n",
      "Successfully installed pillow-11.3.0 qrcode-8.2\n"
     ]
    }
   ],
   "source": [
    "#QR 코드 생성 함수\n",
    "!pip install qrcode pillow"
   ]
  },
  {
   "cell_type": "code",
   "execution_count": null,
   "id": "0d77bb34",
   "metadata": {},
   "outputs": [
    {
     "name": "stdout",
     "output_type": "stream",
     "text": [
      "정확도는 100.0%입니다.\n",
      "정확도는 100.0%입니다.\n",
      "수고햇다. 토닥토닥\n"
     ]
    }
   ],
   "source": [
    "#qr코드로 속담 맞추기\n",
    "import random\n",
    "import qrcode\n",
    "def OX (a,b,c):\n",
    "    if a == b:\n",
    "        c += 1\n",
    "    return c\n",
    "\n",
    "def ROLDQR():\n",
    "    OLDText = random.choice(Old_Wisdom)\n",
    "    img = qrcode.make(f\"<{OLDText}>\")\n",
    "    img.show(\"qrcode.png\")\n",
    "    Typed = input(\"\\nQR코드로 전달된 문장을 입력하세요! : \")\n",
    "\n",
    "Old_Wisdom = [\n",
    "    \"가는 말이 고와야 오는 말이 곱다\",\n",
    "    \"호랑이도 제 말 하면 온다\",\n",
    "    \"등잔 밑이 어둡다\",\n",
    "    \"원숭이도 나무에서 떨어진다\",\n",
    "    \"꿩 대신 닭\",\n",
    "    \"세 살 버릇 여든까지 간다\",\n",
    "    \"티끌 모아 태산\",\n",
    "    \"백문이 불여일견\",\n",
    "    \"웃는 얼굴에 침 못 뱉는다\",\n",
    "    \"하늘이 무너져도 솟아날 구멍이 있다\",\n",
    "    \"말 한마디에 천 냥 빚도 갚는다\",\n",
    "    \"누워서 떡 먹기\",\n",
    "    \"소 잃고 외양간 고친다\",\n",
    "    \"돌다리도 두들겨 보고 건너라\",\n",
    "    \"바늘 도둑이 소 도둑 된다\",\n",
    "    \"아는 길도 물어 가라\",\n",
    "    \"고래 싸움에 새우 등 터진다\",\n",
    "    \"가는 날이 장날이다\",\n",
    "    \"개구리 올챙이 적 생각 못 한다\",\n",
    "    \"열 번 찍어 안 넘어가는 나무 없다\",\n",
    "    \"배보다 배꼽이 크다\",\n",
    "    \"공든 탑이 무너지랴\",\n",
    "    \"천 리 길도 한 걸음부터\",\n",
    "    \"빈 수레가 요란하다\",\n",
    "    \"자라 보고 놀란 가슴 솥뚜껑 보고 놀란다\",\n",
    "    ]\n",
    "\n",
    "ROLDQR()\n",
    "\n",
    "correct = 0\n",
    "while True:\n",
    "    for i in range(min(len(OLDText),len(Typed))):\n",
    "        OX(OLDText, Typed, correct)\n",
    "\n",
    "    accuracy = len(OLDText) / len(Typed) * 100\n",
    "    print(f\"정확도는 {accuracy}%입니다.\")\n",
    "\n",
    "    Repeat = input(\"\\n계속하시려면 ok 아니면 no를 입력하세요\")\n",
    "    if Repeat == \"ok\":\n",
    "        ROLDQR()\n",
    "    else:\n",
    "        print(\"수고햇다. 토닥토닥\")\n",
    "        break\n",
    "\n",
    "\n"
   ]
  },
  {
   "cell_type": "code",
   "execution_count": null,
   "id": "87469fd3",
   "metadata": {},
   "outputs": [],
   "source": [
    "import qrcode\n",
    "img = qrcode.make(\"<드루와>\")\n",
    "img.save(\"qrcode.png\")"
   ]
  },
  {
   "cell_type": "code",
   "execution_count": 18,
   "id": "46c3e605",
   "metadata": {},
   "outputs": [
    {
     "name": "stdout",
     "output_type": "stream",
     "text": [
      "정확도는 8.333333333333332%입니다.\n",
      "정확도는 8.333333333333332%입니다.\n",
      "수고햇다. 토닥토닥\n"
     ]
    }
   ],
   "source": [
    "#중복 속담 피하기 - sample 함수 이용\n",
    "import random\n",
    "import qrcode\n",
    "\n",
    "def OX (a,b,c):\n",
    "    if a == b:\n",
    "        c += 1\n",
    "    return c\n",
    "\n",
    "def ROLDQR():\n",
    "    img = qrcode.make(f\"<{OLDText}>\")\n",
    "    img.show(\"qrcode.png\")\n",
    "    Typed = input(\"\\nQR코드로 전달된 문장을 입력하세요! : \")\n",
    "\n",
    "Old_Wisdom = [\n",
    "    \"가는 말이 고와야 오는 말이 곱다\",\n",
    "    \"호랑이도 제 말 하면 온다\",\n",
    "    \"등잔 밑이 어둡다\"    ]\n",
    "\n",
    "OLDText = random.sample(Old_Wisdom,1) #셔플되서 순서대로 정렬됨 -> 함수를 여러번 돌리면 다시 셔플이 됨. 그래서 의미가 없어짐\n",
    "\n",
    "ROLDQR()\n",
    "\n",
    "count_OLDText = 0 #중복을 피하기 위한 카운트 3번\n",
    "correct = 0 #정확도 측정을 위한 변수\n",
    "\n",
    "while True:\n",
    "    for i in range(min(len(OLDText),len(Typed))):\n",
    "        OX(OLDText, Typed, correct)\n",
    "\n",
    "    accuracy = len(OLDText) / len(Typed) * 100\n",
    "    print(f\"정확도는 {accuracy}%입니다.\")\n",
    "\n",
    "    Repeat = input(\"\\n계속하시려면 ok 아니면 no를 입력하세요\")\n",
    "    if count_OLDText == 3:\n",
    "        break\n",
    "    elif Repeat == \"ok\":\n",
    "        ROLDQR()\n",
    "        count_OLDText += 1\n",
    "    else:\n",
    "        print(\"수고햇다. 토닥토닥\")\n",
    "        break\n",
    "\n",
    "\n"
   ]
  },
  {
   "cell_type": "code",
   "execution_count": 1,
   "id": "715a140b",
   "metadata": {},
   "outputs": [
    {
     "name": "stdout",
     "output_type": "stream",
     "text": [
      "게임을 시작합니다. 2초안에 단어를 입력하세요\n",
      "2초를 초과할때마다 생명력이 감소합니다.\n",
      "주어진 단어는 <['커피잔']>입니다.\n"
     ]
    },
    {
     "ename": "KeyboardInterrupt",
     "evalue": "",
     "output_type": "error",
     "traceback": [
      "\u001b[31m---------------------------------------------------------------------------\u001b[39m",
      "\u001b[31mKeyboardInterrupt\u001b[39m                         Traceback (most recent call last)",
      "\u001b[36mCell\u001b[39m\u001b[36m \u001b[39m\u001b[32mIn[1]\u001b[39m\u001b[32m, line 19\u001b[39m\n\u001b[32m     16\u001b[39m \u001b[38;5;66;03m#시간 측정\u001b[39;00m\n\u001b[32m     17\u001b[39m Typed = \u001b[38;5;28minput\u001b[39m(\u001b[33m\"\u001b[39m\u001b[38;5;130;01m\\n\u001b[39;00m\u001b[33m 입력 : \u001b[39m\u001b[33m\"\u001b[39m)\n\u001b[32m---> \u001b[39m\u001b[32m19\u001b[39m start_time = \u001b[43mtime\u001b[49m.time()\n\u001b[32m     21\u001b[39m \u001b[38;5;28;01mwhile\u001b[39;00m Life > \u001b[32m0\u001b[39m:\n\u001b[32m     22\u001b[39m     end_time = time.time()\n",
      "\u001b[36mFile \u001b[39m\u001b[32m<stringsource>:69\u001b[39m, in \u001b[36mcfunc.to_py.__Pyx_CFunc_b0409f__29_pydevd_sys_monitoring_cython_object__lParen__etc_to_py_4code_4line.wrap\u001b[39m\u001b[34m()\u001b[39m\n",
      "\u001b[36mFile \u001b[39m\u001b[32m_pydevd_sys_monitoring\\\\_pydevd_sys_monitoring_cython.pyx:1470\u001b[39m, in \u001b[36m_pydevd_sys_monitoring_cython._line_event\u001b[39m\u001b[34m()\u001b[39m\n",
      "\u001b[36mFile \u001b[39m\u001b[32m_pydevd_sys_monitoring\\\\_pydevd_sys_monitoring_cython.pyx:1512\u001b[39m, in \u001b[36m_pydevd_sys_monitoring_cython._internal_line_event\u001b[39m\u001b[34m()\u001b[39m\n",
      "\u001b[36mFile \u001b[39m\u001b[32m_pydevd_sys_monitoring\\\\_pydevd_sys_monitoring_cython.pyx:1313\u001b[39m, in \u001b[36m_pydevd_sys_monitoring_cython._stop_on_breakpoint\u001b[39m\u001b[34m()\u001b[39m\n",
      "\u001b[36mFile \u001b[39m\u001b[32m_pydevd_sys_monitoring\\\\_pydevd_sys_monitoring_cython.pyx:1950\u001b[39m, in \u001b[36m_pydevd_sys_monitoring_cython._do_wait_suspend\u001b[39m\u001b[34m()\u001b[39m\n",
      "\u001b[36mFile \u001b[39m\u001b[32mc:\\Users\\Park\\mywork\\my_venv\\Lib\\site-packages\\debugpy\\_vendored\\pydevd\\pydevd.py:2188\u001b[39m, in \u001b[36mPyDB.do_wait_suspend\u001b[39m\u001b[34m(self, thread, frame, event, arg, exception_type)\u001b[39m\n\u001b[32m   2185\u001b[39m             from_this_thread.append(frame_custom_thread_id)\n\u001b[32m   2187\u001b[39m     \u001b[38;5;28;01mwith\u001b[39;00m \u001b[38;5;28mself\u001b[39m._threads_suspended_single_notification.notify_thread_suspended(thread_id, thread, stop_reason):\n\u001b[32m-> \u001b[39m\u001b[32m2188\u001b[39m         keep_suspended = \u001b[38;5;28;43mself\u001b[39;49m\u001b[43m.\u001b[49m\u001b[43m_do_wait_suspend\u001b[49m\u001b[43m(\u001b[49m\u001b[43mthread\u001b[49m\u001b[43m,\u001b[49m\u001b[43m \u001b[49m\u001b[43mframe\u001b[49m\u001b[43m,\u001b[49m\u001b[43m \u001b[49m\u001b[43mevent\u001b[49m\u001b[43m,\u001b[49m\u001b[43m \u001b[49m\u001b[43marg\u001b[49m\u001b[43m,\u001b[49m\u001b[43m \u001b[49m\u001b[43mtrace_suspend_type\u001b[49m\u001b[43m,\u001b[49m\u001b[43m \u001b[49m\u001b[43mfrom_this_thread\u001b[49m\u001b[43m,\u001b[49m\u001b[43m \u001b[49m\u001b[43mframes_tracker\u001b[49m\u001b[43m)\u001b[49m\n\u001b[32m   2190\u001b[39m frames_list = \u001b[38;5;28;01mNone\u001b[39;00m\n\u001b[32m   2192\u001b[39m \u001b[38;5;28;01mif\u001b[39;00m keep_suspended:\n\u001b[32m   2193\u001b[39m     \u001b[38;5;66;03m# This means that we should pause again after a set next statement.\u001b[39;00m\n",
      "\u001b[36mFile \u001b[39m\u001b[32mc:\\Users\\Park\\mywork\\my_venv\\Lib\\site-packages\\debugpy\\_vendored\\pydevd\\pydevd.py:2257\u001b[39m, in \u001b[36mPyDB._do_wait_suspend\u001b[39m\u001b[34m(self, thread, frame, event, arg, trace_suspend_type, from_this_thread, frames_tracker)\u001b[39m\n\u001b[32m   2254\u001b[39m                 queue.put(internal_cmd)\n\u001b[32m   2255\u001b[39m                 wait_timeout = TIMEOUT_FAST\n\u001b[32m-> \u001b[39m\u001b[32m2257\u001b[39m         \u001b[43mnotify_event\u001b[49m\u001b[43m.\u001b[49m\u001b[43mwait\u001b[49m\u001b[43m(\u001b[49m\u001b[43mwait_timeout\u001b[49m\u001b[43m)\u001b[49m\n\u001b[32m   2258\u001b[39m         notify_event.clear()\n\u001b[32m   2260\u001b[39m \u001b[38;5;28;01mfinally\u001b[39;00m:\n",
      "\u001b[36mFile \u001b[39m\u001b[32m~\\AppData\\Local\\Programs\\Python\\Python313\\Lib\\threading.py:659\u001b[39m, in \u001b[36mEvent.wait\u001b[39m\u001b[34m(self, timeout)\u001b[39m\n\u001b[32m    657\u001b[39m signaled = \u001b[38;5;28mself\u001b[39m._flag\n\u001b[32m    658\u001b[39m \u001b[38;5;28;01mif\u001b[39;00m \u001b[38;5;129;01mnot\u001b[39;00m signaled:\n\u001b[32m--> \u001b[39m\u001b[32m659\u001b[39m     signaled = \u001b[38;5;28;43mself\u001b[39;49m\u001b[43m.\u001b[49m\u001b[43m_cond\u001b[49m\u001b[43m.\u001b[49m\u001b[43mwait\u001b[49m\u001b[43m(\u001b[49m\u001b[43mtimeout\u001b[49m\u001b[43m)\u001b[49m\n\u001b[32m    660\u001b[39m \u001b[38;5;28;01mreturn\u001b[39;00m signaled\n",
      "\u001b[36mFile \u001b[39m\u001b[32m~\\AppData\\Local\\Programs\\Python\\Python313\\Lib\\threading.py:363\u001b[39m, in \u001b[36mCondition.wait\u001b[39m\u001b[34m(self, timeout)\u001b[39m\n\u001b[32m    361\u001b[39m \u001b[38;5;28;01melse\u001b[39;00m:\n\u001b[32m    362\u001b[39m     \u001b[38;5;28;01mif\u001b[39;00m timeout > \u001b[32m0\u001b[39m:\n\u001b[32m--> \u001b[39m\u001b[32m363\u001b[39m         gotit = \u001b[43mwaiter\u001b[49m\u001b[43m.\u001b[49m\u001b[43macquire\u001b[49m\u001b[43m(\u001b[49m\u001b[38;5;28;43;01mTrue\u001b[39;49;00m\u001b[43m,\u001b[49m\u001b[43m \u001b[49m\u001b[43mtimeout\u001b[49m\u001b[43m)\u001b[49m\n\u001b[32m    364\u001b[39m     \u001b[38;5;28;01melse\u001b[39;00m:\n\u001b[32m    365\u001b[39m         gotit = waiter.acquire(\u001b[38;5;28;01mFalse\u001b[39;00m)\n",
      "\u001b[31mKeyboardInterrupt\u001b[39m: "
     ]
    }
   ],
   "source": [
    "import random\n",
    "import time\n",
    "\n",
    "Word = [\"텀블러\", \"책상\", \"노트북\", \"연필\", \"의자\", \"커피잔\", \"핸드폰\", \"창문\", \"바람\", \"하늘\"]\n",
    "Life = 3\n",
    "score = 0\n",
    "duration = 2\n",
    "\n",
    "Give = random.sample(Word,1)\n",
    "print(\"게임을 시작합니다. 2초안에 단어를 입력하세요\")\n",
    "print(\"2초를 초과할때마다 생명력이 감소합니다.\")\n",
    "print(f\"주어진 단어는 <{Give}>입니다.\")\n",
    "\n",
    "input(\"준비가 되면 Enter를 누르세요.\")\n",
    "\n",
    "#시간 측정\n",
    "start_time = time.time()\n",
    "\n",
    "\n",
    "    while Life > 0:\n",
    "    Typed = input(\"\\n 입력 : \")\n",
    "        end_time = time.time()\n",
    "        duration = end_time - start_time\n",
    "        if duration % 2 == 0:\n",
    "            Life -= 1\n",
    "            print(f\"당신의 생명력은 {Life}입니다.\")\n",
    "        if Life == 0:\n",
    "            print(\"당신의 생명력이 다 하였습니다.\")\n",
    "            break\n",
    "\n",
    "    \n",
    "    if Typed == Give:\n",
    "        score += 1\n",
    "        print(f\"당신의 점수는 {score}입니다.\")\n",
    "        break\n",
    "\n",
    "    if Life == 0:\n",
    "        print(\"당신의 생명력이 다 하였습니다.\")\n",
    "        break\n"
   ]
  },
  {
   "cell_type": "code",
   "execution_count": null,
   "id": "80d3f8da",
   "metadata": {},
   "outputs": [
    {
     "name": "stdout",
     "output_type": "stream",
     "text": [
      "[1, 2, 3, 4, 5]\n",
      "[1, 2, 3, 4, 5]\n",
      "1696499635584\n",
      "1696498265088\n"
     ]
    }
   ],
   "source": [
    "my_list = [1,2,3,4,5]\n",
    "print(my_list)\n",
    "#a = my_list #같은 주소\n",
    "a = my_list[:] #다른 주소\n",
    "print(a)\n",
    "id(my_list)\n",
    "print(id(my_list))\n",
    "print(id(a))"
   ]
  },
  {
   "cell_type": "code",
   "execution_count": 3,
   "id": "32cfe8d2",
   "metadata": {},
   "outputs": [
    {
     "name": "stdout",
     "output_type": "stream",
     "text": [
      "당신의 생명력은 2입니다.\n",
      "당신의 생명력은 1입니다.\n",
      "당신의 생명력은 0입니다.\n",
      "당신의 생명력이 다 하였습니다.\n"
     ]
    }
   ],
   "source": [
    "Life = 3\n",
    "start_time = time.time()\n",
    "while Life > 0:\n",
    "    while True:\n",
    "        end_time = time.time()\n",
    "        duration = end_time - start_time\n",
    "        if duration == 2 or duration == 4 or duration == 6:\n",
    "            Life -= 1\n",
    "            print(f\"당신의 생명력은 {Life}입니다.\")\n",
    "        if Life == 0:\n",
    "            print(\"당신의 생명력이 다 하였습니다.\")\n",
    "            break"
   ]
  },
  {
   "cell_type": "code",
   "execution_count": 2,
   "id": "e42f6602",
   "metadata": {},
   "outputs": [],
   "source": [
    "import time\n",
    "start_time = time.time()\n",
    "while True:\n",
    "    end_time = time.time()\n",
    "    duration = end_time - start_time\n",
    "    if duration == 2 or duration == 4 or duration == 6:\n",
    "        break"
   ]
  }
 ],
 "metadata": {
  "kernelspec": {
   "display_name": "my_venv",
   "language": "python",
   "name": "python3"
  },
  "language_info": {
   "codemirror_mode": {
    "name": "ipython",
    "version": 3
   },
   "file_extension": ".py",
   "mimetype": "text/x-python",
   "name": "python",
   "nbconvert_exporter": "python",
   "pygments_lexer": "ipython3",
   "version": "3.13.4"
  }
 },
 "nbformat": 4,
 "nbformat_minor": 5
}
