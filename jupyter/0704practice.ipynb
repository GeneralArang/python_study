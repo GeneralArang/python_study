{
 "cells": [
  {
   "cell_type": "code",
   "execution_count": 6,
   "id": "3a26f5ca",
   "metadata": {},
   "outputs": [
    {
     "name": "stdout",
     "output_type": "stream",
     "text": [
      "술 안팔아요. 나가세요\n"
     ]
    }
   ],
   "source": [
    "age = int(input(\"나이가?\"))\n",
    "if (age>=19):\n",
    "    print(\"어서오십시오. 소주한병에 100원입니다.\")\n",
    "else:\n",
    "    print(\"술 안팔아요. 나가세요\")\n"
   ]
  },
  {
   "cell_type": "code",
   "execution_count": 8,
   "id": "460beca5",
   "metadata": {},
   "outputs": [
    {
     "data": {
      "text/plain": [
       "False"
      ]
     },
     "execution_count": 8,
     "metadata": {},
     "output_type": "execute_result"
    }
   ],
   "source": [
    "x=3\n",
    "y=2\n",
    "x == y"
   ]
  },
  {
   "cell_type": "code",
   "execution_count": 13,
   "id": "5577c465",
   "metadata": {},
   "outputs": [
    {
     "name": "stdout",
     "output_type": "stream",
     "text": [
      "1000.0 할인되었음!\n"
     ]
    }
   ],
   "source": [
    "sales = int(input(\"가격을 입력하세요\"))\n",
    "if sales > 1000:\n",
    "    discount = sales*0.1\n",
    "    print(discount, \"할인되었음!\")\n",
    "else:\n",
    "    if sales > 500:\n",
    "        discount = sales*0.05\n",
    "        print(discount, \"할인되었음\")\n",
    "    else :\n",
    "        print(\"할인은 없습니다.\")"
   ]
  },
  {
   "cell_type": "code",
   "execution_count": 17,
   "id": "098821b3",
   "metadata": {},
   "outputs": [
    {
     "name": "stdout",
     "output_type": "stream",
     "text": [
      "A\n"
     ]
    }
   ],
   "source": [
    "score = int(input(\"성적을 입력하시오\"))\n",
    "\n",
    "if 100>=score>=90:\n",
    "    print(\"A\")\n",
    "elif 90>score>=80:\n",
    "    print(\"B\")\n",
    "elif 80>score>=70:\n",
    "    print(\"C\")\n",
    "elif 70>score>=60:\n",
    "    print(\"D\")\n",
    "elif 60>score>=0:\n",
    "    print(\"F\")\n",
    "else:\n",
    "    print(\"값을 잘못 입력하셨습니다.\")"
   ]
  },
  {
   "cell_type": "code",
   "execution_count": 19,
   "id": "1aa15c36",
   "metadata": {},
   "outputs": [
    {
     "name": "stdout",
     "output_type": "stream",
     "text": [
      "10개 삼\n"
     ]
    }
   ],
   "source": [
    "appleQuality = input(\"사과의 상태를 신선 또는 구림으로 입력하세요\")\n",
    "applePrice = int(input(\"사과 1개 가격을 입력하세요\"))\n",
    "if appleQuality == \"신선\":\n",
    "    if applePrice < 1000:\n",
    "        print(\"10개 삼\")\n",
    "    else:\n",
    "        print(\"5개 삼\")\n",
    "else:\n",
    "    print(\"사지 않는다\")"
   ]
  },
  {
   "cell_type": "code",
   "execution_count": 22,
   "id": "c7e76b41",
   "metadata": {},
   "outputs": [
    {
     "name": "stdout",
     "output_type": "stream",
     "text": [
      "b는 a의 약수입니다.\n"
     ]
    }
   ],
   "source": [
    "a = int(input(\"첫번째 숫자를 입력하세요 : \"))\n",
    "b = int(input(\"두번째 숫자를 입력하세요 : \"))\n",
    "if a%b == 0:\n",
    "    print(\"b는 a의 약수입니다.\")\n",
    "else:\n",
    "    print(\"b는 a의 약수가 아닙니다.\")"
   ]
  },
  {
   "cell_type": "code",
   "execution_count": null,
   "id": "80dae671",
   "metadata": {},
   "outputs": [
    {
     "name": "stdout",
     "output_type": "stream",
     "text": [
      "이상기온이거나 잘못입력하셨습니다.\n"
     ]
    }
   ],
   "source": [
    "a = int(input(\"초여름인 현재 온도가 몇도입니까?\"))\n",
    "if 50>a>=25:\n",
    "    print(\"오늘 날씨가 더우므로 반바지를 추천합니다.\")\n",
    "elif 25>a>10:\n",
    "    print(\"오늘 날씨가 선선하므로 긴바지를 추천합니다.\")\n",
    "else:\n",
    "    print(\"이상기온이거나 잘못입력하셨습니다.\")"
   ]
  },
  {
   "cell_type": "code",
   "execution_count": 27,
   "id": "db370a31",
   "metadata": {},
   "outputs": [
    {
     "name": "stdout",
     "output_type": "stream",
     "text": [
      "Triangle\n"
     ]
    }
   ],
   "source": [
    "a = input(\"영문자를 입력하세요!!\")\n",
    "if a == \"R\" or a == \"r\":\n",
    "    print(\"Ractangle\")\n",
    "elif a == \"T\" or a == \"t\":\n",
    "    print(\"Triangle\")\n",
    "elif a == \"C\" or a == \"c\":\n",
    "    print(\"Circle\")\n",
    "else:\n",
    "    print(\"Unknown\")"
   ]
  },
  {
   "cell_type": "code",
   "execution_count": 29,
   "id": "0c538e41",
   "metadata": {},
   "outputs": [
    {
     "name": "stdout",
     "output_type": "stream",
     "text": [
      "잘못된 값입니다.\n"
     ]
    }
   ],
   "source": [
    "r = int(input(\"원의 반지름을 입력하시오!\"))\n",
    "Area = 3.141592 * r**2\n",
    "if r > 0:\n",
    "    print(\"원의 면적은 %d입니다\" %Area)\n",
    "else:\n",
    "    print(\"잘못된 값입니다.\")"
   ]
  },
  {
   "cell_type": "code",
   "execution_count": 3,
   "id": "c0bab22f",
   "metadata": {},
   "outputs": [
    {
     "name": "stdout",
     "output_type": "stream",
     "text": [
      "세번째 정수가 가장 작다.\n"
     ]
    }
   ],
   "source": [
    "a = int(input(\"첫번째 정수를 입력하시오\"))\n",
    "b = int(input(\"두번째 정수를 입력하시오\"))\n",
    "c = int(input(\"세번째 정수를 입력하시오\"))\n",
    "if a<b and a<c:\n",
    "    print(\"첫번째 정수가 가장 작다.\")\n",
    "elif c>b:\n",
    "    print(\"두번째 정수가 가장 작다.\")\n",
    "else :\n",
    "    print(\"세번째 정수가 가장 작다.\")\n",
    "    \n"
   ]
  },
  {
   "cell_type": "code",
   "execution_count": 7,
   "id": "a96c9269",
   "metadata": {},
   "outputs": [
    {
     "name": "stdout",
     "output_type": "stream",
     "text": [
      "입장 불가능\n"
     ]
    }
   ],
   "source": [
    "a = int(input(\"나이를 입력하세요!\"))\n",
    "b = int(input(\"키를 입력하세요!\"))\n",
    "if a>=10 and b>=140:\n",
    "    print(\"입장가능\")\n",
    "else:\n",
    "    print(\"입장 불가능\")"
   ]
  },
  {
   "cell_type": "code",
   "execution_count": 2,
   "id": "91533f55",
   "metadata": {},
   "outputs": [
    {
     "name": "stdout",
     "output_type": "stream",
     "text": [
      "짐\n"
     ]
    }
   ],
   "source": [
    "import random\n",
    "a = input(\"가위바위보를 입력하시오\")\n",
    "b = random.randint(1,3)\n",
    "if b==1:\n",
    "    if a == \"가위\":\n",
    "        print(\"비김\")\n",
    "    elif a == \"바위\":\n",
    "        print(\"짐\")\n",
    "    else:\n",
    "        print(\"이김\")\n",
    "elif b==2:\n",
    "    if a == \"바위\":\n",
    "        print(\"비김\")\n",
    "    elif a == \"보\":\n",
    "        print(\"짐\")\n",
    "    else:\n",
    "        print(\"이김\")\n",
    "else:\n",
    "    if a == \"보\":\n",
    "        print(\"비김\")\n",
    "    elif a == \"가위\":\n",
    "        print(\"짐\")\n",
    "    else:\n",
    "        print(\"이김\")"
   ]
  },
  {
   "cell_type": "code",
   "execution_count": 4,
   "id": "e82a4835",
   "metadata": {},
   "outputs": [
    {
     "name": "stdout",
     "output_type": "stream",
     "text": [
      "세번째 정수가 가장 작다.\n"
     ]
    }
   ],
   "source": [
    "a = int(input(\"첫번째 정수를 입력하시오\"))\n",
    "b = int(input(\"두번째 정수를 입력하시오\"))\n",
    "c = int(input(\"세번째 정수를 입력하시오\"))\n",
    "if a<b and a<c:\n",
    "    print(\"첫번째 정수가 가장 작다.\")\n",
    "elif c>b:\n",
    "    print(\"두번째 정수가 가장 작다.\")\n",
    "else :\n",
    "    print(\"세번째 정수가 가장 작다.\")\n",
    "    "
   ]
  },
  {
   "cell_type": "code",
   "execution_count": null,
   "id": "62b1ee4a",
   "metadata": {},
   "outputs": [
    {
     "name": "stdout",
     "output_type": "stream",
     "text": [
      "정답입니다.\n"
     ]
    }
   ],
   "source": [
    "import random\n",
    "a = random.randint(1,9)\n",
    "b = random.randint(1,9)\n",
    "c = random.randint(1,4)\n",
    "\n",
    "if c == 1:\n",
    "    d = a + b\n",
    "    e = int(input((\"a = %d, b = %d, a+b = ? \") %(a,b)))\n",
    "    if e == d:\n",
    "        print(\"정답입니다.\")\n",
    "    else:\n",
    "        print(\"오답입니다.\")\n",
    "elif c == 2:\n",
    "    d = a - b\n",
    "    e = int(input((\"a = %d, b = %d, a-b = ? \") %(a,b)))\n",
    "    if e == d:\n",
    "        print(\"정답입니다.\")\n",
    "    else:\n",
    "        print(\"오답입니다.\")\n",
    "elif c == 3:\n",
    "    d = a * b\n",
    "    e = int(input((\"a = %d, b = %d, a*b = ? \") %(a,b)))\n",
    "    if e == d:\n",
    "        print(\"정답입니다.\")\n",
    "    else:\n",
    "        print(\"오답입니다.\")\n",
    "elif c == 4:\n",
    "    d = a / b\n",
    "    d = round(d,2)\n",
    "    e = float(input((\"a = %d, b = %d, a/b = ? \") %(a,b)))\n",
    "    if e == d:\n",
    "        print(\"정답입니다.\")\n",
    "    else:\n",
    "        print(\"오답입니다.\")\n",
    "\n"
   ]
  },
  {
   "cell_type": "code",
   "execution_count": 26,
   "id": "38c80bad",
   "metadata": {},
   "outputs": [
    {
     "name": "stdout",
     "output_type": "stream",
     "text": [
      "정답입니다.\n"
     ]
    }
   ],
   "source": [
    "import random\n",
    "a = random.randint(1,9)\n",
    "b = random.randint(1,9)\n",
    "c = random.randint(1,4)\n",
    "\n",
    "match c:\n",
    "    case 1:\n",
    "        d = a + b\n",
    "        e = int(input((\"a = %d, b = %d, a+b = ? \") %(a,b)))\n",
    "        if e == d:\n",
    "           print(\"정답입니다.\")\n",
    "        else:\n",
    "           print(\"오답입니다.\")\n",
    "    case 2:\n",
    "        d = a - b\n",
    "        e = int(input((\"a = %d, b = %d, a+b = ? \") %(a,b)))\n",
    "        if e == d:\n",
    "           print(\"정답입니다.\")\n",
    "        else:\n",
    "           print(\"오답입니다.\")\n",
    "    case 3:\n",
    "        d = a * b\n",
    "        e = int(input((\"a = %d, b = %d, a+b = ? \") %(a,b)))\n",
    "        if e == d:\n",
    "           print(\"정답입니다.\")\n",
    "        else:\n",
    "           print(\"오답입니다.\")\n",
    "    case 4:\n",
    "        d = a / b\n",
    "        d = round(d,2)\n",
    "        e = float(input((\"a = %d, b = %d, a/b = ? \") %(a,b)))\n",
    "        if e == d:\n",
    "           print(\"정답입니다.\")\n",
    "        else:\n",
    "           print(\"오답입니다.\")\n",
    "        "
   ]
  },
  {
   "cell_type": "code",
   "execution_count": 35,
   "id": "cf9f387a",
   "metadata": {},
   "outputs": [
    {
     "name": "stdout",
     "output_type": "stream",
     "text": [
      "3 4 5 6 7 8 9 10 11 12 "
     ]
    }
   ],
   "source": [
    "x=0\n",
    "for y in range(3,13):\n",
    "    print(x+y, end=\" \")"
   ]
  },
  {
   "cell_type": "code",
   "execution_count": 37,
   "id": "ed9a75c5",
   "metadata": {},
   "outputs": [
    {
     "name": "stdout",
     "output_type": "stream",
     "text": [
      "장미 가시 튤립 None 해바라기 <class 'str'>\n"
     ]
    }
   ],
   "source": [
    "for x in [\"장미\", \"가시\", \"튤립\", None, \"해바라기\"]:\n",
    "    print(x, end=\" \")\n",
    "\n",
    "print(type(x))"
   ]
  },
  {
   "cell_type": "code",
   "execution_count": 38,
   "id": "72feafbc",
   "metadata": {},
   "outputs": [
    {
     "name": "stdout",
     "output_type": "stream",
     "text": [
      " 현재 찾는중인 과일 : apple\n",
      " 현재 찾는중인 과일 : banana\n",
      "찾는 과일 'orange'을(를) 찾았습니다.\n",
      "탐색을 완료하였습니다.\n"
     ]
    }
   ],
   "source": [
    "fruits = [\"apple\", \"banana\", \"orange\", \"grape\", \"kiwi\"]\n",
    "search_fruit = \"orange\"\n",
    "\n",
    "for fruit in fruits:\n",
    "    if fruit == search_fruit:\n",
    "        print(f\"찾는 과일 '{search_fruit}'을(를) 찾았습니다.\")\n",
    "        break\n",
    "    print(f\" 현재 찾는중인 과일 : {fruit}\")\n",
    "\n",
    "print(\"탐색을 완료하였습니다.\")"
   ]
  },
  {
   "cell_type": "code",
   "execution_count": 41,
   "id": "917e5269",
   "metadata": {},
   "outputs": [
    {
     "name": "stdout",
     "output_type": "stream",
     "text": [
      "1 2 3 4 5 6 "
     ]
    }
   ],
   "source": [
    "for x in \"123456\":\n",
    "    print(x, end = \" \")"
   ]
  },
  {
   "cell_type": "code",
   "execution_count": 42,
   "id": "7f478486",
   "metadata": {},
   "outputs": [
    {
     "name": "stdout",
     "output_type": "stream",
     "text": [
      "welcome\n",
      "welcome\n",
      "welcome\n",
      "welcome\n",
      "welcome\n",
      "stop loop\n"
     ]
    }
   ],
   "source": [
    "i = 0\n",
    "while i < 5:\n",
    "    print(\"welcome\")\n",
    "    i = i+1\n",
    "print('stop loop')"
   ]
  },
  {
   "cell_type": "code",
   "execution_count": 44,
   "id": "5df04f30",
   "metadata": {},
   "outputs": [
    {
     "name": "stdout",
     "output_type": "stream",
     "text": [
      "종료하려면 음수값을 입력하시오\n",
      "평균점수는 35.0 입니다.\n"
     ]
    }
   ],
   "source": [
    "score = 0\n",
    "total_sum = 0\n",
    "c = 0\n",
    "print(\"종료하려면 음수값을 입력하시오\")\n",
    "while score >= 0:\n",
    "    score = int(input(\"점수를 입력하시오 : \"))\n",
    "    if score > 0 :\n",
    "        total_sum += score\n",
    "        c += 1\n",
    "if c > 0:\n",
    "    average = total_sum / c\n",
    "    print(\"평균점수는\" , average,  \"입니다.\")"
   ]
  },
  {
   "cell_type": "code",
   "execution_count": 55,
   "id": "d1da830d",
   "metadata": {},
   "outputs": [
    {
     "name": "stdout",
     "output_type": "stream",
     "text": [
      "평균점수는 50.000000입니다.\n"
     ]
    }
   ],
   "source": [
    "score0 = 0\n",
    "total_sum = 0\n",
    "c = 0\n",
    "score = list(map(int,input(\"점수를 입력하시오:\").split()))\n",
    "for score0 in score:\n",
    "    total_sum +=score0\n",
    "    c +=1\n",
    "average = total_sum / c\n",
    "print(\"평균점수는 %f입니다.\" %total_sum)"
   ]
  },
  {
   "cell_type": "code",
   "execution_count": 52,
   "id": "311c9ffd",
   "metadata": {},
   "outputs": [
    {
     "name": "stdout",
     "output_type": "stream",
     "text": [
      "[13, 24, 53]\n"
     ]
    }
   ],
   "source": [
    "score = list(map(int,input(\"점수를 입력하시오:\").split()))\n",
    "print(score)"
   ]
  },
  {
   "cell_type": "code",
   "execution_count": null,
   "id": "9728864b",
   "metadata": {},
   "outputs": [
    {
     "name": "stdout",
     "output_type": "stream",
     "text": [
      "*\n",
      "* *\n",
      "* * *\n",
      "* * * *\n",
      "* * * * *\n",
      "* * * * * "
     ]
    }
   ],
   "source": [
    "h = int(input(\"층수 입력\"))\n",
    "for x in range(h):\n",
    "    print(\"*\")\n",
    "    for y in range(x+1):\n",
    "        print(\"*\", end = \" \")\n"
   ]
  },
  {
   "cell_type": "code",
   "execution_count": 73,
   "id": "f3d1c7c8",
   "metadata": {},
   "outputs": [
    {
     "name": "stdout",
     "output_type": "stream",
     "text": [
      "<class 'int'>\n",
      "3 3 3 3 3 <class 'int'>\n",
      "1 1 1 1 1 <class 'int'>\n",
      "4 4 4 4 4 <class 'int'>\n",
      "5 5 5 5 5 <class 'int'>\n",
      "6 6 6 6 6 "
     ]
    }
   ],
   "source": [
    "for x in [3,1,4,5,6]:\n",
    "    print(type(x))\n",
    "    for y in range(5):\n",
    "        print(x,end=\" \")"
   ]
  },
  {
   "cell_type": "code",
   "execution_count": 75,
   "id": "bc46c2d6",
   "metadata": {},
   "outputs": [
    {
     "name": "stdout",
     "output_type": "stream",
     "text": [
      "\n",
      "* * * * * \n",
      "* * * * * \n",
      "* * * * * \n",
      "* * * * * \n",
      "* * * * * "
     ]
    }
   ],
   "source": [
    "x = int(input('정수'))\n",
    "for y in range(x):\n",
    "    print()\n",
    "    for z in range(x):\n",
    "        print(\"*\",end=\" \")"
   ]
  },
  {
   "cell_type": "code",
   "execution_count": 80,
   "id": "4c04725f",
   "metadata": {},
   "outputs": [
    {
     "name": "stdout",
     "output_type": "stream",
     "text": [
      "모음의 개수 0\n",
      "자음의 개수 0\n"
     ]
    }
   ],
   "source": [
    "original = input(\"문자열을 입력하시오.\")\n",
    "word = original.capitalize()\n",
    "vowels = 0\n",
    "consonants = 0\n",
    "\n",
    "if len(original) > 0 and original.isalpha():\n",
    "    for char in word:\n",
    "        if char in 'aeiou':\n",
    "            vowels +=1\n",
    "        else:\n",
    "            consonants +=1\n",
    "\n",
    "print(\"모음의 개수\", vowels)\n",
    "print(\"자음의 개수\", consonants)"
   ]
  },
  {
   "cell_type": "code",
   "execution_count": 83,
   "id": "ddbca2c6",
   "metadata": {},
   "outputs": [
    {
     "name": "stdout",
     "output_type": "stream",
     "text": [
      "잘못입력함\n",
      "잘못입력함\n",
      "모음의 개수 10\n",
      "자음의 개수 12\n"
     ]
    }
   ],
   "source": [
    "original = input(\"문자열을 입력하시오.\")\n",
    "word = original.capitalize()\n",
    "vowels = 0\n",
    "consonants = 0\n",
    "e = 0\n",
    "while vowels == 0:\n",
    "    if len(original) > 0 and original.isalpha():\n",
    "        for char in word:\n",
    "            if char in 'aeiou':\n",
    "                vowels +=1\n",
    "            else:\n",
    "                consonants +=1\n",
    "    else:\n",
    "        print(\"잘못입력함\")\n",
    "        original = input(\"다시 입력하시오\")\n",
    "\n",
    "\n",
    "print(\"모음의 개수\", vowels)\n",
    "print(\"자음의 개수\", consonants)"
   ]
  },
  {
   "cell_type": "code",
   "execution_count": null,
   "id": "3a8a88b4",
   "metadata": {},
   "outputs": [],
   "source": []
  }
 ],
 "metadata": {
  "kernelspec": {
   "display_name": "Python 3",
   "language": "python",
   "name": "python3"
  },
  "language_info": {
   "codemirror_mode": {
    "name": "ipython",
    "version": 3
   },
   "file_extension": ".py",
   "mimetype": "text/x-python",
   "name": "python",
   "nbconvert_exporter": "python",
   "pygments_lexer": "ipython3",
   "version": "3.13.5"
  }
 },
 "nbformat": 4,
 "nbformat_minor": 5
}
