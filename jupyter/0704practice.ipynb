{
 "cells": [
  {
   "cell_type": "code",
   "execution_count": 6,
   "id": "3a26f5ca",
   "metadata": {},
   "outputs": [
    {
     "name": "stdout",
     "output_type": "stream",
     "text": [
      "술 안팔아요. 나가세요\n"
     ]
    }
   ],
   "source": [
    "age = int(input(\"나이가?\"))\n",
    "if (age>=19):\n",
    "    print(\"어서오십시오. 소주한병에 100원입니다.\")\n",
    "else:\n",
    "    print(\"술 안팔아요. 나가세요\")\n"
   ]
  },
  {
   "cell_type": "code",
   "execution_count": 8,
   "id": "460beca5",
   "metadata": {},
   "outputs": [
    {
     "data": {
      "text/plain": [
       "False"
      ]
     },
     "execution_count": 8,
     "metadata": {},
     "output_type": "execute_result"
    }
   ],
   "source": [
    "x=3\n",
    "y=2\n",
    "x == y"
   ]
  },
  {
   "cell_type": "code",
   "execution_count": 13,
   "id": "5577c465",
   "metadata": {},
   "outputs": [
    {
     "name": "stdout",
     "output_type": "stream",
     "text": [
      "1000.0 할인되었음!\n"
     ]
    }
   ],
   "source": [
    "sales = int(input(\"가격을 입력하세요\"))\n",
    "if sales > 1000:\n",
    "    discount = sales*0.1\n",
    "    print(discount, \"할인되었음!\")\n",
    "else:\n",
    "    if sales > 500:\n",
    "        discount = sales*0.05\n",
    "        print(discount, \"할인되었음\")\n",
    "    else :\n",
    "        print(\"할인은 없습니다.\")"
   ]
  },
  {
   "cell_type": "code",
   "execution_count": 17,
   "id": "098821b3",
   "metadata": {},
   "outputs": [
    {
     "name": "stdout",
     "output_type": "stream",
     "text": [
      "A\n"
     ]
    }
   ],
   "source": [
    "score = int(input(\"성적을 입력하시오\"))\n",
    "\n",
    "if 100>=score>=90:\n",
    "    print(\"A\")\n",
    "elif 90>score>=80:\n",
    "    print(\"B\")\n",
    "elif 80>score>=70:\n",
    "    print(\"C\")\n",
    "elif 70>score>=60:\n",
    "    print(\"D\")\n",
    "elif 60>score>=0:\n",
    "    print(\"F\")\n",
    "else:\n",
    "    print(\"값을 잘못 입력하셨습니다.\")"
   ]
  },
  {
   "cell_type": "code",
   "execution_count": 19,
   "id": "1aa15c36",
   "metadata": {},
   "outputs": [
    {
     "name": "stdout",
     "output_type": "stream",
     "text": [
      "10개 삼\n"
     ]
    }
   ],
   "source": [
    "appleQuality = input(\"사과의 상태를 신선 또는 구림으로 입력하세요\")\n",
    "applePrice = int(input(\"사과 1개 가격을 입력하세요\"))\n",
    "if appleQuality == \"신선\":\n",
    "    if applePrice < 1000:\n",
    "        print(\"10개 삼\")\n",
    "    else:\n",
    "        print(\"5개 삼\")\n",
    "else:\n",
    "    print(\"사지 않는다\")"
   ]
  },
  {
   "cell_type": "code",
   "execution_count": 22,
   "id": "c7e76b41",
   "metadata": {},
   "outputs": [
    {
     "name": "stdout",
     "output_type": "stream",
     "text": [
      "b는 a의 약수입니다.\n"
     ]
    }
   ],
   "source": [
    "a = int(input(\"첫번째 숫자를 입력하세요 : \"))\n",
    "b = int(input(\"두번째 숫자를 입력하세요 : \"))\n",
    "if a%b == 0:\n",
    "    print(\"b는 a의 약수입니다.\")\n",
    "else:\n",
    "    print(\"b는 a의 약수가 아닙니다.\")"
   ]
  },
  {
   "cell_type": "code",
   "execution_count": null,
   "id": "80dae671",
   "metadata": {},
   "outputs": [
    {
     "name": "stdout",
     "output_type": "stream",
     "text": [
      "이상기온이거나 잘못입력하셨습니다.\n"
     ]
    }
   ],
   "source": [
    "a = int(input(\"초여름인 현재 온도가 몇도입니까?\"))\n",
    "if 50>a>=25:\n",
    "    print(\"오늘 날씨가 더우므로 반바지를 추천합니다.\")\n",
    "elif 25>a>10:\n",
    "    print(\"오늘 날씨가 선선하므로 긴바지를 추천합니다.\")\n",
    "else:\n",
    "    print(\"이상기온이거나 잘못입력하셨습니다.\")"
   ]
  },
  {
   "cell_type": "code",
   "execution_count": 27,
   "id": "db370a31",
   "metadata": {},
   "outputs": [
    {
     "name": "stdout",
     "output_type": "stream",
     "text": [
      "Triangle\n"
     ]
    }
   ],
   "source": [
    "a = input(\"영문자를 입력하세요!!\")\n",
    "if a == \"R\" or a == \"r\":\n",
    "    print(\"Ractangle\")\n",
    "elif a == \"T\" or a == \"t\":\n",
    "    print(\"Triangle\")\n",
    "elif a == \"C\" or a == \"c\":\n",
    "    print(\"Circle\")\n",
    "else:\n",
    "    print(\"Unknown\")"
   ]
  },
  {
   "cell_type": "code",
   "execution_count": 29,
   "id": "0c538e41",
   "metadata": {},
   "outputs": [
    {
     "name": "stdout",
     "output_type": "stream",
     "text": [
      "잘못된 값입니다.\n"
     ]
    }
   ],
   "source": [
    "r = int(input(\"원의 반지름을 입력하시오!\"))\n",
    "Area = 3.141592 * r**2\n",
    "if r > 0:\n",
    "    print(\"원의 면적은 %d입니다\" %Area)\n",
    "else:\n",
    "    print(\"잘못된 값입니다.\")"
   ]
  },
  {
   "cell_type": "code",
   "execution_count": null,
   "id": "c0bab22f",
   "metadata": {},
   "outputs": [],
   "source": [
    "a = int(input(\"첫번째 정수를 입력하시오\"))\n",
    "b = int(input(\"두번째 정수를 입력하시오\"))\n",
    "c = int(input(\"세번째 정수를 입력하시오\"))\n",
    "if \n",
    "    \n"
   ]
  }
 ],
 "metadata": {
  "kernelspec": {
   "display_name": "Python 3",
   "language": "python",
   "name": "python3"
  },
  "language_info": {
   "codemirror_mode": {
    "name": "ipython",
    "version": 3
   },
   "file_extension": ".py",
   "mimetype": "text/x-python",
   "name": "python",
   "nbconvert_exporter": "python",
   "pygments_lexer": "ipython3",
   "version": "3.13.5"
  }
 },
 "nbformat": 4,
 "nbformat_minor": 5
}
