{
 "cells": [
  {
   "cell_type": "code",
   "execution_count": 6,
   "id": "3a26f5ca",
   "metadata": {},
   "outputs": [
    {
     "name": "stdout",
     "output_type": "stream",
     "text": [
      "술 안팔아요. 나가세요\n"
     ]
    }
   ],
   "source": [
    "age = int(input(\"나이가?\"))\n",
    "if (age>=19):\n",
    "    print(\"어서오십시오. 소주한병에 100원입니다.\")\n",
    "else:\n",
    "    print(\"술 안팔아요. 나가세요\")\n"
   ]
  },
  {
   "cell_type": "code",
   "execution_count": 8,
   "id": "460beca5",
   "metadata": {},
   "outputs": [
    {
     "data": {
      "text/plain": [
       "False"
      ]
     },
     "execution_count": 8,
     "metadata": {},
     "output_type": "execute_result"
    }
   ],
   "source": [
    "x=3\n",
    "y=2\n",
    "x == y"
   ]
  },
  {
   "cell_type": "code",
   "execution_count": 13,
   "id": "5577c465",
   "metadata": {},
   "outputs": [
    {
     "name": "stdout",
     "output_type": "stream",
     "text": [
      "1000.0 할인되었음!\n"
     ]
    }
   ],
   "source": [
    "sales = int(input(\"가격을 입력하세요\"))\n",
    "if sales > 1000:\n",
    "    discount = sales*0.1\n",
    "    print(discount, \"할인되었음!\")\n",
    "else:\n",
    "    if sales > 500:\n",
    "        discount = sales*0.05\n",
    "        print(discount, \"할인되었음\")\n",
    "    else :\n",
    "        print(\"할인은 없습니다.\")"
   ]
  },
  {
   "cell_type": "code",
   "execution_count": 17,
   "id": "098821b3",
   "metadata": {},
   "outputs": [
    {
     "name": "stdout",
     "output_type": "stream",
     "text": [
      "A\n"
     ]
    }
   ],
   "source": [
    "score = int(input(\"성적을 입력하시오\"))\n",
    "\n",
    "if 100>=score>=90:\n",
    "    print(\"A\")\n",
    "elif 90>score>=80:\n",
    "    print(\"B\")\n",
    "elif 80>score>=70:\n",
    "    print(\"C\")\n",
    "elif 70>score>=60:\n",
    "    print(\"D\")\n",
    "elif 60>score>=0:\n",
    "    print(\"F\")\n",
    "else:\n",
    "    print(\"값을 잘못 입력하셨습니다.\")"
   ]
  },
  {
   "cell_type": "code",
   "execution_count": 19,
   "id": "1aa15c36",
   "metadata": {},
   "outputs": [
    {
     "name": "stdout",
     "output_type": "stream",
     "text": [
      "10개 삼\n"
     ]
    }
   ],
   "source": [
    "appleQuality = input(\"사과의 상태를 신선 또는 구림으로 입력하세요\")\n",
    "applePrice = int(input(\"사과 1개 가격을 입력하세요\"))\n",
    "if appleQuality == \"신선\":\n",
    "    if applePrice < 1000:\n",
    "        print(\"10개 삼\")\n",
    "    else:\n",
    "        print(\"5개 삼\")\n",
    "else:\n",
    "    print(\"사지 않는다\")"
   ]
  },
  {
   "cell_type": "code",
   "execution_count": 22,
   "id": "c7e76b41",
   "metadata": {},
   "outputs": [
    {
     "name": "stdout",
     "output_type": "stream",
     "text": [
      "b는 a의 약수입니다.\n"
     ]
    }
   ],
   "source": [
    "a = int(input(\"첫번째 숫자를 입력하세요 : \"))\n",
    "b = int(input(\"두번째 숫자를 입력하세요 : \"))\n",
    "if a%b == 0:\n",
    "    print(\"b는 a의 약수입니다.\")\n",
    "else:\n",
    "    print(\"b는 a의 약수가 아닙니다.\")"
   ]
  },
  {
   "cell_type": "code",
   "execution_count": null,
   "id": "80dae671",
   "metadata": {},
   "outputs": [
    {
     "name": "stdout",
     "output_type": "stream",
     "text": [
      "이상기온이거나 잘못입력하셨습니다.\n"
     ]
    }
   ],
   "source": [
    "a = int(input(\"초여름인 현재 온도가 몇도입니까?\"))\n",
    "if 50>a>=25:\n",
    "    print(\"오늘 날씨가 더우므로 반바지를 추천합니다.\")\n",
    "elif 25>a>10:\n",
    "    print(\"오늘 날씨가 선선하므로 긴바지를 추천합니다.\")\n",
    "else:\n",
    "    print(\"이상기온이거나 잘못입력하셨습니다.\")"
   ]
  },
  {
   "cell_type": "code",
   "execution_count": 27,
   "id": "db370a31",
   "metadata": {},
   "outputs": [
    {
     "name": "stdout",
     "output_type": "stream",
     "text": [
      "Triangle\n"
     ]
    }
   ],
   "source": [
    "a = input(\"영문자를 입력하세요!!\")\n",
    "if a == \"R\" or a == \"r\":\n",
    "    print(\"Ractangle\")\n",
    "elif a == \"T\" or a == \"t\":\n",
    "    print(\"Triangle\")\n",
    "elif a == \"C\" or a == \"c\":\n",
    "    print(\"Circle\")\n",
    "else:\n",
    "    print(\"Unknown\")"
   ]
  },
  {
   "cell_type": "code",
   "execution_count": 29,
   "id": "0c538e41",
   "metadata": {},
   "outputs": [
    {
     "name": "stdout",
     "output_type": "stream",
     "text": [
      "잘못된 값입니다.\n"
     ]
    }
   ],
   "source": [
    "r = int(input(\"원의 반지름을 입력하시오!\"))\n",
    "Area = 3.141592 * r**2\n",
    "if r > 0:\n",
    "    print(\"원의 면적은 %d입니다\" %Area)\n",
    "else:\n",
    "    print(\"잘못된 값입니다.\")"
   ]
  },
  {
   "cell_type": "code",
   "execution_count": 3,
   "id": "c0bab22f",
   "metadata": {},
   "outputs": [
    {
     "name": "stdout",
     "output_type": "stream",
     "text": [
      "세번째 정수가 가장 작다.\n"
     ]
    }
   ],
   "source": [
    "a = int(input(\"첫번째 정수를 입력하시오\"))\n",
    "b = int(input(\"두번째 정수를 입력하시오\"))\n",
    "c = int(input(\"세번째 정수를 입력하시오\"))\n",
    "if a<b and a<c:\n",
    "    print(\"첫번째 정수가 가장 작다.\")\n",
    "elif c>b:\n",
    "    print(\"두번째 정수가 가장 작다.\")\n",
    "else :\n",
    "    print(\"세번째 정수가 가장 작다.\")\n",
    "    \n"
   ]
  },
  {
   "cell_type": "code",
   "execution_count": 7,
   "id": "a96c9269",
   "metadata": {},
   "outputs": [
    {
     "name": "stdout",
     "output_type": "stream",
     "text": [
      "입장 불가능\n"
     ]
    }
   ],
   "source": [
    "a = int(input(\"나이를 입력하세요!\"))\n",
    "b = int(input(\"키를 입력하세요!\"))\n",
    "if a>=10 and b>=140:\n",
    "    print(\"입장가능\")\n",
    "else:\n",
    "    print(\"입장 불가능\")"
   ]
  },
  {
   "cell_type": "code",
   "execution_count": 2,
   "id": "91533f55",
   "metadata": {},
   "outputs": [
    {
     "name": "stdout",
     "output_type": "stream",
     "text": [
      "짐\n"
     ]
    }
   ],
   "source": [
    "import random\n",
    "a = input(\"가위바위보를 입력하시오\")\n",
    "b = random.randint(1,3)\n",
    "if b==1:\n",
    "    if a == \"가위\":\n",
    "        print(\"비김\")\n",
    "    elif a == \"바위\":\n",
    "        print(\"짐\")\n",
    "    else:\n",
    "        print(\"이김\")\n",
    "elif b==2:\n",
    "    if a == \"바위\":\n",
    "        print(\"비김\")\n",
    "    elif a == \"보\":\n",
    "        print(\"짐\")\n",
    "    else:\n",
    "        print(\"이김\")\n",
    "else:\n",
    "    if a == \"보\":\n",
    "        print(\"비김\")\n",
    "    elif a == \"가위\":\n",
    "        print(\"짐\")\n",
    "    else:\n",
    "        print(\"이김\")"
   ]
  },
  {
   "cell_type": "code",
   "execution_count": 4,
   "id": "e82a4835",
   "metadata": {},
   "outputs": [
    {
     "name": "stdout",
     "output_type": "stream",
     "text": [
      "세번째 정수가 가장 작다.\n"
     ]
    }
   ],
   "source": [
    "a = int(input(\"첫번째 정수를 입력하시오\"))\n",
    "b = int(input(\"두번째 정수를 입력하시오\"))\n",
    "c = int(input(\"세번째 정수를 입력하시오\"))\n",
    "if a<b and a<c:\n",
    "    print(\"첫번째 정수가 가장 작다.\")\n",
    "elif c>b:\n",
    "    print(\"두번째 정수가 가장 작다.\")\n",
    "else :\n",
    "    print(\"세번째 정수가 가장 작다.\")\n",
    "    "
   ]
  },
  {
   "cell_type": "code",
   "execution_count": null,
   "id": "62b1ee4a",
   "metadata": {},
   "outputs": [
    {
     "name": "stdout",
     "output_type": "stream",
     "text": [
      "정답입니다.\n"
     ]
    }
   ],
   "source": [
    "import random\n",
    "a = random.randint(1,9)\n",
    "b = random.randint(1,9)\n",
    "c = random.randint(1,4)\n",
    "\n",
    "if c == 1:\n",
    "    d = a + b\n",
    "    e = int(input((\"a = %d, b = %d, a+b = ? \") %(a,b)))\n",
    "    if e == d:\n",
    "        print(\"정답입니다.\")\n",
    "    else:\n",
    "        print(\"오답입니다.\")\n",
    "elif c == 2:\n",
    "    d = a - b\n",
    "    e = int(input((\"a = %d, b = %d, a-b = ? \") %(a,b)))\n",
    "    if e == d:\n",
    "        print(\"정답입니다.\")\n",
    "    else:\n",
    "        print(\"오답입니다.\")\n",
    "elif c == 3:\n",
    "    d = a * b\n",
    "    e = int(input((\"a = %d, b = %d, a*b = ? \") %(a,b)))\n",
    "    if e == d:\n",
    "        print(\"정답입니다.\")\n",
    "    else:\n",
    "        print(\"오답입니다.\")\n",
    "elif c == 4:\n",
    "    d = a / b\n",
    "    d = round(d,2)\n",
    "    e = float(input((\"a = %d, b = %d, a/b = ? \") %(a,b)))\n",
    "    if e == d:\n",
    "        print(\"정답입니다.\")\n",
    "    else:\n",
    "        print(\"오답입니다.\")\n",
    "\n"
   ]
  },
  {
   "cell_type": "code",
   "execution_count": 26,
   "id": "38c80bad",
   "metadata": {},
   "outputs": [
    {
     "name": "stdout",
     "output_type": "stream",
     "text": [
      "정답입니다.\n"
     ]
    }
   ],
   "source": [
    "import random\n",
    "a = random.randint(1,9)\n",
    "b = random.randint(1,9)\n",
    "c = random.randint(1,4)\n",
    "\n",
    "match c:\n",
    "    case 1:\n",
    "        d = a + b\n",
    "        e = int(input((\"a = %d, b = %d, a+b = ? \") %(a,b)))\n",
    "        if e == d:\n",
    "           print(\"정답입니다.\")\n",
    "        else:\n",
    "           print(\"오답입니다.\")\n",
    "    case 2:\n",
    "        d = a - b\n",
    "        e = int(input((\"a = %d, b = %d, a+b = ? \") %(a,b)))\n",
    "        if e == d:\n",
    "           print(\"정답입니다.\")\n",
    "        else:\n",
    "           print(\"오답입니다.\")\n",
    "    case 3:\n",
    "        d = a * b\n",
    "        e = int(input((\"a = %d, b = %d, a+b = ? \") %(a,b)))\n",
    "        if e == d:\n",
    "           print(\"정답입니다.\")\n",
    "        else:\n",
    "           print(\"오답입니다.\")\n",
    "    case 4:\n",
    "        d = a / b\n",
    "        d = round(d,2)\n",
    "        e = float(input((\"a = %d, b = %d, a/b = ? \") %(a,b)))\n",
    "        if e == d:\n",
    "           print(\"정답입니다.\")\n",
    "        else:\n",
    "           print(\"오답입니다.\")\n",
    "        "
   ]
  },
  {
   "cell_type": "code",
   "execution_count": 35,
   "id": "cf9f387a",
   "metadata": {},
   "outputs": [
    {
     "name": "stdout",
     "output_type": "stream",
     "text": [
      "3 4 5 6 7 8 9 10 11 12 "
     ]
    }
   ],
   "source": [
    "x=0\n",
    "for y in range(3,13):\n",
    "    print(x+y, end=\" \")"
   ]
  },
  {
   "cell_type": "code",
   "execution_count": 37,
   "id": "ed9a75c5",
   "metadata": {},
   "outputs": [
    {
     "name": "stdout",
     "output_type": "stream",
     "text": [
      "장미 가시 튤립 None 해바라기 <class 'str'>\n"
     ]
    }
   ],
   "source": [
    "for x in [\"장미\", \"가시\", \"튤립\", None, \"해바라기\"]:\n",
    "    print(x, end=\" \")\n",
    "\n",
    "print(type(x))"
   ]
  },
  {
   "cell_type": "code",
   "execution_count": 38,
   "id": "72feafbc",
   "metadata": {},
   "outputs": [
    {
     "name": "stdout",
     "output_type": "stream",
     "text": [
      " 현재 찾는중인 과일 : apple\n",
      " 현재 찾는중인 과일 : banana\n",
      "찾는 과일 'orange'을(를) 찾았습니다.\n",
      "탐색을 완료하였습니다.\n"
     ]
    }
   ],
   "source": [
    "fruits = [\"apple\", \"banana\", \"orange\", \"grape\", \"kiwi\"]\n",
    "search_fruit = \"orange\"\n",
    "\n",
    "for fruit in fruits:\n",
    "    if fruit == search_fruit:\n",
    "        print(f\"찾는 과일 '{search_fruit}'을(를) 찾았습니다.\")\n",
    "        break\n",
    "    print(f\" 현재 찾는중인 과일 : {fruit}\")\n",
    "\n",
    "print(\"탐색을 완료하였습니다.\")"
   ]
  },
  {
   "cell_type": "code",
   "execution_count": 41,
   "id": "917e5269",
   "metadata": {},
   "outputs": [
    {
     "name": "stdout",
     "output_type": "stream",
     "text": [
      "1 2 3 4 5 6 "
     ]
    }
   ],
   "source": [
    "for x in \"123456\":\n",
    "    print(x, end = \" \")"
   ]
  },
  {
   "cell_type": "code",
   "execution_count": 42,
   "id": "7f478486",
   "metadata": {},
   "outputs": [
    {
     "name": "stdout",
     "output_type": "stream",
     "text": [
      "welcome\n",
      "welcome\n",
      "welcome\n",
      "welcome\n",
      "welcome\n",
      "stop loop\n"
     ]
    }
   ],
   "source": [
    "i = 0\n",
    "while i < 5:\n",
    "    print(\"welcome\")\n",
    "    i = i+1\n",
    "print('stop loop')"
   ]
  },
  {
   "cell_type": "code",
   "execution_count": 44,
   "id": "5df04f30",
   "metadata": {},
   "outputs": [
    {
     "name": "stdout",
     "output_type": "stream",
     "text": [
      "종료하려면 음수값을 입력하시오\n",
      "평균점수는 35.0 입니다.\n"
     ]
    }
   ],
   "source": [
    "score = 0\n",
    "total_sum = 0\n",
    "c = 0\n",
    "print(\"종료하려면 음수값을 입력하시오\")\n",
    "while score >= 0:\n",
    "    score = int(input(\"점수를 입력하시오 : \"))\n",
    "    if score > 0 :\n",
    "        total_sum += score\n",
    "        c += 1\n",
    "if c > 0:\n",
    "    average = total_sum / c\n",
    "    print(\"평균점수는\" , average,  \"입니다.\")"
   ]
  },
  {
   "cell_type": "code",
   "execution_count": 55,
   "id": "d1da830d",
   "metadata": {},
   "outputs": [
    {
     "name": "stdout",
     "output_type": "stream",
     "text": [
      "평균점수는 50.000000입니다.\n"
     ]
    }
   ],
   "source": [
    "score0 = 0\n",
    "total_sum = 0\n",
    "c = 0\n",
    "score = list(map(int,input(\"점수를 입력하시오:\").split()))\n",
    "for score0 in score:\n",
    "    total_sum +=score0\n",
    "    c +=1\n",
    "average = total_sum / c\n",
    "print(\"평균점수는 %f입니다.\" %total_sum)"
   ]
  },
  {
   "cell_type": "code",
   "execution_count": 52,
   "id": "311c9ffd",
   "metadata": {},
   "outputs": [
    {
     "name": "stdout",
     "output_type": "stream",
     "text": [
      "[13, 24, 53]\n"
     ]
    }
   ],
   "source": [
    "score = list(map(int,input(\"점수를 입력하시오:\").split()))\n",
    "print(score)"
   ]
  },
  {
   "cell_type": "code",
   "execution_count": null,
   "id": "9728864b",
   "metadata": {},
   "outputs": [
    {
     "name": "stdout",
     "output_type": "stream",
     "text": [
      "*\n",
      "* *\n",
      "* * *\n",
      "* * * *\n",
      "* * * * *\n",
      "* * * * * "
     ]
    }
   ],
   "source": [
    "h = int(input(\"층수 입력\"))\n",
    "for x in range(h):\n",
    "    print(\"*\")\n",
    "    for y in range(x+1):\n",
    "        print(\"*\", end = \" \")\n"
   ]
  },
  {
   "cell_type": "code",
   "execution_count": 73,
   "id": "f3d1c7c8",
   "metadata": {},
   "outputs": [
    {
     "name": "stdout",
     "output_type": "stream",
     "text": [
      "<class 'int'>\n",
      "3 3 3 3 3 <class 'int'>\n",
      "1 1 1 1 1 <class 'int'>\n",
      "4 4 4 4 4 <class 'int'>\n",
      "5 5 5 5 5 <class 'int'>\n",
      "6 6 6 6 6 "
     ]
    }
   ],
   "source": [
    "for x in [3,1,4,5,6]:\n",
    "    print(type(x))\n",
    "    for y in range(5):\n",
    "        print(x,end=\" \")"
   ]
  },
  {
   "cell_type": "code",
   "execution_count": 75,
   "id": "bc46c2d6",
   "metadata": {},
   "outputs": [
    {
     "name": "stdout",
     "output_type": "stream",
     "text": [
      "\n",
      "* * * * * \n",
      "* * * * * \n",
      "* * * * * \n",
      "* * * * * \n",
      "* * * * * "
     ]
    }
   ],
   "source": [
    "x = int(input('정수'))\n",
    "for y in range(x):\n",
    "    print()\n",
    "    for z in range(x):\n",
    "        print(\"*\",end=\" \")"
   ]
  },
  {
   "cell_type": "code",
   "execution_count": 80,
   "id": "4c04725f",
   "metadata": {},
   "outputs": [
    {
     "name": "stdout",
     "output_type": "stream",
     "text": [
      "모음의 개수 0\n",
      "자음의 개수 0\n"
     ]
    }
   ],
   "source": [
    "original = input(\"문자열을 입력하시오.\")\n",
    "word = original.capitalize()\n",
    "vowels = 0\n",
    "consonants = 0\n",
    "\n",
    "if len(original) > 0 and original.isalpha():\n",
    "    for char in word:\n",
    "        if char in 'aeiou':\n",
    "            vowels +=1\n",
    "        else:\n",
    "            consonants +=1\n",
    "\n",
    "print(\"모음의 개수\", vowels)\n",
    "print(\"자음의 개수\", consonants)"
   ]
  },
  {
   "cell_type": "code",
   "execution_count": null,
   "id": "ddbca2c6",
   "metadata": {},
   "outputs": [
    {
     "name": "stdout",
     "output_type": "stream",
     "text": [
      "잘못입력함\n",
      "잘못입력함\n",
      "모음의 개수 10\n",
      "자음의 개수 12\n"
     ]
    }
   ],
   "source": [
    "original = input(\"문자열을 입력하시오.\")\n",
    "word = original.capitalize()\n",
    "vowels = 0\n",
    "consonants = 0\n",
    "e = 0\n",
    "while vowels == 0:\n",
    "    if len(original) > 0 and original.isalpha():\n",
    "        for char in word:\n",
    "            if char in 'aeiou':\n",
    "                vowels +=1\n",
    "            else:\n",
    "                consonants +=1\n",
    "    else:\n",
    "        print(\"잘못입력함\")\n",
    "        original = input(\"다시 입력하시오\")\n",
    "\n",
    "\n",
    "print(\"모음의 개수\", vowels)\n",
    "print(\"자음의 개수\", consonants)"
   ]
  },
  {
   "cell_type": "code",
   "execution_count": 84,
   "id": "3a8a88b4",
   "metadata": {},
   "outputs": [
    {
     "name": "stdout",
     "output_type": "stream",
     "text": [
      "2 4 6 8 10 12 14 16 18 20 22 24 26 28 30 32 34 36 38 40 42 44 46 48 50 "
     ]
    }
   ],
   "source": [
    "for x in range(2,51):\n",
    "    if x % 2 == 0:\n",
    "        print(x, end=\" \")\n"
   ]
  },
  {
   "cell_type": "code",
   "execution_count": 86,
   "id": "d49a612a",
   "metadata": {},
   "outputs": [
    {
     "name": "stdout",
     "output_type": "stream",
     "text": [
      "778\n"
     ]
    }
   ],
   "source": [
    "myList = [11, 22, 23, 99, 81, 93, 35]\n",
    "total_sum\n",
    "for x in myList:\n",
    "    total_sum = total_sum + x\n",
    "print(total_sum)"
   ]
  },
  {
   "cell_type": "code",
   "execution_count": 87,
   "id": "cb488a84",
   "metadata": {},
   "outputs": [
    {
     "name": "stdout",
     "output_type": "stream",
     "text": [
      "1683\n"
     ]
    }
   ],
   "source": [
    "total_sum = 0\n",
    "for x in range(1,101):\n",
    "    if x % 3 == 0:\n",
    "        total_sum = total_sum + x\n",
    "print(total_sum)"
   ]
  },
  {
   "cell_type": "code",
   "execution_count": 8,
   "id": "f16c53a1",
   "metadata": {},
   "outputs": [
    {
     "name": "stdout",
     "output_type": "stream",
     "text": [
      "1 2 3 5 6 10 15 30 "
     ]
    }
   ],
   "source": [
    "x = int(input(\"약수를 알고싶은 정수를 입력하시오\"))\n",
    "y = 0\n",
    "for y in range(1,x+1):\n",
    "    if x%y == 0:\n",
    "        print(y, end = \" \")"
   ]
  },
  {
   "cell_type": "code",
   "execution_count": 20,
   "id": "91c9dc09",
   "metadata": {},
   "outputs": [
    {
     "name": "stdout",
     "output_type": "stream",
     "text": [
      "1부터 n까지 각 수의 제곱의 합은 14입니다.\n"
     ]
    }
   ],
   "source": [
    "n = int(input(\"n을 입력하시오.\"))\n",
    "total_sum = 0\n",
    "for x in range(1,n+1):\n",
    "    if x <= n:\n",
    "        total_sum = total_sum + x ** 2\n",
    "\n",
    "print(\"1부터 n까지 각 수의 제곱의 합은 %d입니다.\" %total_sum)"
   ]
  },
  {
   "cell_type": "code",
   "execution_count": null,
   "id": "800cc522",
   "metadata": {},
   "outputs": [
    {
     "name": "stdout",
     "output_type": "stream",
     "text": [
      "1 2 4 8 "
     ]
    }
   ],
   "source": [
    "a = int(input(\"첫번째 정수를 입력하시오.\"))\n",
    "b = int(input(\"두번째 정수를 입력하시오.\"))\n",
    "x = 0\n",
    "y = 0\n",
    "z = 0\n",
    "for x in range(1,a+1):\n",
    "    if a % x == 0 and b % y == 0:\n",
    "        if x == y\n",
    "        print(x, end = \" \")\n",
    "\n",
    "for y in range(1,b+1):\n",
    "    if b % y == 0:\n",
    "        print(y, end = \" \")\n",
    "if x == y:\n",
    "    print(x)\n",
    "\n",
    "    \n"
   ]
  },
  {
   "cell_type": "code",
   "execution_count": 22,
   "id": "6059e498",
   "metadata": {},
   "outputs": [
    {
     "name": "stdout",
     "output_type": "stream",
     "text": [
      "\n",
      "\n",
      "*\n",
      "\n",
      "**\n",
      "\n",
      "***\n",
      "\n",
      "****\n",
      "\n",
      "*****\n",
      "\n",
      "******\n",
      "\n",
      "*******\n",
      "\n"
     ]
    }
   ],
   "source": [
    "num = int(input(\"정수를 입력하시오 : \"))\n",
    "\n",
    "for i in range(num+1):\n",
    "    for j in range(1,num+1):\n",
    "        if j<=i:\n",
    "            print(\"*\", end = \"\")\n",
    "    print(\"\\n\")        "
   ]
  },
  {
   "cell_type": "code",
   "execution_count": 24,
   "id": "78a03bde",
   "metadata": {},
   "outputs": [
    {
     "name": "stdout",
     "output_type": "stream",
     "text": [
      "23\n"
     ]
    }
   ],
   "source": [
    "n = 0\n",
    "\n",
    "while n<500:\n",
    "    if (n**2)>500:\n",
    "        print(n)\n",
    "        break\n",
    "    n+=1"
   ]
  },
  {
   "cell_type": "code",
   "execution_count": 26,
   "id": "c076e75e",
   "metadata": {},
   "outputs": [
    {
     "name": "stdout",
     "output_type": "stream",
     "text": [
      "27 와 81 의 최대공약수는 27 입니다.\n"
     ]
    }
   ],
   "source": [
    "a = int(input(\"첫번째 정수를 입력하시오 : \"))\n",
    "b = int(input(\"두번째 정수를 입력하시오 : \"))\n",
    "common = 0\n",
    "max = a\n",
    "if a < b:\n",
    "    max = b\n",
    "for i in range(1,max):\n",
    "    if a % i == 0 and b % i == 0:\n",
    "        common = i\n",
    "\n",
    "print(a,\"와\",b,\"의 최대공약수는\", common,\"입니다.\")"
   ]
  },
  {
   "cell_type": "code",
   "execution_count": 29,
   "id": "7ccb78a7",
   "metadata": {},
   "outputs": [
    {
     "name": "stdout",
     "output_type": "stream",
     "text": [
      "0, 1, 1, 2, 3, 5, 8\n"
     ]
    }
   ],
   "source": [
    "num = int(input(\"몇번째 항까지 구할까요?\"))\n",
    "element1 = 0\n",
    "element2 = 0\n",
    "\n",
    "for i in range(num+1):\n",
    "    if i<2:\n",
    "        element2 = element1\n",
    "        element1 = i\n",
    "        sum = element1 + element2\n",
    "    else:\n",
    "        sum = element1 + element2\n",
    "        element2 = element1\n",
    "        element1 = sum\n",
    "\n",
    "    if i != num:\n",
    "        print(sum,end=\", \")\n",
    "    else:\n",
    "        print(sum)"
   ]
  },
  {
   "cell_type": "code",
   "execution_count": null,
   "id": "e5255a00",
   "metadata": {},
   "outputs": [
    {
     "name": "stdout",
     "output_type": "stream",
     "text": [
      "2 3 5 7 11 13 17 19 "
     ]
    }
   ],
   "source": [
    "maxNum = 20\n",
    "number = 2\n",
    "count = 0\n",
    "\n",
    "while number < maxNum:\n",
    "    divisor = 2\n",
    "    prime = True\n",
    "\n",
    "    while divisor < number:\n",
    "        if number % divisor == 0:\n",
    "            prime = False\n",
    "            break\n",
    "        divisor += 1\n",
    "    if prime:\n",
    "        count += 1\n",
    "        print(number, end = \" \")\n",
    "    number += 1\n",
    "\n",
    "#while문 -> for, while + while 은 위험하다!!!"
   ]
  },
  {
   "cell_type": "code",
   "execution_count": 35,
   "id": "75c4c170",
   "metadata": {},
   "outputs": [
    {
     "name": "stdout",
     "output_type": "stream",
     "text": [
      "2 3 5 7 11 13 17 19 "
     ]
    }
   ],
   "source": [
    "maxNum = 20\n",
    "number = 2\n",
    "count = 0\n",
    "\n",
    "for i in range(2,maxNum+1):\n",
    "    divisor = 2\n",
    "    prime = True\n",
    "\n",
    "    for divisor in range(2,number):\n",
    "        if number % divisor == 0:\n",
    "            prime = False\n",
    "            break\n",
    "    if prime:\n",
    "        count +=1\n",
    "        print(number,end=\" \")\n",
    "    number += 1"
   ]
  },
  {
   "cell_type": "code",
   "execution_count": 36,
   "id": "470e8960",
   "metadata": {},
   "outputs": [
    {
     "name": "stdout",
     "output_type": "stream",
     "text": [
      "Collecting pyautogui\n",
      "  Downloading PyAutoGUI-0.9.54.tar.gz (61 kB)\n",
      "  Installing build dependencies: started\n",
      "  Installing build dependencies: finished with status 'done'\n",
      "  Getting requirements to build wheel: started\n",
      "  Getting requirements to build wheel: finished with status 'done'\n",
      "  Preparing metadata (pyproject.toml): started\n",
      "  Preparing metadata (pyproject.toml): finished with status 'done'\n",
      "Collecting pymsgbox (from pyautogui)\n",
      "  Downloading PyMsgBox-1.0.9.tar.gz (18 kB)\n",
      "  Installing build dependencies: started\n",
      "  Installing build dependencies: finished with status 'done'\n",
      "  Getting requirements to build wheel: started\n",
      "  Getting requirements to build wheel: finished with status 'done'\n",
      "  Preparing metadata (pyproject.toml): started\n",
      "  Preparing metadata (pyproject.toml): finished with status 'done'\n",
      "Collecting pytweening>=1.0.4 (from pyautogui)\n",
      "  Downloading pytweening-1.2.0.tar.gz (171 kB)\n",
      "  Installing build dependencies: started\n",
      "  Installing build dependencies: finished with status 'done'\n",
      "  Getting requirements to build wheel: started\n",
      "  Getting requirements to build wheel: finished with status 'done'\n",
      "  Preparing metadata (pyproject.toml): started\n",
      "  Preparing metadata (pyproject.toml): finished with status 'done'\n",
      "Collecting pyscreeze>=0.1.21 (from pyautogui)\n",
      "  Downloading pyscreeze-1.0.1.tar.gz (27 kB)\n",
      "  Installing build dependencies: started\n",
      "  Installing build dependencies: finished with status 'done'\n",
      "  Getting requirements to build wheel: started\n",
      "  Getting requirements to build wheel: finished with status 'done'\n",
      "  Preparing metadata (pyproject.toml): started\n",
      "  Preparing metadata (pyproject.toml): finished with status 'done'\n",
      "Collecting pygetwindow>=0.0.5 (from pyautogui)\n",
      "  Downloading PyGetWindow-0.0.9.tar.gz (9.7 kB)\n",
      "  Installing build dependencies: started\n",
      "  Installing build dependencies: finished with status 'done'\n",
      "  Getting requirements to build wheel: started\n",
      "  Getting requirements to build wheel: finished with status 'done'\n",
      "  Preparing metadata (pyproject.toml): started\n",
      "  Preparing metadata (pyproject.toml): finished with status 'done'\n",
      "Collecting mouseinfo (from pyautogui)\n",
      "  Downloading MouseInfo-0.1.3.tar.gz (10 kB)\n",
      "  Installing build dependencies: started\n",
      "  Installing build dependencies: finished with status 'done'\n",
      "  Getting requirements to build wheel: started\n",
      "  Getting requirements to build wheel: finished with status 'done'\n",
      "  Preparing metadata (pyproject.toml): started\n",
      "  Preparing metadata (pyproject.toml): finished with status 'done'\n",
      "Collecting pyrect (from pygetwindow>=0.0.5->pyautogui)\n",
      "  Downloading PyRect-0.2.0.tar.gz (17 kB)\n",
      "  Installing build dependencies: started\n",
      "  Installing build dependencies: finished with status 'done'\n",
      "  Getting requirements to build wheel: started\n",
      "  Getting requirements to build wheel: finished with status 'done'\n",
      "  Preparing metadata (pyproject.toml): started\n",
      "  Preparing metadata (pyproject.toml): finished with status 'done'\n",
      "Collecting pyperclip (from mouseinfo->pyautogui)\n",
      "  Downloading pyperclip-1.9.0.tar.gz (20 kB)\n",
      "  Installing build dependencies: started\n",
      "  Installing build dependencies: finished with status 'done'\n",
      "  Getting requirements to build wheel: started\n",
      "  Getting requirements to build wheel: finished with status 'done'\n",
      "  Preparing metadata (pyproject.toml): started\n",
      "  Preparing metadata (pyproject.toml): finished with status 'done'\n",
      "Building wheels for collected packages: pyautogui, pygetwindow, pyscreeze, pytweening, mouseinfo, pymsgbox, pyperclip, pyrect\n",
      "  Building wheel for pyautogui (pyproject.toml): started\n",
      "  Building wheel for pyautogui (pyproject.toml): finished with status 'done'\n",
      "  Created wheel for pyautogui: filename=pyautogui-0.9.54-py3-none-any.whl size=37707 sha256=24ab2dd18f88541df7960260c85a255a18fe5b541029215aae736156dddbeec0\n",
      "  Stored in directory: c:\\users\\samsung\\appdata\\local\\pip\\cache\\wheels\\9c\\22\\e7\\c97f656d0790ef69feae4fcc7bbc1fc648f1b37879f52e7480\n",
      "  Building wheel for pygetwindow (pyproject.toml): started\n",
      "  Building wheel for pygetwindow (pyproject.toml): finished with status 'done'\n",
      "  Created wheel for pygetwindow: filename=pygetwindow-0.0.9-py3-none-any.whl size=11137 sha256=bdac7481d5f42d2c632fc378d3ffa228480aad95e2f52d55649017eb8ece3eac\n",
      "  Stored in directory: c:\\users\\samsung\\appdata\\local\\pip\\cache\\wheels\\87\\94\\20\\4e4ddd07e7276e44a38ac39d5b6c919d38ef27b9ebc5041e0f\n",
      "  Building wheel for pyscreeze (pyproject.toml): started\n",
      "  Building wheel for pyscreeze (pyproject.toml): finished with status 'done'\n",
      "  Created wheel for pyscreeze: filename=pyscreeze-1.0.1-py3-none-any.whl size=14481 sha256=f1946f4cea04d40c4fedefce5d2a488f472b05bc713674259a3c4bd3b8c78665\n",
      "  Stored in directory: c:\\users\\samsung\\appdata\\local\\pip\\cache\\wheels\\1c\\6e\\d7\\0acfbc5116e11006753649efc7cb40bb9df98990798a21960d\n",
      "  Building wheel for pytweening (pyproject.toml): started\n",
      "  Building wheel for pytweening (pyproject.toml): finished with status 'done'\n",
      "  Created wheel for pytweening: filename=pytweening-1.2.0-py3-none-any.whl size=8135 sha256=256c320f4221e5b9ceed5ef6fa3c8ba6509365cefc007bbf6ea5d22546dc12b0\n",
      "  Stored in directory: c:\\users\\samsung\\appdata\\local\\pip\\cache\\wheels\\e7\\89\\f5\\71248cbe0cc120d985c1976f8f2f31675069644c23ff03abfc\n",
      "  Building wheel for mouseinfo (pyproject.toml): started\n",
      "  Building wheel for mouseinfo (pyproject.toml): finished with status 'done'\n",
      "  Created wheel for mouseinfo: filename=mouseinfo-0.1.3-py3-none-any.whl size=10967 sha256=a9f43830f1f86789e9e5eb502c3d50dd76b0067e3fa497590d9e83e82f9ad656\n",
      "  Stored in directory: c:\\users\\samsung\\appdata\\local\\pip\\cache\\wheels\\61\\5c\\24\\7d8ed078555f30e8f23fbc97f6361242a2cb4437ddd0384389\n",
      "  Building wheel for pymsgbox (pyproject.toml): started\n",
      "  Building wheel for pymsgbox (pyproject.toml): finished with status 'done'\n",
      "  Created wheel for pymsgbox: filename=pymsgbox-1.0.9-py3-none-any.whl size=7467 sha256=550c285b0c7528930aa87fde66431dc5ac153050bd6f667a845e2eda6ea793b2\n",
      "  Stored in directory: c:\\users\\samsung\\appdata\\local\\pip\\cache\\wheels\\02\\b3\\8f\\8105b9948d1e23d9ad0d9de8d7f198aee5c7575aeba878ea82\n",
      "  Building wheel for pyperclip (pyproject.toml): started\n",
      "  Building wheel for pyperclip (pyproject.toml): finished with status 'done'\n",
      "  Created wheel for pyperclip: filename=pyperclip-1.9.0-py3-none-any.whl size=11117 sha256=a23e79257d189660925e404d496f59013101fb898996ea695b8b9b3610c95414\n",
      "  Stored in directory: c:\\users\\samsung\\appdata\\local\\pip\\cache\\wheels\\9c\\79\\90\\c9e831caaffa2633ad99f1d35c6ea39866b92de62e909e89ef\n",
      "  Building wheel for pyrect (pyproject.toml): started\n",
      "  Building wheel for pyrect (pyproject.toml): finished with status 'done'\n",
      "  Created wheel for pyrect: filename=pyrect-0.2.0-py2.py3-none-any.whl size=11306 sha256=048b0b97b87b02d2a6f589623a12aac78c688ec85c213d1254621d00ae9cbabd\n",
      "  Stored in directory: c:\\users\\samsung\\appdata\\local\\pip\\cache\\wheels\\1e\\84\\e3\\83782b4a92f3d4d5b7fff5c36bf8c31922719e0695ee854cf0\n",
      "Successfully built pyautogui pygetwindow pyscreeze pytweening mouseinfo pymsgbox pyperclip pyrect\n",
      "Installing collected packages: pytweening, pyscreeze, pyrect, pyperclip, pymsgbox, pygetwindow, mouseinfo, pyautogui\n",
      "\n",
      "   -------------------- ------------------- 4/8 [pymsgbox]\n",
      "   ----------------------------------- ---- 7/8 [pyautogui]\n",
      "   ---------------------------------------- 8/8 [pyautogui]\n",
      "\n",
      "Successfully installed mouseinfo-0.1.3 pyautogui-0.9.54 pygetwindow-0.0.9 pymsgbox-1.0.9 pyperclip-1.9.0 pyrect-0.2.0 pyscreeze-1.0.1 pytweening-1.2.0\n",
      "Note: you may need to restart the kernel to use updated packages.\n"
     ]
    }
   ],
   "source": [
    "pip install pyautogui"
   ]
  },
  {
   "cell_type": "code",
   "execution_count": null,
   "id": "ed2a3e95",
   "metadata": {},
   "outputs": [],
   "source": []
  },
  {
   "cell_type": "code",
   "execution_count": 38,
   "id": "8d719c5f",
   "metadata": {},
   "outputs": [
    {
     "name": "stdout",
     "output_type": "stream",
     "text": [
      "Point(x=18, y=1066)\n"
     ]
    }
   ],
   "source": [
    "import pyautogui as pag\n",
    "import time\n",
    "\n",
    "time.sleep(2) #움직일 시간을 주겠다.\n",
    "print(pag.position()) #마우스 좌표 설정"
   ]
  },
  {
   "cell_type": "code",
   "execution_count": null,
   "id": "6d84e3e6",
   "metadata": {},
   "outputs": [],
   "source": [
    "pag.moveTo(18, 1066, duration=2) #마우스 자동 이동, 좌표와 시간\n",
    "pag.click() #클릭해라"
   ]
  },
  {
   "cell_type": "code",
   "execution_count": 43,
   "id": "dd30cba9",
   "metadata": {},
   "outputs": [
    {
     "name": "stdout",
     "output_type": "stream",
     "text": [
      "안녕, 철수\n"
     ]
    }
   ],
   "source": [
    "def say_hello(name):\n",
    "        print(\"안녕,\", name)\n",
    "\n",
    "say_hello(\"철수\")"
   ]
  },
  {
   "cell_type": "code",
   "execution_count": 45,
   "id": "e2b2b194",
   "metadata": {},
   "outputs": [
    {
     "name": "stdout",
     "output_type": "stream",
     "text": [
      "안녕, 철수 야 어서 집에 오너라\n"
     ]
    }
   ],
   "source": [
    "def say_hello(name, msg):\n",
    "        print(\"안녕,\", name,\"야\", msg)\n",
    "\n",
    "name = \"철수\"\n",
    "msg = \"어서 집에 오너라\"\n",
    "say_hello(name, msg)"
   ]
  },
  {
   "cell_type": "code",
   "execution_count": 48,
   "id": "fbaf424c",
   "metadata": {},
   "outputs": [
    {
     "name": "stdout",
     "output_type": "stream",
     "text": [
      "10\n"
     ]
    }
   ],
   "source": [
    "def get_sum(start, end):\n",
    "        sum = 0\n",
    "        for i in range(start, end+1):\n",
    "            sum += 1\n",
    "        return sum\n",
    "\n",
    "value = get_sum(1,10)\n",
    "print(value)"
   ]
  },
  {
   "cell_type": "code",
   "execution_count": 49,
   "id": "d8bf93a4",
   "metadata": {},
   "outputs": [
    {
     "name": "stdout",
     "output_type": "stream",
     "text": [
      "55\n",
      "210\n"
     ]
    }
   ],
   "source": [
    "def get_sum(start, end):\n",
    "    sum = 0\n",
    "    for i in range(start,end+1):\n",
    "        sum += i\n",
    "    return sum\n",
    "\n",
    "print(get_sum(1,10))\n",
    "print(get_sum(1,20))\n"
   ]
  },
  {
   "cell_type": "code",
   "execution_count": 57,
   "id": "7c91d7ce",
   "metadata": {},
   "outputs": [
    {
     "name": "stdout",
     "output_type": "stream",
     "text": [
      "원의 둘레의 길이는 31.415920입니다.\n"
     ]
    }
   ],
   "source": [
    "radius = 5\n",
    "def get_pearl(radius):\n",
    "    a = 2 * 3.141592 * radius\n",
    "    return a\n",
    "\n",
    "radius = int(input(\"반지름값을 입력하시오 : \"))\n",
    "b = get_pearl(radius)\n",
    "print(\"원의 둘레의 길이는 %f입니다.\" %b)"
   ]
  },
  {
   "cell_type": "code",
   "execution_count": 62,
   "id": "2fbe589a",
   "metadata": {},
   "outputs": [
    {
     "name": "stdout",
     "output_type": "stream",
     "text": [
      "합 = 15   차 = 5   곱 = 50  나누기 = 2.0\n"
     ]
    }
   ],
   "source": [
    "def Plus(a,b):\n",
    "    sum = a + b\n",
    "    return sum\n",
    "\n",
    "def Minus(a,b):\n",
    "    substract = a - b\n",
    "    return substract\n",
    "\n",
    "def multipy(a,b):\n",
    "    product = a * b\n",
    "    return product\n",
    "\n",
    "def divide(a,b):\n",
    "    division = a / b\n",
    "    return division\n",
    "\n",
    "a = int(input(\"첫번째 값을 입력하시오\"))\n",
    "b = int(input(\"두번째 값을 입력하시오\"))\n",
    "c = Plus(a,b)\n",
    "d = Minus(a,b)\n",
    "e = multipy(a,b)\n",
    "f = divide(a,b)\n",
    "print(\"합 =\", c,\" \",\"차 =\",d, \" \", \"곱 =\", e, \" 나누기 =\",f)"
   ]
  },
  {
   "cell_type": "code",
   "execution_count": null,
   "id": "a3c69209",
   "metadata": {},
   "outputs": [
    {
     "name": "stdout",
     "output_type": "stream",
     "text": [
      "합 = 15   차 = 5   곱 = 50  나누기 = 2.0\n"
     ]
    }
   ],
   "source": [
    "def calc(a,b):\n",
    "    def Plus(a,b):\n",
    "        return a + b\n",
    "    def Minus(a,b):\n",
    "        return a - b\n",
    "    def multipy(a,b):\n",
    "        return a * b\n",
    "    def divide(a,b):\n",
    "        return a / b\n",
    "\n",
    "a = int(input(\"첫번째 값을 입력하시오\"))\n",
    "b = int(input(\"두번째 값을 입력하시오\"))\n",
    "\n",
    "c = Plus(a,b)\n",
    "d = Minus(a,b)\n",
    "e = multipy(a,b)\n",
    "f = divide(a,b)\n",
    "calc(a,b)\n",
    "print(\"합 =\", c,\" \",\"차 =\",d, \" \", \"곱 =\", e, \" 나누기 =\",f)"
   ]
  },
  {
   "cell_type": "code",
   "execution_count": 74,
   "id": "405df7e9",
   "metadata": {},
   "outputs": [
    {
     "name": "stdout",
     "output_type": "stream",
     "text": [
      "성적이 'F'입니다.\n"
     ]
    }
   ],
   "source": [
    "def Check_grade(score):\n",
    "    if 100 > score >= 90:\n",
    "        return print(\"성적이 'A'입니다.\")\n",
    "    elif 90 > score >= 80:\n",
    "        return print(\"성적이 'B'입니다.\")\n",
    "    elif 80 > score >= 70:\n",
    "        return print(\"성적이 'C'입니다.\")\n",
    "    elif 70 > score >= 60:\n",
    "        return print(\"성적이 'D'입니다.\")\n",
    "    elif 60 > score >= 0:\n",
    "        return print(\"성적이 'F'입니다.\")\n",
    "    else:\n",
    "        return print(\"잘못된 입력입니다.\")\n",
    "\n",
    "\n",
    "score = int(input(\"점수를 입럭하세요.\"))\n",
    "Check_grade(score)\n",
    "\n",
    "\n"
   ]
  },
  {
   "cell_type": "code",
   "execution_count": 82,
   "id": "c744d4fd",
   "metadata": {},
   "outputs": [
    {
     "name": "stdout",
     "output_type": "stream",
     "text": [
      "[1, 2, 3, 4, 5, 6, 7, 8, 9, 10]\n",
      "[1, 2, 3, 4, 5]\n",
      "[6, 7, 8, 9, 10]\n",
      "[3, 4, 5]\n",
      "[1, 2, 3, 4, 5]\n",
      "[1, 3, 5]\n"
     ]
    }
   ],
   "source": [
    "scores = [1,2,3,4,5,6,7,8,9,10]\n",
    "print(scores)\n",
    "print(scores[0:5])\n",
    "print(scores[5:])\n",
    "print(scores[2:5])\n",
    "print(scores[:5])\n",
    "print(scores[0:6:2])"
   ]
  },
  {
   "cell_type": "code",
   "execution_count": 83,
   "id": "5a49b235",
   "metadata": {},
   "outputs": [
    {
     "name": "stdout",
     "output_type": "stream",
     "text": [
      "[13, 24, 13, 53, 42, 32, 5, 1, 3, 4]\n"
     ]
    }
   ],
   "source": [
    "scores = []\n",
    "for i in range(10):\n",
    "    scores.append(int(input(\"성적을 입력하시오\")))\n",
    "print(scores)"
   ]
  },
  {
   "cell_type": "code",
   "execution_count": 87,
   "id": "dc62e7c1",
   "metadata": {},
   "outputs": [
    {
     "name": "stdout",
     "output_type": "stream",
     "text": [
      "[]\n",
      "['H', 'e', 'l', 'l', 'o']\n",
      "[0, 1, 2, 3, 4]\n"
     ]
    }
   ],
   "source": [
    "list1 = list()\n",
    "list2 = list(\"Hello\")\n",
    "list3 = list(range(0,5))\n",
    "\n",
    "print(list1)\n",
    "print(list2)\n",
    "print(list3)"
   ]
  },
  {
   "cell_type": "code",
   "execution_count": 1,
   "id": "326637c6",
   "metadata": {},
   "outputs": [
    {
     "name": "stdout",
     "output_type": "stream",
     "text": [
      "[1, 2, 90, 4, 5]\n",
      "[1, 2, 90, 4, 5]\n"
     ]
    }
   ],
   "source": [
    "scoress = [1,2,3,4,5]\n",
    "values = scoress\n",
    "#values = scoress[:]\n",
    "values[2] = 90\n",
    "print(scoress)\n",
    "print(values)"
   ]
  },
  {
   "cell_type": "code",
   "execution_count": 2,
   "id": "0f58d20f",
   "metadata": {},
   "outputs": [
    {
     "name": "stdout",
     "output_type": "stream",
     "text": [
      "계란이 왔어요~\n"
     ]
    }
   ],
   "source": [
    "import random\n",
    "word = [\n",
    "    \"밥은 먹고 다니냐?\", \n",
    "    \"느그 아부지 뭐 하시노?\",\n",
    "    \"형이... 왜 거기서 나와?\",\n",
    "    \"내가... 웃는 게 웃는 게 아니야.\",\n",
    "    \"묻고 더블로 가!\",\n",
    "    \"어이가 없네?\",\n",
    "    \"지금... 장난하나?\",\n",
    "    \"계란이 왔어요~\",\n",
    "    \"그거 아냐? 나 지금 되게 신나!\",\n",
    "    \"진짜 X같네 진짜!\",\n",
    "    \"May the Force be with you.\",\n",
    "    \"I'm going to make him an offer he can't refuse.\",\n",
    "    \"Here's looking at you, kid.\",\n",
    "    \"You talking to me?\",\n",
    "    \"Life is like a box of chocolates. You never know what you're gonna get.\",\n",
    "    \"I'll be back.\",\n",
    "    \"Why so serious?\",\n",
    "    \"To infinity and beyond!\",\n",
    "    \"I see dead people.\",\n",
    "    \"My precious.\"]\n",
    "\n",
    "a = random.choice(word)\n",
    "print(a)"
   ]
  },
  {
   "cell_type": "code",
   "execution_count": null,
   "id": "2c68975e",
   "metadata": {},
   "outputs": [
    {
     "name": "stdout",
     "output_type": "stream",
     "text": [
      "3.4858205318450928\n"
     ]
    }
   ],
   "source": [
    "import time\n",
    "it1 = time.time() #시간을 실수값으로 표현\n",
    "#it1 = time.localtime(time.time()) # 보기 쉽게 변환\n",
    "#time.asctime(it) #가장 편한 형태로 출력\n",
    "Problem\n",
    "\n",
    "Write = input(\"문장을 입력하시오.\")\n",
    "\n",
    "it2 = time.time()\n",
    "\n",
    "char_list = list(Problem)\n",
    "for i in \n",
    "duration = it2 - it1\n",
    "\n",
    "print(duration)\n",
    "\n",
    "correct = 0\n",
    "\n",
    "for i in Typed()\n",
    "\n",
    "#velocity = "
   ]
  },
  {
   "cell_type": "code",
   "execution_count": 126,
   "id": "e626a5fd",
   "metadata": {},
   "outputs": [
    {
     "name": "stdout",
     "output_type": "stream",
     "text": [
      "['w', 'h', 'y', ' ', 's', 'o', ' ', 's', 'e', 'r', 'i', 'o', 'u', 's']\n"
     ]
    }
   ],
   "source": [
    "Problem = \"why so serious\"\n",
    "\n",
    "char_list = list(Problem)\n",
    "\n",
    "print(char_list)"
   ]
  },
  {
   "cell_type": "code",
   "execution_count": null,
   "id": "49062916",
   "metadata": {},
   "outputs": [],
   "source": [
    "#받은 문장과 타이핑한 문장을 비교하고 리스트화 시켰을때 일치여부를 통해 correct를 1씩 증가시키고 그 정확도양을 길이로 나누어 정확도 퍼센트를 측정. 그리고 길이를 가지고 타자수를 구함 \n",
    "\n",
    "correct = 0\n",
    "for i in range(min(len(target), len(typed))) #len -> 길이를 구하는 함수\n",
    "    if target[i] == typed[i]:\n",
    "        correct += 1\n",
    "\n",
    "accuracy = correct / len(target) * 100 # 짧게 타이핑을 했을 경우에 정확도가 원래 문장 길이를 기준으로 하므로 위에서 최소값을 기준으로 for구문을 돌린다.\n",
    "speed = len(typed) / elapsed * 60 #분당 타자수"
   ]
  },
  {
   "cell_type": "code",
   "execution_count": null,
   "id": "63cd6b6e",
   "metadata": {},
   "outputs": [],
   "source": [
    "# 준비작업 - 렌덤으로 문장 생성\n",
    "# 랜덤 문장 선택\n",
    "# 시간 측정 시작\n",
    "# 사용자 입력 받기\n",
    "# 시간 측정 종료\n",
    "# 정확도 계산\n",
    "# 결과 출력"
   ]
  },
  {
   "cell_type": "code",
   "execution_count": 1,
   "id": "8872d272",
   "metadata": {},
   "outputs": [
    {
     "name": "stdout",
     "output_type": "stream",
     "text": [
      "Collecting pyautogui\n",
      "  Downloading PyAutoGUI-0.9.54.tar.gz (61 kB)\n",
      "  Installing build dependencies: started\n",
      "  Installing build dependencies: finished with status 'done'\n",
      "  Getting requirements to build wheel: started\n",
      "  Getting requirements to build wheel: finished with status 'done'\n",
      "  Preparing metadata (pyproject.toml): started\n",
      "  Preparing metadata (pyproject.toml): finished with status 'done'\n",
      "Collecting pymsgbox (from pyautogui)\n",
      "  Downloading PyMsgBox-1.0.9.tar.gz (18 kB)\n",
      "  Installing build dependencies: started\n",
      "  Installing build dependencies: finished with status 'done'\n",
      "  Getting requirements to build wheel: started\n",
      "  Getting requirements to build wheel: finished with status 'done'\n",
      "  Preparing metadata (pyproject.toml): started\n",
      "  Preparing metadata (pyproject.toml): finished with status 'done'\n",
      "Collecting pytweening>=1.0.4 (from pyautogui)\n",
      "  Downloading pytweening-1.2.0.tar.gz (171 kB)\n",
      "  Installing build dependencies: started\n",
      "  Installing build dependencies: finished with status 'done'\n",
      "  Getting requirements to build wheel: started\n",
      "  Getting requirements to build wheel: finished with status 'done'\n",
      "  Preparing metadata (pyproject.toml): started\n",
      "  Preparing metadata (pyproject.toml): finished with status 'done'\n",
      "Collecting pyscreeze>=0.1.21 (from pyautogui)\n",
      "  Downloading pyscreeze-1.0.1.tar.gz (27 kB)\n",
      "  Installing build dependencies: started\n",
      "  Installing build dependencies: finished with status 'done'\n",
      "  Getting requirements to build wheel: started\n",
      "  Getting requirements to build wheel: finished with status 'done'\n",
      "  Preparing metadata (pyproject.toml): started\n",
      "  Preparing metadata (pyproject.toml): finished with status 'done'\n",
      "Collecting pygetwindow>=0.0.5 (from pyautogui)\n",
      "  Downloading PyGetWindow-0.0.9.tar.gz (9.7 kB)\n",
      "  Installing build dependencies: started\n",
      "  Installing build dependencies: finished with status 'done'\n",
      "  Getting requirements to build wheel: started\n",
      "  Getting requirements to build wheel: finished with status 'done'\n",
      "  Preparing metadata (pyproject.toml): started\n",
      "  Preparing metadata (pyproject.toml): finished with status 'done'\n",
      "Collecting mouseinfo (from pyautogui)\n",
      "  Downloading MouseInfo-0.1.3.tar.gz (10 kB)\n",
      "  Installing build dependencies: started\n",
      "  Installing build dependencies: finished with status 'done'\n",
      "  Getting requirements to build wheel: started\n",
      "  Getting requirements to build wheel: finished with status 'done'\n",
      "  Preparing metadata (pyproject.toml): started\n",
      "  Preparing metadata (pyproject.toml): finished with status 'done'\n",
      "Collecting pyrect (from pygetwindow>=0.0.5->pyautogui)\n",
      "  Downloading PyRect-0.2.0.tar.gz (17 kB)\n",
      "  Installing build dependencies: started\n",
      "  Installing build dependencies: finished with status 'done'\n",
      "  Getting requirements to build wheel: started\n",
      "  Getting requirements to build wheel: finished with status 'done'\n",
      "  Preparing metadata (pyproject.toml): started\n",
      "  Preparing metadata (pyproject.toml): finished with status 'done'\n",
      "Collecting pyperclip (from mouseinfo->pyautogui)\n",
      "  Downloading pyperclip-1.9.0.tar.gz (20 kB)\n",
      "  Installing build dependencies: started\n",
      "  Installing build dependencies: finished with status 'done'\n",
      "  Getting requirements to build wheel: started\n",
      "  Getting requirements to build wheel: finished with status 'done'\n",
      "  Preparing metadata (pyproject.toml): started\n",
      "  Preparing metadata (pyproject.toml): finished with status 'done'\n",
      "Building wheels for collected packages: pyautogui, pygetwindow, pyscreeze, pytweening, mouseinfo, pymsgbox, pyperclip, pyrect\n",
      "  Building wheel for pyautogui (pyproject.toml): started\n",
      "  Building wheel for pyautogui (pyproject.toml): finished with status 'done'\n",
      "  Created wheel for pyautogui: filename=pyautogui-0.9.54-py3-none-any.whl size=37707 sha256=65421daded1fb3d1007c1967045bf88fe35326557c8a5a9da2ae4ed7d9347f1f\n",
      "  Stored in directory: c:\\users\\park\\appdata\\local\\pip\\cache\\wheels\\9c\\22\\e7\\c97f656d0790ef69feae4fcc7bbc1fc648f1b37879f52e7480\n",
      "  Building wheel for pygetwindow (pyproject.toml): started\n",
      "  Building wheel for pygetwindow (pyproject.toml): finished with status 'done'\n",
      "  Created wheel for pygetwindow: filename=pygetwindow-0.0.9-py3-none-any.whl size=11137 sha256=a63127532a0919662a3e0a7a18131ba2ca928a16de5b08edb4f4b7c259ca17a1\n",
      "  Stored in directory: c:\\users\\park\\appdata\\local\\pip\\cache\\wheels\\87\\94\\20\\4e4ddd07e7276e44a38ac39d5b6c919d38ef27b9ebc5041e0f\n",
      "  Building wheel for pyscreeze (pyproject.toml): started\n",
      "  Building wheel for pyscreeze (pyproject.toml): finished with status 'done'\n",
      "  Created wheel for pyscreeze: filename=pyscreeze-1.0.1-py3-none-any.whl size=14481 sha256=d56d7798e67568a474ccfe5e8450218141e7de692e789560ab87a64fa310bf2c\n",
      "  Stored in directory: c:\\users\\park\\appdata\\local\\pip\\cache\\wheels\\1c\\6e\\d7\\0acfbc5116e11006753649efc7cb40bb9df98990798a21960d\n",
      "  Building wheel for pytweening (pyproject.toml): started\n",
      "  Building wheel for pytweening (pyproject.toml): finished with status 'done'\n",
      "  Created wheel for pytweening: filename=pytweening-1.2.0-py3-none-any.whl size=8135 sha256=95ae8f4dc84f11814be110336788e3ea3a2bf9f378a03e9ad70b94c2d7aa985f\n",
      "  Stored in directory: c:\\users\\park\\appdata\\local\\pip\\cache\\wheels\\e7\\89\\f5\\71248cbe0cc120d985c1976f8f2f31675069644c23ff03abfc\n",
      "  Building wheel for mouseinfo (pyproject.toml): started\n",
      "  Building wheel for mouseinfo (pyproject.toml): finished with status 'done'\n",
      "  Created wheel for mouseinfo: filename=mouseinfo-0.1.3-py3-none-any.whl size=10967 sha256=e0069aab3b6bf04111df43911d0812a8d557e9f99236d849de5c48d60d814227\n",
      "  Stored in directory: c:\\users\\park\\appdata\\local\\pip\\cache\\wheels\\61\\5c\\24\\7d8ed078555f30e8f23fbc97f6361242a2cb4437ddd0384389\n",
      "  Building wheel for pymsgbox (pyproject.toml): started\n",
      "  Building wheel for pymsgbox (pyproject.toml): finished with status 'done'\n",
      "  Created wheel for pymsgbox: filename=pymsgbox-1.0.9-py3-none-any.whl size=7467 sha256=6f117b3e2995082e9347780027a4e2ab93cb9f1253bbec403c564699de7ac757\n",
      "  Stored in directory: c:\\users\\park\\appdata\\local\\pip\\cache\\wheels\\02\\b3\\8f\\8105b9948d1e23d9ad0d9de8d7f198aee5c7575aeba878ea82\n",
      "  Building wheel for pyperclip (pyproject.toml): started\n",
      "  Building wheel for pyperclip (pyproject.toml): finished with status 'done'\n",
      "  Created wheel for pyperclip: filename=pyperclip-1.9.0-py3-none-any.whl size=11117 sha256=f36e96f6f6495a0baa8fc24299e5231e75a68ecc381fab7d88933a6ea71b72b3\n",
      "  Stored in directory: c:\\users\\park\\appdata\\local\\pip\\cache\\wheels\\9c\\79\\90\\c9e831caaffa2633ad99f1d35c6ea39866b92de62e909e89ef\n",
      "  Building wheel for pyrect (pyproject.toml): started\n",
      "  Building wheel for pyrect (pyproject.toml): finished with status 'done'\n",
      "  Created wheel for pyrect: filename=pyrect-0.2.0-py2.py3-none-any.whl size=11306 sha256=3d75acbd1d6f2356a366127b8dbbe8a994c288003232da98f48794ff4cb9317b\n",
      "  Stored in directory: c:\\users\\park\\appdata\\local\\pip\\cache\\wheels\\1e\\84\\e3\\83782b4a92f3d4d5b7fff5c36bf8c31922719e0695ee854cf0\n",
      "Successfully built pyautogui pygetwindow pyscreeze pytweening mouseinfo pymsgbox pyperclip pyrect\n",
      "Installing collected packages: pytweening, pyscreeze, pyrect, pyperclip, pymsgbox, pygetwindow, mouseinfo, pyautogui\n",
      "\n",
      "   ----------------------------------- ---- 7/8 [pyautogui]\n",
      "   ---------------------------------------- 8/8 [pyautogui]\n",
      "\n",
      "Successfully installed mouseinfo-0.1.3 pyautogui-0.9.54 pygetwindow-0.0.9 pymsgbox-1.0.9 pyperclip-1.9.0 pyrect-0.2.0 pyscreeze-1.0.1 pytweening-1.2.0\n",
      "Note: you may need to restart the kernel to use updated packages.\n"
     ]
    }
   ],
   "source": [
    "pip install pyautogui"
   ]
  },
  {
   "cell_type": "code",
   "execution_count": null,
   "id": "1cf2563a",
   "metadata": {},
   "outputs": [
    {
     "name": "stdout",
     "output_type": "stream",
     "text": [
      "\n",
      "다음 문장을 그대로 입력하세요:\n",
      "\n",
      "Here's looking at you, kid.\n",
      "\n",
      "\n",
      "결과\n",
      "걸린 시간 : 15.06초\n",
      "정확도:  100.00%\n",
      "타자속도 : 107.60자/분\n"
     ]
    }
   ],
   "source": [
    "\n",
    "import time\n",
    "import random\n",
    "\n",
    "#제시 문장 list\n",
    "sentences = [\n",
    "    \"밥은 먹고 다니냐?\", \n",
    "    \"느그 아부지 뭐 하시노?\",\n",
    "    \"형이... 왜 거기서 나와?\",\n",
    "    \"내가... 웃는 게 웃는 게 아니야.\",\n",
    "    \"묻고 더블로 가!\",\n",
    "    \"어이가 없네?\",\n",
    "    \"지금... 장난하나?\",\n",
    "    \"계란이 왔어요~\",\n",
    "    \"그거 아냐? 나 지금 되게 신나!\",\n",
    "    \"진짜 X같네 진짜!\",\n",
    "    \"May the Force be with you.\",\n",
    "    \"I'm going to make him an offer he can't refuse.\",\n",
    "    \"Here's looking at you, kid.\",\n",
    "    \"You talking to me?\",\n",
    "    \"Life is like a box of chocolates. You never know what you're gonna get.\",\n",
    "    \"I'll be back.\",\n",
    "    \"Why so serious?\",\n",
    "    \"To infinity and beyond!\",\n",
    "    \"I see dead people.\",\n",
    "    \"My precious.\"]\n",
    "\n",
    "#렌덤으로 선택\n",
    "target = random.choice(sentences)\n",
    "\n",
    "print(\"\\n다음 문장을 그대로 입력하세요:\\n\")\n",
    "print(f\"{target}\\n\")\n",
    "\n",
    "input(\"준비가 되면 Enter를 누르세요!\")\n",
    "\n",
    "#시간 측정 시작\n",
    "start_time = time.time()\n",
    "\n",
    "#사용자 입력\n",
    "typed = input(\"\\n입력 : \")\n",
    "\n",
    "#시간 측정 종료\n",
    "end_time = time.time()\n",
    "elapsed = end_time - start_time\n",
    "\n",
    "#정확도 계산\n",
    "correct = 0\n",
    "for i in range(min(len(target), len(typed))): #len -> 길이를 구하는 함수 // \n",
    "    if target[i] == typed[i]:\n",
    "        correct += 1\n",
    "\n",
    "# while \n",
    "# while target[i] == typed[i]:\n",
    "#    correct +=1\n",
    "\n",
    "#수정된 정확도, 속도 계산\n",
    "total = max(len(target), len(typed)) #버그 수정을 위한 코드 추가 -> 최대길이 기준으로 정확도 측정\n",
    "accuracy = correct / total * 100\n",
    "#accuracy = correct / len(target) * 100 # 짧게 타이핑을 했을 경우에 정확도가 원래 문장 길이를 기준으로 하므로 위에서 최소값을 기준으로 for구문을 돌린다.\n",
    "speed = len(typed) / elapsed * 60\n",
    "\n",
    "#결과출력\n",
    "print(\"\\n결과\")\n",
    "print(f\"걸린 시간 : {elapsed:.2f}초\")\n",
    "print(f\"정확도: {accuracy : .2f}%\")#입력한 문장이 길 경우로서 정확한 문장 작성 후 다른 문장을 입력하더라도 정확도가 100이 나오는 버그가 있다.\n",
    "print(f\"타자속도 : {speed:.2f}자/분\")\n"
   ]
  },
  {
   "cell_type": "code",
   "execution_count": 3,
   "id": "442bf3f3",
   "metadata": {},
   "outputs": [
    {
     "name": "stdout",
     "output_type": "stream",
     "text": [
      "\n",
      "다음 문장을 그대로 입력하세요:\n",
      "\n",
      "밥은 먹고 다니냐?\n",
      "\n",
      "다시 시도!\n",
      "다시 시도!\n",
      "굿\n",
      "\n",
      "결과\n",
      "걸린 시간 : 12.37초\n",
      "정확도:  100.00%\n",
      "타자속도 : 48.49자/분\n"
     ]
    }
   ],
   "source": [
    "\n",
    "import time\n",
    "import random\n",
    "\n",
    "#제시 문장 list\n",
    "sentences = [\n",
    "    \"밥은 먹고 다니냐?\", \n",
    "    \"느그 아부지 뭐 하시노?\",\n",
    "    \"형이... 왜 거기서 나와?\",\n",
    "    \"내가... 웃는 게 웃는 게 아니야.\",\n",
    "    \"묻고 더블로 가!\",\n",
    "    \"어이가 없네?\",\n",
    "    \"지금... 장난하나?\",\n",
    "    \"계란이 왔어요~\",\n",
    "    \"그거 아냐? 나 지금 되게 신나!\",\n",
    "    \"진짜 X같네 진짜!\",\n",
    "    \"May the Force be with you.\",\n",
    "    \"I'm going to make him an offer he can't refuse.\",\n",
    "    \"Here's looking at you, kid.\",\n",
    "    \"You talking to me?\",\n",
    "    \"Life is like a box of chocolates. You never know what you're gonna get.\",\n",
    "    \"I'll be back.\",\n",
    "    \"Why so serious?\",\n",
    "    \"To infinity and beyond!\",\n",
    "    \"I see dead people.\",\n",
    "    \"My precious.\"]\n",
    "\n",
    "#렌덤으로 선택\n",
    "target = random.choice(sentences)\n",
    "\n",
    "print(\"\\n다음 문장을 그대로 입력하세요:\\n\")\n",
    "print(f\"{target}\\n\")\n",
    "\n",
    "input(\"준비가 되면 Enter를 누르세요!\")\n",
    "\n",
    "#시간 측정 시작\n",
    "start_time = time.time()\n",
    "\n",
    "trial = 0\n",
    "while True:\n",
    "#사용자 입력\n",
    "    typed = input(\"\\n입력 : \")\n",
    "\n",
    "#시간 측정 종료\n",
    "    end_time = time.time()\n",
    "    elapsed = end_time - start_time\n",
    "\n",
    "#정확도 계산\n",
    "    correct = 0\n",
    "    for i in range(min(len(target), len(typed))): #len -> 길이를 구하는 함수 // \n",
    "        if target[i] == typed[i]:\n",
    "            correct += 1\n",
    "\n",
    "#수정된 정확도, 속도 계산\n",
    "    total = max(len(target), len(typed)) #버그 수정을 위한 코드 추가 -> 최대길이 기준으로 정확도 측정\n",
    "    accuracy = correct / total * 100\n",
    "#accuracy = correct / len(target) * 100 # 짧게 타이핑을 했을 경우에 정확도가 원래 문장 길이를 기준으로 하므로 위에서 최소값을 기준으로 for구문을 돌린다.\n",
    "    speed = len(typed) / elapsed * 60\n",
    "\n",
    "    if accuracy == 100:\n",
    "        print(\"굿\")\n",
    "        break\n",
    "    else: \n",
    "        print(\"다시 시도!\")\n",
    "        trial += 1\n",
    "\n",
    "#결과출력\n",
    "print(\"\\n결과\")\n",
    "print(f\"걸린 시간 : {elapsed:.2f}초\")\n",
    "print(f\"정확도: {accuracy : .2f}%\")#입력한 문장이 길 경우로서 정확한 문장 작성 후 다른 문장을 입력하더라도 정확도가 100이 나오는 버그가 있다.\n",
    "print(f\"타자속도 : {speed:.2f}자/분\")\n"
   ]
  },
  {
   "cell_type": "code",
   "execution_count": null,
   "id": "44d0d36b",
   "metadata": {},
   "outputs": [
    {
     "name": "stdout",
     "output_type": "stream",
     "text": [
      "돌다리도 두들겨 보고 건너라\n"
     ]
    }
   ],
   "source": [
    "import random\n",
    "\n",
    "\n",
    "Old_Wisdom = [\n",
    "    \"가는 말이 고와야 오는 말이 곱다\",\n",
    "    \"호랑이도 제 말 하면 온다\",\n",
    "    \"등잔 밑이 어둡다\",\n",
    "    \"원숭이도 나무에서 떨어진다\",\n",
    "    \"꿩 대신 닭\",\n",
    "    \"세 살 버릇 여든까지 간다\",\n",
    "    \"티끌 모아 태산\",\n",
    "    \"백문이 불여일견\",\n",
    "    \"웃는 얼굴에 침 못 뱉는다\",\n",
    "    \"하늘이 무너져도 솟아날 구멍이 있다\",\n",
    "    \"말 한마디에 천 냥 빚도 갚는다\",\n",
    "    \"누워서 떡 먹기\",\n",
    "    \"소 잃고 외양간 고친다\",\n",
    "    \"돌다리도 두들겨 보고 건너라\",\n",
    "    \"바늘 도둑이 소 도둑 된다\",\n",
    "    \"아는 길도 물어 가라\",\n",
    "    \"고래 싸움에 새우 등 터진다\",\n",
    "    \"가는 날이 장날이다\",\n",
    "    \"개구리 올챙이 적 생각 못 한다\",\n",
    "    \"열 번 찍어 안 넘어가는 나무 없다\",\n",
    "    \"배보다 배꼽이 크다\",\n",
    "    \"공든 탑이 무너지랴\",\n",
    "    \"천 리 길도 한 걸음부터\",\n",
    "    \"빈 수레가 요란하다\",\n",
    "    \"자라 보고 놀란 가슴 솥뚜껑 보고 놀란다\",\n",
    "    ]\n",
    "\"\"\"\n",
    "[\n",
    "[\"가는 말이 고와야\", \"오는 말이 곱다\"],\n",
    "[\"호랑이도 제 말\", \"하면 온다\"],\n",
    "[\"등잔 밑이\", \"어둡다\"],\n",
    "[\"원숭이도 나무에서\", \"떨어진다\"],\n",
    "[\"세 살 버릇\", \"여든까지 간다\"],\n",
    "[\"티끌 모아\", \"태산\"],\n",
    "[\"백문이\", \"불여일견\"],\n",
    "[\"웃는 얼굴에\", \"침 못 뱉는다\"],\n",
    "[\"하늘이 무너져도\", \"솟아날 구멍이 있다\"],\n",
    "[\"말 한마디에\", \"천 냥 빚도 갚는다\"],\n",
    "[\"누워서\", \"떡 먹기\"],\n",
    "[\"소 잃고\", \"외양간 고친다\"],\n",
    "[\"돌다리도 두들겨 보고\", \"건너라\"],\n",
    "[\"바늘 도둑이\", \"소 도둑 된다\"],\n",
    "[\"아는 길도\", \"물어 가라\"],\n",
    "[\"고래 싸움에\", \"새우 등 터진다\"],\n",
    "[\"가는 날이\", \"장날이다\"],\n",
    "[\"개구리 올챙이 적\", \"생각 못 한다\"],\n",
    "[\"열 번 찍어\", \"안 넘어가는 나무 없다\"],\n",
    "[\"배보다\", \"배꼽이 크다\"],\n",
    "[\"공든 탑이\", \"무너지랴\"],\n",
    "[\"천 리 길도\", \"한 걸음부터\"],\n",
    "[\"빈 수레가\", \"요란하다\"],\n",
    "[\"자라 보고 놀란 가슴\", \"솥뚜껑 보고 놀란다\"]\n",
    "]\n",
    "\"\"\"\n",
    "\n",
    "for i in range():\n",
    "\n",
    "\n",
    "a = random.choice(Old_Wisdom)\n",
    "print(a)"
   ]
  },
  {
   "cell_type": "code",
   "execution_count": null,
   "id": "00e8b032",
   "metadata": {},
   "outputs": [
    {
     "name": "stdout",
     "output_type": "stream",
     "text": [
      "('천 리 길도', '한 걸음부터')\n",
      "등잔 밑이 어둡다\n",
      "등잔 밑이\n"
     ]
    }
   ],
   "source": [
    "Old_Wisdom2 = [\n",
    "(\"가는 말이 고와야\", \"오는 말이 곱다\"),\n",
    "(\"호랑이도 제 말\", \"하면 온다\"),\n",
    "(\"등잔 밑이\", \"어둡다\"),\n",
    "(\"원숭이도 나무에서\", \"떨어진다\"),\n",
    "(\"세 살 버릇\", \"여든까지 간다\"),\n",
    "(\"티끌 모아\", \"태산\"),\n",
    "(\"백문이\", \"불여일견\"),\n",
    "(\"웃는 얼굴에\", \"침 못 뱉는다\"),\n",
    "(\"하늘이 무너져도\", \"솟아날 구멍이 있다\"),\n",
    "(\"말 한마디에\", \"천 냥 빚도 갚는다\"),\n",
    "(\"누워서\", \"떡 먹기\"),\n",
    "(\"소 잃고\", \"외양간 고친다\"),\n",
    "(\"돌다리도 두들겨 보고\", \"건너라\"),\n",
    "(\"바늘 도둑이\", \"소 도둑 된다\"),\n",
    "(\"아는 길도\", \"물어 가라\"),\n",
    "(\"고래 싸움에\", \"새우 등 터진다\"),\n",
    "(\"가는 날이\", \"장날이다\"),\n",
    "(\"개구리 올챙이 적\", \"생각 못 한다\"),\n",
    "(\"열 번 찍어\", \"안 넘어가는 나무 없다\"),\n",
    "(\"배보다\", \"배꼽이 크다\"),\n",
    "(\"공든 탑이\", \"무너지랴\"),\n",
    "(\"천 리 길도\", \"한 걸음부터\"),\n",
    "(\"빈 수레가\", \"요란하다\"),\n",
    "(\"자라 보고 놀란 가슴\", \"솥뚜껑 보고 놀란다\"),\n",
    "]\n",
    "\n",
    "front, back = random.choice(Old_Wisdom2)# , 를 이용해 변수 지정을 하면 따로 출력을 해준다. 내용자체가 ,로 구분되어있다면.\n",
    "a = random.choice(Old_Wisdom2)\n",
    "print(a)\n",
    "print(front, back)\n",
    "print(f\"{front}\") #변수를 넣었을때 그 값을 출력해주는 기능을 가진 명령어. f {}형태로 쓰인다. f는 \"\"안에 들어가지 않는다.\n"
   ]
  },
  {
   "cell_type": "code",
   "execution_count": null,
   "id": "de0a162e",
   "metadata": {},
   "outputs": [
    {
     "name": "stdout",
     "output_type": "stream",
     "text": [
      "속담 : \"등잔 밑이_____\"\n"
     ]
    }
   ],
   "source": [
    "print(f\"속담 : \\\"{front}__________\\\"\")\n",
    "answer = input(\"뒷부분을 입력하세요 : \").strip() #입력값에 대한 부분. 뒷 strip부분에 대한 이해 필요.\n"
   ]
  },
  {
   "cell_type": "code",
   "execution_count": null,
   "id": "a0afcbac",
   "metadata": {},
   "outputs": [],
   "source": [
    "correct = 0\n",
    "for i in range(min(len(back),len(answer))):\n",
    "    if answer[i] == back[i]:\n",
    "        correct += 1\n",
    "\n",
    "accuracy = len(answer) / len(back) * 100\n",
    "\n"
   ]
  },
  {
   "cell_type": "code",
   "execution_count": 26,
   "id": "dd3b89bc",
   "metadata": {},
   "outputs": [
    {
     "name": "stdout",
     "output_type": "stream",
     "text": [
      "속담 : \"자라 보고 놀란 가슴__________\"\n",
      "5번의 기회가 주어집니다.\n",
      "\n",
      "다시 입력하세요!\n",
      "\n",
      "다시 입력하세요!\n",
      "\n",
      "다시 입력하세요!\n",
      "\n",
      "다시 입력하세요!\n",
      "\n",
      "정확도 100.0 %\n",
      "정답입니다.참 잘했어요!!\n"
     ]
    }
   ],
   "source": [
    "import random\n",
    "\n",
    "Old_Wisdom2 = [\n",
    "(\"가는 말이 고와야\", \"오는 말이 곱다\"),\n",
    "(\"호랑이도 제 말\", \"하면 온다\"),\n",
    "(\"등잔 밑이\", \"어둡다\"),\n",
    "(\"원숭이도 나무에서\", \"떨어진다\"),\n",
    "(\"세 살 버릇\", \"여든까지 간다\"),\n",
    "(\"티끌 모아\", \"태산\"),\n",
    "(\"백문이\", \"불여일견\"),\n",
    "(\"웃는 얼굴에\", \"침 못 뱉는다\"),\n",
    "(\"하늘이 무너져도\", \"솟아날 구멍이 있다\"),\n",
    "(\"말 한마디에\", \"천 냥 빚도 갚는다\"),\n",
    "(\"누워서\", \"떡 먹기\"),\n",
    "(\"소 잃고\", \"외양간 고친다\"),\n",
    "(\"돌다리도 두들겨 보고\", \"건너라\"),\n",
    "(\"바늘 도둑이\", \"소 도둑 된다\"),\n",
    "(\"아는 길도\", \"물어 가라\"),\n",
    "(\"고래 싸움에\", \"새우 등 터진다\"),\n",
    "(\"가는 날이\", \"장날이다\"),\n",
    "(\"개구리 올챙이 적\", \"생각 못 한다\"),\n",
    "(\"열 번 찍어\", \"안 넘어가는 나무 없다\"),\n",
    "(\"배보다\", \"배꼽이 크다\"),\n",
    "(\"공든 탑이\", \"무너지랴\"),\n",
    "(\"천 리 길도\", \"한 걸음부터\"),\n",
    "(\"빈 수레가\", \"요란하다\"),\n",
    "(\"자라 보고 놀란 가슴\", \"솥뚜껑 보고 놀란다\"),\n",
    "]\n",
    "\n",
    "front, back = random.choice(Old_Wisdom2)\n",
    "\n",
    "print(f\"속담 : \\\"{front}__________\\\"\")\n",
    "print(\"5번의 기회가 주어집니다.\")\n",
    "answer = input(\"뒷부분을 입력하세요 : \").strip()\n",
    "\n",
    "j=0\n",
    "correct = 0\n",
    "for j in range(1,6):\n",
    "    for i in range(min(len(back),len(answer))):\n",
    "        if answer[i] == back[i]:\n",
    "            correct += 1\n",
    "    \n",
    "    accuracy = len(answer) / len(back) * 100\n",
    "\n",
    "    if back == answer:\n",
    "        print(\"\\n정확도\",accuracy,\"%\")\n",
    "        print(\"정답입니다.참 잘했어요!!\")\n",
    "        break\n",
    "    else:\n",
    "        print(\"\\n다시 입력하세요!\")\n",
    "        answer = input(\"다시! : \").strip()\n",
    "\n",
    "if accuracy != 100:\n",
    "    print(\"\\n실패했습니다. 연습하세요!!\")\n",
    "\n"
   ]
  },
  {
   "cell_type": "code",
   "execution_count": null,
   "id": "a5c371bf",
   "metadata": {},
   "outputs": [
    {
     "name": "stdout",
     "output_type": "stream",
     "text": [
      "속담 : \"개구리 올챙이 적__________\"\n",
      "5번의 기회가 주어집니다.\n",
      "\n",
      "다시 입력하세요!\n",
      "\n",
      "정확도 100.0 %\n",
      "정답입니다.참 잘했어요!!\n",
      "당신의 점수는 %d점 입니다\n",
      "속담 : \"세 살 버릇__________\"\n",
      "5번의 기회가 주어집니다.\n",
      "\n",
      "다시 입력하세요!\n",
      "\n",
      "다시 입력하세요!\n",
      "\n",
      "다시 입력하세요!\n",
      "\n",
      "다시 입력하세요!\n",
      "\n",
      "정확도 100.0 %\n",
      "정답입니다.참 잘했어요!!\n",
      "당신의 점수는 %d점 입니다\n",
      "속담 : \"고래 싸움에__________\"\n",
      "5번의 기회가 주어집니다.\n",
      "\n",
      "정확도 100.0 %\n",
      "정답입니다.참 잘했어요!!\n",
      "당신의 점수는 %d점 입니다\n",
      "속담 : \"호랑이도 제 말__________\"\n",
      "5번의 기회가 주어집니다.\n",
      "\n",
      "다시 입력하세요!\n",
      "\n",
      "다시 입력하세요!\n",
      "\n",
      "다시 입력하세요!\n",
      "\n",
      "다시 입력하세요!\n",
      "\n",
      "다시 입력하세요!\n",
      "\n",
      "실패했습니다. 연습하세요!!\n",
      "속담 : \"호랑이도 제 말__________\"\n",
      "5번의 기회가 주어집니다.\n",
      "\n",
      "다시 입력하세요!\n",
      "\n",
      "다시 입력하세요!\n",
      "\n",
      "다시 입력하세요!\n",
      "\n",
      "다시 입력하세요!\n",
      "\n",
      "다시 입력하세요!\n",
      "\n",
      "실패했습니다. 연습하세요!!\n",
      "속담 : \"원숭이도 나무에서__________\"\n",
      "5번의 기회가 주어집니다.\n",
      "\n",
      "다시 입력하세요!\n",
      "\n",
      "다시 입력하세요!\n",
      "\n",
      "다시 입력하세요!\n",
      "\n",
      "다시 입력하세요!\n",
      "\n",
      "다시 입력하세요!\n",
      "\n",
      "실패했습니다. 연습하세요!!\n",
      "속담 : \"누워서__________\"\n",
      "5번의 기회가 주어집니다.\n",
      "\n",
      "다시 입력하세요!\n",
      "\n",
      "다시 입력하세요!\n",
      "\n",
      "다시 입력하세요!\n",
      "\n",
      "다시 입력하세요!\n",
      "\n",
      "다시 입력하세요!\n",
      "\n",
      "실패했습니다. 연습하세요!!\n",
      "속담 : \"하늘이 무너져도__________\"\n",
      "5번의 기회가 주어집니다.\n",
      "\n",
      "다시 입력하세요!\n",
      "\n",
      "다시 입력하세요!\n",
      "\n",
      "다시 입력하세요!\n",
      "\n",
      "다시 입력하세요!\n",
      "\n",
      "다시 입력하세요!\n",
      "\n",
      "실패했습니다. 연습하세요!!\n",
      "속담 : \"티끌 모아__________\"\n",
      "5번의 기회가 주어집니다.\n",
      "\n",
      "다시 입력하세요!\n",
      "\n",
      "다시 입력하세요!\n",
      "\n",
      "다시 입력하세요!\n",
      "\n",
      "다시 입력하세요!\n",
      "\n",
      "다시 입력하세요!\n",
      "\n",
      "실패했습니다. 연습하세요!!\n",
      "속담 : \"가는 말이 고와야__________\"\n",
      "5번의 기회가 주어집니다.\n",
      "\n",
      "다시 입력하세요!\n",
      "\n",
      "다시 입력하세요!\n",
      "\n",
      "다시 입력하세요!\n",
      "\n",
      "다시 입력하세요!\n",
      "\n",
      "다시 입력하세요!\n",
      "\n",
      "실패했습니다. 연습하세요!!\n",
      "속담 : \"말 한마디에__________\"\n",
      "5번의 기회가 주어집니다.\n",
      "\n",
      "다시 입력하세요!\n",
      "\n",
      "다시 입력하세요!\n",
      "\n",
      "다시 입력하세요!\n",
      "\n",
      "다시 입력하세요!\n",
      "\n",
      "다시 입력하세요!\n",
      "\n",
      "실패했습니다. 연습하세요!!\n",
      "속담 : \"등잔 밑이__________\"\n",
      "5번의 기회가 주어집니다.\n",
      "\n",
      "다시 입력하세요!\n",
      "\n",
      "다시 입력하세요!\n",
      "\n",
      "다시 입력하세요!\n",
      "\n",
      "다시 입력하세요!\n",
      "\n",
      "다시 입력하세요!\n",
      "\n",
      "실패했습니다. 연습하세요!!\n",
      "속담 : \"개구리 올챙이 적__________\"\n",
      "5번의 기회가 주어집니다.\n",
      "\n",
      "다시 입력하세요!\n",
      "\n",
      "다시 입력하세요!\n",
      "\n",
      "다시 입력하세요!\n",
      "\n",
      "다시 입력하세요!\n",
      "\n",
      "다시 입력하세요!\n",
      "\n",
      "실패했습니다. 연습하세요!!\n",
      "속담 : \"천 리 길도__________\"\n",
      "5번의 기회가 주어집니다.\n",
      "\n",
      "다시 입력하세요!\n",
      "\n",
      "다시 입력하세요!\n",
      "\n",
      "다시 입력하세요!\n",
      "\n",
      "다시 입력하세요!\n",
      "\n",
      "다시 입력하세요!\n",
      "\n",
      "실패했습니다. 연습하세요!!\n",
      "속담 : \"바늘 도둑이__________\"\n",
      "5번의 기회가 주어집니다.\n",
      "\n",
      "다시 입력하세요!\n",
      "\n",
      "다시 입력하세요!\n",
      "\n",
      "다시 입력하세요!\n",
      "\n",
      "다시 입력하세요!\n",
      "\n",
      "다시 입력하세요!\n",
      "\n",
      "실패했습니다. 연습하세요!!\n",
      "속담 : \"개구리 올챙이 적__________\"\n",
      "5번의 기회가 주어집니다.\n",
      "\n",
      "다시 입력하세요!\n",
      "\n",
      "다시 입력하세요!\n",
      "\n",
      "다시 입력하세요!\n",
      "\n",
      "다시 입력하세요!\n",
      "\n",
      "다시 입력하세요!\n",
      "\n",
      "실패했습니다. 연습하세요!!\n",
      "속담 : \"바늘 도둑이__________\"\n",
      "5번의 기회가 주어집니다.\n",
      "\n",
      "다시 입력하세요!\n",
      "\n",
      "다시 입력하세요!\n",
      "\n",
      "다시 입력하세요!\n",
      "\n",
      "다시 입력하세요!\n",
      "\n",
      "다시 입력하세요!\n",
      "\n",
      "실패했습니다. 연습하세요!!\n",
      "속담 : \"가는 말이 고와야__________\"\n",
      "5번의 기회가 주어집니다.\n",
      "\n",
      "다시 입력하세요!\n",
      "\n",
      "다시 입력하세요!\n",
      "\n",
      "다시 입력하세요!\n",
      "\n",
      "다시 입력하세요!\n",
      "\n",
      "다시 입력하세요!\n",
      "\n",
      "실패했습니다. 연습하세요!!\n",
      "속담 : \"원숭이도 나무에서__________\"\n",
      "5번의 기회가 주어집니다.\n",
      "\n",
      "다시 입력하세요!\n",
      "\n",
      "다시 입력하세요!\n",
      "\n",
      "다시 입력하세요!\n",
      "\n",
      "다시 입력하세요!\n",
      "\n",
      "다시 입력하세요!\n",
      "\n",
      "실패했습니다. 연습하세요!!\n",
      "속담 : \"가는 날이__________\"\n",
      "5번의 기회가 주어집니다.\n",
      "\n",
      "다시 입력하세요!\n",
      "\n",
      "다시 입력하세요!\n",
      "\n",
      "다시 입력하세요!\n",
      "\n",
      "다시 입력하세요!\n",
      "\n",
      "다시 입력하세요!\n",
      "\n",
      "실패했습니다. 연습하세요!!\n",
      "속담 : \"원숭이도 나무에서__________\"\n",
      "5번의 기회가 주어집니다.\n",
      "\n",
      "다시 입력하세요!\n",
      "\n",
      "다시 입력하세요!\n",
      "\n",
      "다시 입력하세요!\n",
      "\n",
      "다시 입력하세요!\n",
      "\n",
      "다시 입력하세요!\n",
      "\n",
      "실패했습니다. 연습하세요!!\n",
      "속담 : \"원숭이도 나무에서__________\"\n",
      "5번의 기회가 주어집니다.\n",
      "\n",
      "다시 입력하세요!\n",
      "\n",
      "다시 입력하세요!\n",
      "\n",
      "다시 입력하세요!\n",
      "\n",
      "다시 입력하세요!\n",
      "\n",
      "다시 입력하세요!\n",
      "\n",
      "실패했습니다. 연습하세요!!\n",
      "속담 : \"원숭이도 나무에서__________\"\n",
      "5번의 기회가 주어집니다.\n",
      "\n",
      "다시 입력하세요!\n",
      "\n",
      "다시 입력하세요!\n",
      "\n",
      "다시 입력하세요!\n",
      "\n",
      "다시 입력하세요!\n",
      "\n",
      "다시 입력하세요!\n",
      "\n",
      "실패했습니다. 연습하세요!!\n",
      "속담 : \"티끌 모아__________\"\n",
      "5번의 기회가 주어집니다.\n",
      "\n",
      "다시 입력하세요!\n",
      "\n",
      "다시 입력하세요!\n",
      "\n",
      "다시 입력하세요!\n",
      "\n",
      "다시 입력하세요!\n",
      "\n",
      "다시 입력하세요!\n",
      "\n",
      "실패했습니다. 연습하세요!!\n",
      "속담 : \"빈 수레가__________\"\n",
      "5번의 기회가 주어집니다.\n",
      "\n",
      "다시 입력하세요!\n",
      "\n",
      "다시 입력하세요!\n",
      "\n",
      "다시 입력하세요!\n",
      "\n",
      "다시 입력하세요!\n",
      "\n",
      "다시 입력하세요!\n",
      "\n",
      "실패했습니다. 연습하세요!!\n",
      "속담 : \"아는 길도__________\"\n",
      "5번의 기회가 주어집니다.\n",
      "\n",
      "다시 입력하세요!\n",
      "\n",
      "다시 입력하세요!\n",
      "\n",
      "다시 입력하세요!\n",
      "\n",
      "다시 입력하세요!\n",
      "\n",
      "다시 입력하세요!\n",
      "\n",
      "실패했습니다. 연습하세요!!\n",
      "속담 : \"배보다__________\"\n",
      "5번의 기회가 주어집니다.\n",
      "\n",
      "다시 입력하세요!\n"
     ]
    },
    {
     "ename": "KeyboardInterrupt",
     "evalue": "Interrupted by user",
     "output_type": "error",
     "traceback": [
      "\u001b[31m---------------------------------------------------------------------------\u001b[39m",
      "\u001b[31mKeyboardInterrupt\u001b[39m                         Traceback (most recent call last)",
      "\u001b[36mCell\u001b[39m\u001b[36m \u001b[39m\u001b[32mIn[33]\u001b[39m\u001b[32m, line 57\u001b[39m\n\u001b[32m     55\u001b[39m     \u001b[38;5;28;01melse\u001b[39;00m:\n\u001b[32m     56\u001b[39m         \u001b[38;5;28mprint\u001b[39m(\u001b[33m\"\u001b[39m\u001b[38;5;130;01m\\n\u001b[39;00m\u001b[33m다시 입력하세요!\u001b[39m\u001b[33m\"\u001b[39m)\n\u001b[32m---> \u001b[39m\u001b[32m57\u001b[39m         answer = \u001b[38;5;28;43minput\u001b[39;49m\u001b[43m(\u001b[49m\u001b[33;43m\"\u001b[39;49m\u001b[33;43m다시! : \u001b[39;49m\u001b[33;43m\"\u001b[39;49m\u001b[43m)\u001b[49m.strip()\n\u001b[32m     58\u001b[39m         j += \u001b[32m1\u001b[39m\n\u001b[32m     60\u001b[39m \u001b[38;5;28;01mif\u001b[39;00m accuracy != \u001b[32m100\u001b[39m:\n",
      "\u001b[36mFile \u001b[39m\u001b[32m~\\AppData\\Roaming\\Python\\Python313\\site-packages\\ipykernel\\kernelbase.py:1282\u001b[39m, in \u001b[36mKernel.raw_input\u001b[39m\u001b[34m(self, prompt)\u001b[39m\n\u001b[32m   1280\u001b[39m     msg = \u001b[33m\"\u001b[39m\u001b[33mraw_input was called, but this frontend does not support input requests.\u001b[39m\u001b[33m\"\u001b[39m\n\u001b[32m   1281\u001b[39m     \u001b[38;5;28;01mraise\u001b[39;00m StdinNotImplementedError(msg)\n\u001b[32m-> \u001b[39m\u001b[32m1282\u001b[39m \u001b[38;5;28;01mreturn\u001b[39;00m \u001b[38;5;28;43mself\u001b[39;49m\u001b[43m.\u001b[49m\u001b[43m_input_request\u001b[49m\u001b[43m(\u001b[49m\n\u001b[32m   1283\u001b[39m \u001b[43m    \u001b[49m\u001b[38;5;28;43mstr\u001b[39;49m\u001b[43m(\u001b[49m\u001b[43mprompt\u001b[49m\u001b[43m)\u001b[49m\u001b[43m,\u001b[49m\n\u001b[32m   1284\u001b[39m \u001b[43m    \u001b[49m\u001b[38;5;28;43mself\u001b[39;49m\u001b[43m.\u001b[49m\u001b[43m_parent_ident\u001b[49m\u001b[43m[\u001b[49m\u001b[33;43m\"\u001b[39;49m\u001b[33;43mshell\u001b[39;49m\u001b[33;43m\"\u001b[39;49m\u001b[43m]\u001b[49m\u001b[43m,\u001b[49m\n\u001b[32m   1285\u001b[39m \u001b[43m    \u001b[49m\u001b[38;5;28;43mself\u001b[39;49m\u001b[43m.\u001b[49m\u001b[43mget_parent\u001b[49m\u001b[43m(\u001b[49m\u001b[33;43m\"\u001b[39;49m\u001b[33;43mshell\u001b[39;49m\u001b[33;43m\"\u001b[39;49m\u001b[43m)\u001b[49m\u001b[43m,\u001b[49m\n\u001b[32m   1286\u001b[39m \u001b[43m    \u001b[49m\u001b[43mpassword\u001b[49m\u001b[43m=\u001b[49m\u001b[38;5;28;43;01mFalse\u001b[39;49;00m\u001b[43m,\u001b[49m\n\u001b[32m   1287\u001b[39m \u001b[43m\u001b[49m\u001b[43m)\u001b[49m\n",
      "\u001b[36mFile \u001b[39m\u001b[32m~\\AppData\\Roaming\\Python\\Python313\\site-packages\\ipykernel\\kernelbase.py:1325\u001b[39m, in \u001b[36mKernel._input_request\u001b[39m\u001b[34m(self, prompt, ident, parent, password)\u001b[39m\n\u001b[32m   1322\u001b[39m \u001b[38;5;28;01mexcept\u001b[39;00m \u001b[38;5;167;01mKeyboardInterrupt\u001b[39;00m:\n\u001b[32m   1323\u001b[39m     \u001b[38;5;66;03m# re-raise KeyboardInterrupt, to truncate traceback\u001b[39;00m\n\u001b[32m   1324\u001b[39m     msg = \u001b[33m\"\u001b[39m\u001b[33mInterrupted by user\u001b[39m\u001b[33m\"\u001b[39m\n\u001b[32m-> \u001b[39m\u001b[32m1325\u001b[39m     \u001b[38;5;28;01mraise\u001b[39;00m \u001b[38;5;167;01mKeyboardInterrupt\u001b[39;00m(msg) \u001b[38;5;28;01mfrom\u001b[39;00m\u001b[38;5;250m \u001b[39m\u001b[38;5;28;01mNone\u001b[39;00m\n\u001b[32m   1326\u001b[39m \u001b[38;5;28;01mexcept\u001b[39;00m \u001b[38;5;167;01mException\u001b[39;00m:\n\u001b[32m   1327\u001b[39m     \u001b[38;5;28mself\u001b[39m.log.warning(\u001b[33m\"\u001b[39m\u001b[33mInvalid Message:\u001b[39m\u001b[33m\"\u001b[39m, exc_info=\u001b[38;5;28;01mTrue\u001b[39;00m)\n",
      "\u001b[31mKeyboardInterrupt\u001b[39m: Interrupted by user"
     ]
    }
   ],
   "source": [
    "import random\n",
    "\n",
    "Old_Wisdom2 = [\n",
    "(\"가는 말이 고와야\", \"오는 말이 곱다\"),\n",
    "(\"호랑이도 제 말\", \"하면 온다\"),\n",
    "(\"등잔 밑이\", \"어둡다\"),\n",
    "(\"원숭이도 나무에서\", \"떨어진다\"),\n",
    "(\"세 살 버릇\", \"여든까지 간다\"),\n",
    "(\"티끌 모아\", \"태산\"),\n",
    "(\"백문이\", \"불여일견\"),\n",
    "(\"웃는 얼굴에\", \"침 못 뱉는다\"),\n",
    "(\"하늘이 무너져도\", \"솟아날 구멍이 있다\"),\n",
    "(\"말 한마디에\", \"천 냥 빚도 갚는다\"),\n",
    "(\"누워서\", \"떡 먹기\"),\n",
    "(\"소 잃고\", \"외양간 고친다\"),\n",
    "(\"돌다리도 두들겨 보고\", \"건너라\"),\n",
    "(\"바늘 도둑이\", \"소 도둑 된다\"),\n",
    "(\"아는 길도\", \"물어 가라\"),\n",
    "(\"고래 싸움에\", \"새우 등 터진다\"),\n",
    "(\"가는 날이\", \"장날이다\"),\n",
    "(\"개구리 올챙이 적\", \"생각 못 한다\"),\n",
    "(\"열 번 찍어\", \"안 넘어가는 나무 없다\"),\n",
    "(\"배보다\", \"배꼽이 크다\"),\n",
    "(\"공든 탑이\", \"무너지랴\"),\n",
    "(\"천 리 길도\", \"한 걸음부터\"),\n",
    "(\"빈 수레가\", \"요란하다\"),\n",
    "(\"자라 보고 놀란 가슴\", \"솥뚜껑 보고 놀란다\"),\n",
    "]\n",
    "\n",
    "\n",
    "\n",
    "k = 0\n",
    "score = 0\n",
    "while k<5:\n",
    "    front, back = random.choice(Old_Wisdom2)\n",
    "    print(f\"속담 : \\\"{front}__________\\\"\")\n",
    "    print(\"5번의 기회가 주어집니다.\")\n",
    "    answer = input(\"뒷부분을 입력하세요 : \").strip()\n",
    "\n",
    "    j=0\n",
    "    correct = 0\n",
    "    while j < 5:\n",
    "        for i in range(min(len(back),len(answer))):\n",
    "            if answer[i] == back[i]:\n",
    "                correct += 1\n",
    "    \n",
    "        accuracy = len(answer) / len(back) * 100\n",
    "\n",
    "        if back == answer:\n",
    "            print(\"\\n정확도\",accuracy,\"%\")\n",
    "            print(\"정답입니다.참 잘했어요!!\")\n",
    "            score += 1\n",
    "            print(f\"당신의 점수는 {score}점 입니다\")\n",
    "            k += 1\n",
    "            break\n",
    "        else:\n",
    "            print(\"\\n다시 입력하세요!\")\n",
    "            answer = input(\"다시! : \").strip()\n",
    "            k += 1\n",
    "\n",
    "    if accuracy != 100:\n",
    "        print(\"\\n실패했습니다. 연습하세요!!\")\n",
    "\n",
    "    \n",
    "\n"
   ]
  },
  {
   "cell_type": "code",
   "execution_count": null,
   "id": "d7c71d79",
   "metadata": {},
   "outputs": [
    {
     "name": "stdout",
     "output_type": "stream",
     "text": [
      "속담 : \"고래 싸움에__________\"\n",
      "5번의 기회가 주어집니다.\n",
      "오답입니다. 힌트는 새우이고 길이는 8입니다.\n",
      "오답입니다. 힌트는 새우이고 길이는 8입니다.\n",
      "\n",
      "정확도 100.0 %\n",
      "정답입니다.참 잘했어요!!\n"
     ]
    }
   ],
   "source": [
    "def OX (a,b,c):\n",
    "    if a == b:\n",
    "        c += 1\n",
    "    return c\n",
    "\n",
    "import random\n",
    "\n",
    "Old_Wisdom2 = [\n",
    "(\"가는 말이 고와야\", \"오는 말이 곱다\"),\n",
    "(\"호랑이도 제 말\", \"하면 온다\"),\n",
    "(\"등잔 밑이\", \"어둡다\"),\n",
    "(\"원숭이도 나무에서\", \"떨어진다\"),\n",
    "(\"세 살 버릇\", \"여든까지 간다\"),\n",
    "(\"티끌 모아\", \"태산\"),\n",
    "(\"백문이\", \"불여일견\"),\n",
    "(\"웃는 얼굴에\", \"침 못 뱉는다\"),\n",
    "(\"하늘이 무너져도\", \"솟아날 구멍이 있다\"),\n",
    "(\"말 한마디에\", \"천 냥 빚도 갚는다\"),\n",
    "(\"누워서\", \"떡 먹기\"),\n",
    "(\"소 잃고\", \"외양간 고친다\"),\n",
    "(\"돌다리도 두들겨 보고\", \"건너라\"),\n",
    "(\"바늘 도둑이\", \"소 도둑 된다\"),\n",
    "(\"아는 길도\", \"물어 가라\"),\n",
    "(\"고래 싸움에\", \"새우 등 터진다\"),\n",
    "(\"가는 날이\", \"장날이다\"),\n",
    "(\"개구리 올챙이 적\", \"생각 못 한다\"),\n",
    "(\"열 번 찍어\", \"안 넘어가는 나무 없다\"),\n",
    "(\"배보다\", \"배꼽이 크다\"),\n",
    "(\"공든 탑이\", \"무너지랴\"),\n",
    "(\"천 리 길도\", \"한 걸음부터\"),\n",
    "(\"빈 수레가\", \"요란하다\"),\n",
    "(\"자라 보고 놀란 가슴\", \"솥뚜껑 보고 놀란다\"),\n",
    "]\n",
    "\n",
    "front, back = random.choice(Old_Wisdom2)\n",
    "\n",
    "print(f\"속담 : \\\"{front}__________\\\"\")\n",
    "print(\"5번의 기회가 주어집니다.\")\n",
    "answer = input(\"뒷부분을 입력하세요 : \").strip()\n",
    "\n",
    "j=0\n",
    "correct = 0\n",
    "for j in range(1,6):\n",
    "    for i in range(min(len(back),len(answer))):\n",
    "        if answer[i] == back[i]:\n",
    "            correct += 1\n",
    "    \n",
    "    accuracy = len(answer) / len(back) * 100\n",
    "\n",
    "    if back == answer:\n",
    "        print(\"\\n정확도\",accuracy,\"%\")\n",
    "        print(\"정답입니다.참 잘했어요!!\")\n",
    "        break\n",
    "    else:\n",
    "        hint1 = back[0]\n",
    "        hint2 = back[1]\n",
    "        length = len(back)\n",
    "        print(f\"오답입니다. 힌트는 {hint1}{hint2}이고 길이는 {length}입니다.\")\n",
    "        answer = input(\"다시! : \").strip()\n",
    "\n",
    "if accuracy != 100:\n",
    "    print(\"\\n실패했습니다. 연습하세요!!\")"
   ]
  },
  {
   "cell_type": "code",
   "execution_count": null,
   "id": "9e457107",
   "metadata": {},
   "outputs": [],
   "source": [
    "#힌트 제공\n",
    "hint = back[0]\n",
    "length = len(back)\n",
    "print(f\"오답입니다. 힌트는{hint}이고 길이는{length}입니다.\")\n",
    "# + 판단 코드"
   ]
  },
  {
   "cell_type": "code",
   "execution_count": 1,
   "id": "4b2016cb",
   "metadata": {},
   "outputs": [
    {
     "ename": "NameError",
     "evalue": "name 'back' is not defined",
     "output_type": "error",
     "traceback": [
      "\u001b[31m---------------------------------------------------------------------------\u001b[39m",
      "\u001b[31mNameError\u001b[39m                                 Traceback (most recent call last)",
      "\u001b[36mCell\u001b[39m\u001b[36m \u001b[39m\u001b[32mIn[1]\u001b[39m\u001b[32m, line 2\u001b[39m\n\u001b[32m      1\u001b[39m \u001b[38;5;66;03m#힌트 제공\u001b[39;00m\n\u001b[32m----> \u001b[39m\u001b[32m2\u001b[39m hint = \u001b[43mback\u001b[49m[\u001b[32m0\u001b[39m,\u001b[32m1\u001b[39m,\u001b[32m2\u001b[39m]\n\u001b[32m      3\u001b[39m length = \u001b[38;5;28mlen\u001b[39m(back)\n\u001b[32m      4\u001b[39m \u001b[38;5;28mprint\u001b[39m(\u001b[33mf\u001b[39m\u001b[33m\"\u001b[39m\u001b[33m오답입니다. 힌트는\u001b[39m\u001b[38;5;132;01m{\u001b[39;00mhint\u001b[38;5;132;01m}\u001b[39;00m\u001b[33m이고 길이는\u001b[39m\u001b[38;5;132;01m{\u001b[39;00mlength\u001b[38;5;132;01m}\u001b[39;00m\u001b[33m입니다.\u001b[39m\u001b[33m\"\u001b[39m)\n",
      "\u001b[31mNameError\u001b[39m: name 'back' is not defined"
     ]
    }
   ],
   "source": [
    "#힌트 제공\n",
    "hint = back[0,1,2]\n",
    "length = len(back)\n",
    "print(f\"오답입니다. 힌트는{hint}이고 길이는{length}입니다.\")\n",
    "# + 판단 코드"
   ]
  },
  {
   "cell_type": "code",
   "execution_count": null,
   "id": "68b8bd7b",
   "metadata": {},
   "outputs": [],
   "source": [
    "def OX (a,b,c):\n",
    "    if a == b:\n",
    "        c += 1\n",
    "    return c"
   ]
  },
  {
   "cell_type": "code",
   "execution_count": 8,
   "id": "d0091383",
   "metadata": {},
   "outputs": [
    {
     "name": "stdout",
     "output_type": "stream",
     "text": [
      "속담 : \"웃는 얼굴에__________\"\n",
      "5번의 기회가 주어집니다.\n",
      "오답입니다. 힌트는 침 이고 길이는 7입니다.\n",
      "오답입니다. 힌트는 침 이고 길이는 7입니다.\n",
      "오답입니다. 힌트는 침 이고 길이는 7입니다.\n",
      "\n",
      "정확도 100.0 %\n",
      "정답입니다.참 잘했어요!!\n"
     ]
    }
   ],
   "source": [
    "def OX (a,b,c):\n",
    "    if a == b:\n",
    "        c += 1\n",
    "    return c\n",
    "\n",
    "import random\n",
    "\n",
    "Old_Wisdom2 = [\n",
    "(\"가는 말이 고와야\", \"오는 말이 곱다\"),\n",
    "(\"호랑이도 제 말\", \"하면 온다\"),\n",
    "(\"등잔 밑이\", \"어둡다\"),\n",
    "(\"원숭이도 나무에서\", \"떨어진다\"),\n",
    "(\"세 살 버릇\", \"여든까지 간다\"),\n",
    "(\"티끌 모아\", \"태산\"),\n",
    "(\"백문이\", \"불여일견\"),\n",
    "(\"웃는 얼굴에\", \"침 못 뱉는다\"),\n",
    "(\"하늘이 무너져도\", \"솟아날 구멍이 있다\"),\n",
    "(\"말 한마디에\", \"천 냥 빚도 갚는다\"),\n",
    "(\"누워서\", \"떡 먹기\"),\n",
    "(\"소 잃고\", \"외양간 고친다\"),\n",
    "(\"돌다리도 두들겨 보고\", \"건너라\"),\n",
    "(\"바늘 도둑이\", \"소 도둑 된다\"),\n",
    "(\"아는 길도\", \"물어 가라\"),\n",
    "(\"고래 싸움에\", \"새우 등 터진다\"),\n",
    "(\"가는 날이\", \"장날이다\"),\n",
    "(\"개구리 올챙이 적\", \"생각 못 한다\"),\n",
    "(\"열 번 찍어\", \"안 넘어가는 나무 없다\"),\n",
    "(\"배보다\", \"배꼽이 크다\"),\n",
    "(\"공든 탑이\", \"무너지랴\"),\n",
    "(\"천 리 길도\", \"한 걸음부터\"),\n",
    "(\"빈 수레가\", \"요란하다\"),\n",
    "(\"자라 보고 놀란 가슴\", \"솥뚜껑 보고 놀란다\"),\n",
    "]\n",
    "\n",
    "front, back = random.choice(Old_Wisdom2)\n",
    "\n",
    "print(f\"속담 : \\\"{front}__________\\\"\")\n",
    "print(\"5번의 기회가 주어집니다.\")\n",
    "answer = input(\"뒷부분을 입력하세요 : \").strip()\n",
    "\n",
    "j=0\n",
    "correct = 0\n",
    "for j in range(1,6):\n",
    "    for i in range(min(len(back),len(answer))):\n",
    "        OX(back,answer,correct)\n",
    "    \n",
    "    accuracy = len(answer) / len(back) * 100\n",
    "\n",
    "    if back == answer:\n",
    "        print(\"\\n정확도\",accuracy,\"%\")\n",
    "        print(\"정답입니다.참 잘했어요!!\")\n",
    "        break\n",
    "    else:\n",
    "        hint1 = back[0]\n",
    "        hint2 = back[1]\n",
    "        length = len(back)\n",
    "        print(f\"오답입니다. 힌트는 {hint1}{hint2}이고 길이는 {length}입니다.\")\n",
    "        answer = input(\"다시! : \").strip()\n",
    "\n",
    "if accuracy != 100:\n",
    "    print(\"\\n실패했습니다. 연습하세요!!\")"
   ]
  },
  {
   "cell_type": "code",
   "execution_count": null,
   "id": "8a301dc5",
   "metadata": {},
   "outputs": [],
   "source": []
  }
 ],
 "metadata": {
  "kernelspec": {
   "display_name": "Python 3",
   "language": "python",
   "name": "python3"
  },
  "language_info": {
   "codemirror_mode": {
    "name": "ipython",
    "version": 3
   },
   "file_extension": ".py",
   "mimetype": "text/x-python",
   "name": "python",
   "nbconvert_exporter": "python",
   "pygments_lexer": "ipython3",
   "version": "3.13.5"
  }
 },
 "nbformat": 4,
 "nbformat_minor": 5
}
