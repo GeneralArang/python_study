{
 "cells": [
  {
   "cell_type": "code",
   "execution_count": 4,
   "id": "a1f4eb9a",
   "metadata": {},
   "outputs": [
    {
     "name": "stdout",
     "output_type": "stream",
     "text": [
      "10 - 5 = ?\n",
      "\n",
      "정답입니다!!\n"
     ]
    }
   ],
   "source": [
    "def Four_Cal(First,Second):\n",
    "    import random\n",
    "\n",
    "    First = int(input(\"첫번째 정수를 입력하시오\"))\n",
    "    Second = int(input(\"두번째 정수를 입력하시오\"))\n",
    "\n",
    "    cal = [1,2,3,4]\n",
    "\n",
    "    choice_cal = random.choice(cal)\n",
    "\n",
    "    match choice_cal:\n",
    "        case 1:\n",
    "            print(f\"{First} + {Second} = ?\")\n",
    "            Answer = int(input(\"\\n정답은 : \"))\n",
    "            if Answer == First + Second:\n",
    "                print(\"\\n정답입니다!!\")\n",
    "            else:\n",
    "                print(\"오답입니다...\")\n",
    "        case 2:\n",
    "            print(f\"{First} - {Second} = ?\")\n",
    "            Answer = int(input(\"\\n정답은 : \"))\n",
    "            if Answer == First - Second:\n",
    "                print(\"\\n정답입니다!!\")\n",
    "            else:\n",
    "                print(\"오답입니다...\")\n",
    "        case 3:\n",
    "            print(f\"{First} * {Second} = ?\")\n",
    "            Answer = int(input(\"\\n정답은 : \"))\n",
    "            if Answer == First * Second:\n",
    "                print(\"\\n정답입니다!!\")\n",
    "            else:\n",
    "                print(\"오답입니다...\")\n",
    "        case 4:\n",
    "            print(f\"{First} / {Second} 의 몫은 ?\")\n",
    "            Answer = int(input(\"\\n정답은 : \"))\n",
    "            if Answer == First // Second:\n",
    "                print(\"\\n정답입니다!!\")\n",
    "            else:\n",
    "                print(\"오답입니다...\")\n",
    "\n",
    "First = 0\n",
    "Second = 0\n",
    "Four_Cal(First,Second)\n"
   ]
  },
  {
   "cell_type": "code",
   "execution_count": 9,
   "id": "502d2c04",
   "metadata": {},
   "outputs": [
    {
     "name": "stdout",
     "output_type": "stream",
     "text": [
      "4\n",
      "6\n",
      "\n",
      "4월 6일 입니다.\n"
     ]
    }
   ],
   "source": [
    "def WhatDate():\n",
    "    import random\n",
    "\n",
    "    month_pool = [1,2,3,4,5,6,7,8,9,10,11,12]\n",
    "    date_pool = [1,2,3,4,5,6,7,8,9,10,11,12,13,14,15,16,17,18,19,20,21,22,23,24,25,26,27,28,29,30,31]\n",
    "    Month = random.choice(month_pool)\n",
    "    Date = random.choice(date_pool)\n",
    "    print(Month)\n",
    "    print(Date)\n",
    "\n",
    "    while True:\n",
    "        What_month = int(input(\"몇월?\"))\n",
    "        What_date = int(input(\"몇일?\"))\n",
    "        if What_month == Month and What_date == Date:\n",
    "            print( f\"\\n{Month}월 {Date}일 입니다.\")\n",
    "            break\n",
    "        else:\n",
    "            print(\"아닙니다. 다시 입력하세요\")\n",
    "\n",
    "WhatDate()\n"
   ]
  },
  {
   "cell_type": "code",
   "execution_count": null,
   "id": "789c8180",
   "metadata": {},
   "outputs": [
    {
     "name": "stdout",
     "output_type": "stream",
     "text": [
      "3 0 5 0\n",
      "삼천오십\n"
     ]
    }
   ],
   "source": [
    "def Number_count_Write()\n",
    "    Numb = [0,1,2,3,4,5,6,7,8,9]\n",
    "    Voice = [\"\",\"일\", \"이\", \"삼\", \"사\", \"오\", \"육\", \"칠\", \"팔\", \"구\"]\n",
    "\n",
    "\n",
    "    Numb_Write = int(input(\"\\n최대 천의 자리 숫자를 입력하시오 : \"))\n",
    "\n",
    "    #아래의 문제점 = 실수가 나옴 -> 나머지가 자리수가 아래가 되고 그때 가장 윗 자리 수를 남긴다.\n",
    "    Thousand = Numb_Write // 1000\n",
    "    Hundred = (Numb_Write % 1000) //100\n",
    "    Ten = (Numb_Write % 100) // 10\n",
    "    One = Numb_Write % 10\n",
    "    Numb_list = [Thousand, Hundred, Ten, One]\n",
    "\n",
    "\n",
    "    print(Thousand, end=\" \")\n",
    "    print(Hundred, end=\" \")\n",
    "    print(Ten, end=\" \")\n",
    "    print(One)\n",
    "\n",
    "\n",
    "    for i in range(0,10):\n",
    "        if Numb[i] == Thousand:\n",
    "            break\n",
    "    for j in range(0,10):\n",
    "        if Numb[j] == Hundred:\n",
    "            break\n",
    "    for k in range(0,10):\n",
    "        if Numb[k] == Ten:\n",
    "            break\n",
    "    for l in range(0,10):\n",
    "        if Numb[l] == One:\n",
    "            break\n",
    "\n",
    "    if Thousand != 0:\n",
    "        print(f\"{Voice[Thousand]}천\",end=\"\")\n",
    "    if Hundred != 0:\n",
    "        print(f\"{Voice[Hundred]}백\",end=\"\")\n",
    "    if Ten != 0:\n",
    "        print(f\"{Voice[Ten]}십\",end=\"\")\n",
    "\n",
    "    print(f\"{Voice[One]}\")\n"
   ]
  },
  {
   "cell_type": "code",
   "execution_count": 20,
   "id": "a104342a",
   "metadata": {},
   "outputs": [
    {
     "name": "stdout",
     "output_type": "stream",
     "text": [
      "두 수의 최대공약수는 5입니다.\n"
     ]
    }
   ],
   "source": [
    "def GCO():\n",
    "    a = int(input(\"첫번째 정수를 입력하시오 : \"))\n",
    "    b = int(input(\"두번째 정수를 입력하시오 : \"))\n",
    "    c = min(a,b)+1\n",
    "\n",
    "    for i in range(1,c):\n",
    "        if a % i == 0 and b % i == 0:\n",
    "            c = i\n",
    "\n",
    "    print(f\"두 수의 최대공약수는 {c}입니다.\")\n",
    "\n",
    "GCO()\n"
   ]
  },
  {
   "cell_type": "code",
   "execution_count": 32,
   "id": "acc9722e",
   "metadata": {},
   "outputs": [
    {
     "name": "stdout",
     "output_type": "stream",
     "text": [
      "\n",
      "마지막 숫자를 입력하면 1에서 입력한 마지막 숫자까지의 소수를 구하는 프로그램입니다.\n",
      "2 3 5 7 11 13 17 19 23 29 31 37 41 43 47 "
     ]
    }
   ],
   "source": [
    "def testPrime(End_number):\n",
    "    print(\"\\n마지막 숫자를 입력하면 1에서 입력한 마지막 숫자까지의 소수를 구하는 프로그램입니다.\")\n",
    "    End_number = int(input(\"\\n마지막 숫자를 입력하시오 : \"))\n",
    "\n",
    "\n",
    "\n",
    "    for i in range(1,End_number):\n",
    "        count = 0\n",
    "        for j in range(1,i):\n",
    "            if i % j == 0:\n",
    "                count += 1\n",
    "\n",
    "        if count == 1:\n",
    "            print(f\"{i}\", end= \" \")\n",
    "\n",
    "n = 0\n",
    "testPrime(n)"
   ]
  }
 ],
 "metadata": {
  "kernelspec": {
   "display_name": "my_venv",
   "language": "python",
   "name": "python3"
  },
  "language_info": {
   "codemirror_mode": {
    "name": "ipython",
    "version": 3
   },
   "file_extension": ".py",
   "mimetype": "text/x-python",
   "name": "python",
   "nbconvert_exporter": "python",
   "pygments_lexer": "ipython3",
   "version": "3.13.4"
  }
 },
 "nbformat": 4,
 "nbformat_minor": 5
}
